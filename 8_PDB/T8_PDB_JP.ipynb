{
 "cells": [
  {
   "cell_type": "markdown",
   "metadata": {},
   "source": [
    "# トークトリアル 8\n",
    "\n",
    "# タンパク質データの取得: Protein Data Bank (PDB)\n",
    "\n",
    "#### Developed in the CADD seminars 2017 and 2018, AG Volkamer, Charité/FU Berlin \n",
    "\n",
    "Anja Georgi, Majid Vafadar and Dominique Sydow"
   ]
  },
  {
   "cell_type": "markdown",
   "metadata": {},
   "source": [
    "## このトークトリアルの目的\n",
    "\n",
    "このトークトリアルでは、次のトークトリアルのための土台を準備します。次のトークトリアルではEGFRに対するリガンドベースの組み合わせファーマコフォア（ligand-based ensemble pharmacophore）を作成します。したがって準備として(i) PDBデータベースからEGFRの全てのPDB IDを取得し、(ii) X線結晶構造解析による構造で、最も質の良い５つのタンパク質ーリガンド複合体構造を取得、そして、(iii) ５つの構造を互いに3Dで重ね合わせ（アラインメント）、次のトークトリアルで使用するためにリガンドを抜き出し保存します。\n",
    "\n",
    "## 学習の目標\n",
    "\n",
    "### 理論\n",
    "* Protein Data Bank (PDB)\n",
    "* Pythonパッケージ PyPDB\n",
    " \n",
    "### 実践\n",
    "\n",
    "* 検索するクエリタンパク質の選択\n",
    "* クエリタンパク質のPDBエントリーに関する統計値を取得\n",
    "* クエリタンパク質の全PDB IDを取得\n",
    "* PDBエントリーのメタ情報を取得\n",
    "* PDBエントリーのメタ情報をフィルタリングし並べ替え\n",
    "* 上位の構造からリガンドのメタ情報を取得\n",
    "* 上位リガンド化合物を描画\n",
    "* タンパク質ーリガンド　IDのペアを作成\n",
    "* PDB構造ファイルの取得\n",
    "* PDB構造の重ね合わせ\n",
    " \n",
    "## レファレンス\n",
    "\n",
    "* Protein Data Bank \n",
    "([PDB website](http://www.rcsb.org/pdb>))\n",
    "* PyPDB pythonパッケージ\n",
    "([<i>Bioinformatics</i> (2016), <b>32</b>, 159-60](https://academic.oup.com/bioinformatics/article-lookup/doi/10.1093/bioinformatics/btv543))\n",
    "* PyPDB pythonパッケージドキュメンテーション\n",
    "([PyPDB website](http://www.wgilpin.com/pypdb_docs/html/))\n",
    "* PyMol selection algebra \n",
    "([PyMolWiki: selection algebra](https://pymolwiki.org/index.php/Selection_Algebra))\n",
    "\n",
    "## 理論\n",
    "\n",
    "### Protein Data Bank (PDB)\n",
    "\n",
    "Protein Data Bank (PDB) は構造生物学に関する情報のデータベースの中で最も包括的なものの一つで、構造ゲノム科学と医薬品デザインといった構造生物学の分野で重要な情報源です。([PDB Webサイト](http://www.rcsb.org/pdb>))\n",
    "\n",
    "構造のデータは、X線結晶構造解析（最も良く使われている手法）、核磁気共鳴（NMR）そしてクライオ電子顕微鏡（cryo-EM）といった構造決定手法によって取得されています。各エントリーについて、データベースに含まれている情報には(i) タンパク質、リガンド、補因子、水分子、そしてイオンといった原子と、原子同士をつなぐ結合の３次元座標、そして(ii) PDB ID、著者、登録日、用いられた構造決定手法や構造の分解能といった構造情報に関するメタ情報があります。\n",
    "\n",
    "構造の分解能（resolution）は、集められたデータの質の指標で、単位はÅ（オングストローム）です。この値が小さいほど、構造の質はより良いものとなります。\n",
    "\n",
    "PDB　Webサイトはタンパク質の構造（と、手に入る場合はリガンドとの相互作用）の３次元描画と、構造の質の指標（メトリクス）とを提供しています。例として、上皮増殖因子（EGFR）のPDBエントリー  [PDB ID 3UG5](https://www.rcsb.org/structure/3UG5) で見ることができます。\n",
    "\n",
    "<img src=\"./images/protein-ligand-complex.png\" align=\"above\" alt=\"Image cannot be shown\" width=\"400\">\n",
    "<div align=\"center\"> Figure 1: 上皮増殖因子（EGFR）の例としてPDB ID 3UG5のタンパク質構造（灰色）と相互作用するリガンド（緑色）を描画（Dominique Sydowによる図）。</div>\n",
    "\n",
    "### PyPDB\n",
    "\n",
    "PyPDBはPDBのためのPythonプログラミングインターフェースで、Python3でのみ機能します。\n",
    "このパッケージを利用することで、バイオインフォマティクスのワークフローにPDB自動検索を組み込み、既存の検索結果に基づいて多数の検索をおこなうプロセスを簡略化することができます。\n",
    "また、PDBエントリーの情報について高度な検索を行うことも可能になります。PDBは現在RESTful APIを使用しており、標準的なHTMLボキャブラリーを使用して情報を取得することができます。PyPDBはこれらのオブジェクトをXML文字列に変換します。\n",
    "([<i>Bioinformatics</i> (2016), <b>32</b>, 159-60](https://academic.oup.com/bioinformatics/article-lookup/doi/10.1093/bioinformatics/btv543))\n",
    "\n",
    "提供されている機能（関数）のリストはPyPDBドキュメンテーションのWebサイトで見ることができます([PyPDB website](http://www.wgilpin.com/pypdb_docs/html/))。"
   ]
  },
  {
   "cell_type": "markdown",
   "metadata": {},
   "source": [
    "## 実践"
   ]
  },
  {
   "cell_type": "code",
   "execution_count": 3,
   "metadata": {},
   "outputs": [
    {
     "name": "stderr",
     "output_type": "stream",
     "text": [
      "RDKit WARNING: [17:08:30] Enabling RDKit 2019.09.3 jupyter extensions\n"
     ]
    }
   ],
   "source": [
    "# 必要なライブラリのインポート\n",
    "from pypdb import *\n",
    "from pymol import *\n",
    "\n",
    "from rdkit import Chem\n",
    "from rdkit.Chem.Draw import IPythonConsole\n",
    "from rdkit.Chem import Draw\n",
    "from rdkit.Chem import PandasTools\n",
    "IPythonConsole.ipython_useSVG=True\n",
    "\n",
    "import pprint\n",
    "import glob\n",
    "\n",
    "import pandas as pd\n",
    "from array import array\n",
    "import numpy as np\n",
    "import collections\n",
    "\n",
    "import matplotlib.pyplot as plt\n",
    "%matplotlib inline"
   ]
  },
  {
   "cell_type": "markdown",
   "metadata": {},
   "source": [
    "### 検索するクエリタンパク質の選択\n",
    "\n",
    "このトークトリアルではEGFRをクエリタンパク質として使います。EGFRのUniProt IDは`P00533`で、以降のPDBデータベース検索でこのIDを使います。\n",
    "\n",
    "### クエリタンパク質のPDBエントリーに関する統計値を取得\n",
    "\n",
    "まず最初の質問です。「EGFRについて、毎年いくつのエントリーがPDBに登録されていて、全体ではいくつになるのでしょうか？」\n",
    "\n",
    " [PDB Webサイト](http://www.rcsb.org/pdb>) で検索ターム「`P00533`」で検索することができます。2018年10月現在、PDBでの検索結果は179でした。\n",
    " \n",
    "**訳注(2020/05)**  \n",
    "2020年5月現在、検索結果は207でした。    \n",
    "**訳注ここまで**\n",
    " \n",
    "`pypdb`を使うと、PDBデータベースから全てのEGFR構造の登録日（deposition date）を取得することができます。`find_dates`関数のパラメーター`max_results`を設定するために、登録されている構造の数が必要となります。"
   ]
  },
  {
   "cell_type": "code",
   "execution_count": 18,
   "metadata": {
    "scrolled": true
   },
   "outputs": [],
   "source": [
    "#　注: max_results パラメーターのデフォルトは100でEGFRのエントリーに対して少なすぎます。\n",
    "# max_results > EGFR構造の最大の数 となるとエラーが出ます。\n",
    "# 従って実行前に結果がいくつあるかチェックしました。(#179) \n",
    "# 訳注: 2020年5月時点では207で、以下のコードも合わせて変更しています。207ではStopIterationとなったので205としています。\n",
    "\n",
    "# このデータベースクエリには時間がかかるかもしれません（数分程度）\n",
    "# all_dates = find_dates(\"P00533\", max_results=179)  \n",
    "all_dates = find_dates(\"P00533\", max_results=205)  "
   ]
  },
  {
   "cell_type": "code",
   "execution_count": 19,
   "metadata": {
    "scrolled": true
   },
   "outputs": [
    {
     "name": "stdout",
     "output_type": "stream",
     "text": [
      "Number of EGFR structures found: 205\n"
     ]
    }
   ],
   "source": [
    "print(\"Number of EGFR structures found: \" + str(len(all_dates)))"
   ]
  },
  {
   "cell_type": "code",
   "execution_count": 20,
   "metadata": {},
   "outputs": [
    {
     "data": {
      "text/plain": [
       "['2002-03-28', '2002-06-17', '2002-06-17']"
      ]
     },
     "execution_count": 20,
     "metadata": {},
     "output_type": "execute_result"
    }
   ],
   "source": [
    "# 登録日の例\n",
    "all_dates[:3]"
   ]
  },
  {
   "cell_type": "markdown",
   "metadata": {},
   "source": [
    "登録日から登録年の情報を抽出し、各年毎の登録数のヒストグラムを計算します。"
   ]
  },
  {
   "cell_type": "code",
   "execution_count": 21,
   "metadata": {},
   "outputs": [
    {
     "data": {
      "image/png": "[encoded data removed]",
      "text/plain": [
       "<Figure size 432x288 with 1 Axes>"
      ]
     },
     "metadata": {
      "needs_background": "light"
     },
     "output_type": "display_data"
    }
   ],
   "source": [
    "# 登録年の抽出\n",
    "all_dates = np.asarray(all_dates)\n",
    "all_years = np.asarray([int(depdate[:4]) for depdate in all_dates])\n",
    "\n",
    "# ヒストグラムの計算\n",
    "bins = max(all_years)-min(all_years)  # ビンの数 = 登録年の範囲\n",
    "subs_v_time = np.histogram(all_years, bins)\n",
    "\n",
    "# 全エントリー（2018年を除く）のプロット\n",
    "# 訳注: 最新年を除く設定なので用いたデータにより除かれる年は異なります\n",
    "dates, num_entries = subs_v_time[1][:-1], subs_v_time[0]  \n",
    "\n",
    "# ヒストグラムの表示\n",
    "fig = plt.figure()\n",
    "ax = plt.subplot(111)\n",
    "ax.fill_between(dates, 0, num_entries)\n",
    "ax.set_ylabel(\"New entries per year\")\n",
    "ax.set_xlabel(\"Year\")\n",
    "ax.set_title(\"PDB entries for EGFR\")\n",
    "plt.show()"
   ]
  },
  {
   "cell_type": "markdown",
   "metadata": {},
   "source": [
    "### クエリタンパク質の全PDB IDを取得\n",
    "\n",
    "次に、`pypdb`関数の`make_query`と`do_search`を使って、クエリタンパク質EGFRについての全てのPDB構造を取得します。"
   ]
  },
  {
   "cell_type": "code",
   "execution_count": 22,
   "metadata": {
    "scrolled": false
   },
   "outputs": [
    {
     "name": "stdout",
     "output_type": "stream",
     "text": [
      "PDB IDs found for query: \n",
      "['1IVO', '1M14', '1M17', '1MOX', '1XKK', '1YY9', '1Z9I', '2EB2', '2EB3', '2GS2', '2GS7', '2ITN', '2ITO', '2ITP', '2ITQ', '2ITT', '2ITU', '2ITV', '2ITW', '2ITX', '2ITY', '2ITZ', '2J5E', '2J5F', '2J6M', '2JIT', '2JIU', '2JIV', '2KS1', '2M0B', '2M20', '2N5S', '2RF9', '2RFD', '2RFE', '2RGP', '3B2U', '3B2V', '3BEL', '3BUO', '3C09', '3GOP', '3GT8', '3IKA', '3LZB', '3NJP', '3OB2', '3OP0', '3P0Y', '3PFV', '3POZ', '3QWQ', '3UG1', '3UG2', '3VJN', '3VJO', '3VRP', '3VRR', '3W2O', '3W2P', '3W2Q', '3W2R', '3W2S', '3W32', '3W33', '4G5J', '4G5P', '4HJO', '4I1Z', '4I20', '4I21', '4I22', '4I23', '4I24', '4JQ7', '4JQ8', '4JR3', '4JRV', '4KRL', '4KRM', '4KRO', '4KRP', '4LI5', '4LL0', '4LQM', '4LRM', '4R3P', '4R3R', '4R5S', '4RIW', '4RIX', '4RIY', '4RJ4', '4RJ5', '4RJ6', '4RJ7', '4RJ8', '4TKS', '4UIP', '4UV7', '4WD5', '4WKQ', '4WRG', '4ZAU', '4ZJV', '4ZSE', '5C8K', '5C8M', '5C8N', '5CAL', '5CAN', '5CAO', '5CAP', '5CAQ', '5CAS', '5CAU', '5CAV', '5CNN', '5CNO', '5CZH', '5CZI', '5D41', '5EDP', '5EDQ', '5EDR', '5EM5', '5EM6', '5EM7', '5EM8', '5FED', '5FEE', '5FEQ', '5GMP', '5GNK', '5GTY', '5GTZ', '5HCX', '5HCY', '5HCZ', '5HG5', '5HG7', '5HG8', '5HG9', '5HIB', '5HIC', '5J9Y', '5J9Z', '5JEB', '5LV6', '5SX4', '5SX5', '5U8L', '5UG8', '5UG9', '5UGA', '5UGB', '5UGC', '5UWD', '5WB7', '5WB8', '5X26', '5X27', '5X28', '5X2A', '5X2C', '5X2F', '5X2K', '5XDK', '5XDL', '5XGM', '5XGN', '5XWD', '5Y25', '5Y9T', '5YU9', '5ZTO', '5ZWJ', '6ARU', '6B3S', '6D8E', '6DUK', '6JRJ', '6JRK', '6JRX', '6JWL', '6JX0', '6JX4', '6JXT', '6JZ0', '6P1D', '6P1L', '6P8Q', '6S89', '6S8A', '6S9B', '6S9C', '6S9D', '6V5N', '6V5P', '6V66', '6V6K', '6V6O', '6VH4', '6VHN', '6VHP']\n",
      "\n",
      "Number of structures: 205\n"
     ]
    }
   ],
   "source": [
    "search_dict = make_query(\"P00533\")  #  max_resultsが180以上の場合タイムアウトになる可能性があります。\n",
    "found_pdb_ids = do_search(search_dict)\n",
    "\n",
    "print(\"PDB IDs found for query: \")\n",
    "print(found_pdb_ids)\n",
    "\n",
    "print(\"\\nNumber of structures: \" + str(len(found_pdb_ids)))"
   ]
  },
  {
   "cell_type": "markdown",
   "metadata": {},
   "source": [
    "**訳注(05/2020)**  \n",
    "RCSB PDBのWebページで「P00533」を検索するとヒットしたエントリーは207でしたが、ここでは205個のエントリーがヒットしています。「2.5.2節：クエリタンパク質のPDBエントリーに関する統計値を取得」において`max_results=207`とすると途中でとまってしまいましたが、`205`では実行可能でした。タイムアウトが原因か、もしくはデータベースの問題かはわかりませんでした。  \n",
    "**訳注ここまで**"
   ]
  },
  {
   "cell_type": "markdown",
   "metadata": {},
   "source": [
    "### PDBエントリーのメタ情報を取得\n",
    "\n",
    "`describe_pdb`を使って構造のメタ情報を取得します。メタ情報は構造毎に辞書として格納されます。\n",
    "\n",
    "注：ここではPDB構造のメタ情報を取得するだけで、構造そのもの（３次元座標）はまだ取得しません。"
   ]
  },
  {
   "cell_type": "code",
   "execution_count": 23,
   "metadata": {
    "scrolled": true
   },
   "outputs": [
    {
     "data": {
      "text/plain": [
       "{'relatedPDB': {'@pdbId': '1JL9',\n",
       "  '@details': '1JL9 contains dymeric human EGF molecules.'},\n",
       " 'structureId': '1IVO',\n",
       " 'title': 'Crystal Structure of the Complex of Human Epidermal Growth Factor and Receptor Extracellular Domains.',\n",
       " 'pubmedId': '12297050',\n",
       " 'expMethod': 'X-RAY DIFFRACTION',\n",
       " 'resolution': '3.30',\n",
       " 'keywords': 'TRANSFERASE/SIGNALING PROTEIN',\n",
       " 'nr_entities': '2',\n",
       " 'nr_residues': '1350',\n",
       " 'nr_atoms': '8813',\n",
       " 'deposition_date': '2002-03-28',\n",
       " 'release_date': '2002-10-16',\n",
       " 'last_modification_date': '2011-07-13',\n",
       " 'structure_authors': 'Ogiso, H., Ishitani, R., Nureki, O., Fukai, S., Yamanaka, M., Kim, J.H., Saito, K., Shirouzu, M., Yokoyama, S., RIKEN Structural Genomics/Proteomics Initiative (RSGI)',\n",
       " 'citation_authors': 'Ogiso, H., Ishitani, R., Nureki, O., Fukai, S., Yamanaka, M., Kim, J.H., Saito, K., Inoue, M., Shirouzu, M., Yokoyama, S.',\n",
       " 'status': 'CURRENT'}"
      ]
     },
     "execution_count": 23,
     "metadata": {},
     "output_type": "execute_result"
    }
   ],
   "source": [
    "# このデータベースクエリには少し時間がかかるかもしれません。\n",
    "pdbs = []\n",
    "for i in found_pdb_ids:\n",
    "  pdbs.append(describe_pdb(i))\n",
    "\n",
    "pdbs[0]"
   ]
  },
  {
   "cell_type": "markdown",
   "metadata": {},
   "source": [
    "### PDBエントリーのメタ情報をフィルタリングし並べ替え\n",
    "\n",
    "取得した情報を関連するPDB構造をフィルタリングして絞り込むために使いたいので、データセットを辞書からより扱いやすいデータフレームに変換します。"
   ]
  },
  {
   "cell_type": "code",
   "execution_count": 24,
   "metadata": {
    "scrolled": true
   },
   "outputs": [
    {
     "data": {
      "text/html": [
       "<div>\n",
       "<style scoped>\n",
       "    .dataframe tbody tr th:only-of-type {\n",
       "        vertical-align: middle;\n",
       "    }\n",
       "\n",
       "    .dataframe tbody tr th {\n",
       "        vertical-align: top;\n",
       "    }\n",
       "\n",
       "    .dataframe thead th {\n",
       "        text-align: right;\n",
       "    }\n",
       "</style>\n",
       "<table border=\"1\" class=\"dataframe\">\n",
       "  <thead>\n",
       "    <tr style=\"text-align: right;\">\n",
       "      <th></th>\n",
       "      <th>relatedPDB</th>\n",
       "      <th>structureId</th>\n",
       "      <th>title</th>\n",
       "      <th>pubmedId</th>\n",
       "      <th>expMethod</th>\n",
       "      <th>resolution</th>\n",
       "      <th>keywords</th>\n",
       "      <th>nr_entities</th>\n",
       "      <th>nr_residues</th>\n",
       "      <th>nr_atoms</th>\n",
       "      <th>deposition_date</th>\n",
       "      <th>release_date</th>\n",
       "      <th>last_modification_date</th>\n",
       "      <th>structure_authors</th>\n",
       "      <th>citation_authors</th>\n",
       "      <th>status</th>\n",
       "      <th>pubmedCentralId</th>\n",
       "    </tr>\n",
       "  </thead>\n",
       "  <tbody>\n",
       "    <tr>\n",
       "      <th>0</th>\n",
       "      <td>{'@pdbId': '1JL9', '@details': '1JL9 contains ...</td>\n",
       "      <td>1IVO</td>\n",
       "      <td>Crystal Structure of the Complex of Human Epid...</td>\n",
       "      <td>12297050</td>\n",
       "      <td>X-RAY DIFFRACTION</td>\n",
       "      <td>3.30</td>\n",
       "      <td>TRANSFERASE/SIGNALING PROTEIN</td>\n",
       "      <td>2</td>\n",
       "      <td>1350</td>\n",
       "      <td>8813</td>\n",
       "      <td>2002-03-28</td>\n",
       "      <td>2002-10-16</td>\n",
       "      <td>2011-07-13</td>\n",
       "      <td>Ogiso, H., Ishitani, R., Nureki, O., Fukai, S....</td>\n",
       "      <td>Ogiso, H., Ishitani, R., Nureki, O., Fukai, S....</td>\n",
       "      <td>CURRENT</td>\n",
       "      <td>NaN</td>\n",
       "    </tr>\n",
       "    <tr>\n",
       "      <th>1</th>\n",
       "      <td>{'@pdbId': '1M17', '@details': 'Epidermal Grow...</td>\n",
       "      <td>1M14</td>\n",
       "      <td>Tyrosine Kinase Domain from Epidermal Growth F...</td>\n",
       "      <td>12196540</td>\n",
       "      <td>X-RAY DIFFRACTION</td>\n",
       "      <td>2.60</td>\n",
       "      <td>TRANSFERASE</td>\n",
       "      <td>1</td>\n",
       "      <td>333</td>\n",
       "      <td>2452</td>\n",
       "      <td>2002-06-17</td>\n",
       "      <td>2002-09-04</td>\n",
       "      <td>2011-07-13</td>\n",
       "      <td>Stamos, J., Sliwkowski, M.X., Eigenbrot, C.</td>\n",
       "      <td>Stamos, J., Sliwkowski, M.X., Eigenbrot, C.</td>\n",
       "      <td>CURRENT</td>\n",
       "      <td>NaN</td>\n",
       "    </tr>\n",
       "    <tr>\n",
       "      <th>2</th>\n",
       "      <td>{'@pdbId': '1M14', '@details': 'Apo-form Epide...</td>\n",
       "      <td>1M17</td>\n",
       "      <td>Epidermal Growth Factor Receptor tyrosine kina...</td>\n",
       "      <td>12196540</td>\n",
       "      <td>X-RAY DIFFRACTION</td>\n",
       "      <td>2.60</td>\n",
       "      <td>TRANSFERASE</td>\n",
       "      <td>1</td>\n",
       "      <td>333</td>\n",
       "      <td>2540</td>\n",
       "      <td>2002-06-17</td>\n",
       "      <td>2002-09-04</td>\n",
       "      <td>2011-07-13</td>\n",
       "      <td>Stamos, J., Sliwkowski, M.X., Eigenbrot, C.</td>\n",
       "      <td>Stamos, J., Sliwkowski, M.X., Eigenbrot, C.</td>\n",
       "      <td>CURRENT</td>\n",
       "      <td>NaN</td>\n",
       "    </tr>\n",
       "    <tr>\n",
       "      <th>3</th>\n",
       "      <td>[{'@pdbId': '1IGR', '@details': '1IGR contains...</td>\n",
       "      <td>1MOX</td>\n",
       "      <td>Crystal Structure of Human Epidermal Growth Fa...</td>\n",
       "      <td>12297049</td>\n",
       "      <td>X-RAY DIFFRACTION</td>\n",
       "      <td>2.50</td>\n",
       "      <td>transferase/growth factor</td>\n",
       "      <td>2</td>\n",
       "      <td>1102</td>\n",
       "      <td>8607</td>\n",
       "      <td>2002-09-10</td>\n",
       "      <td>2003-09-10</td>\n",
       "      <td>2011-07-13</td>\n",
       "      <td>Garrett, T.P.J., McKern, N.M., Lou, M., Ellema...</td>\n",
       "      <td>Garrett, T.P.J., McKern, N.M., Lou, M., Ellema...</td>\n",
       "      <td>CURRENT</td>\n",
       "      <td>NaN</td>\n",
       "    </tr>\n",
       "    <tr>\n",
       "      <th>4</th>\n",
       "      <td>NaN</td>\n",
       "      <td>1XKK</td>\n",
       "      <td>EGFR kinase domain complexed with a quinazolin...</td>\n",
       "      <td>15374980</td>\n",
       "      <td>X-RAY DIFFRACTION</td>\n",
       "      <td>2.40</td>\n",
       "      <td>TRANSFERASE</td>\n",
       "      <td>1</td>\n",
       "      <td>352</td>\n",
       "      <td>2299</td>\n",
       "      <td>2004-09-29</td>\n",
       "      <td>2004-12-07</td>\n",
       "      <td>2011-07-13</td>\n",
       "      <td>Wood, E.R., Truesdale, A.T., McDonald, O.B., Y...</td>\n",
       "      <td>Wood, E.R., Truesdale, A.T., McDonald, O.B., Y...</td>\n",
       "      <td>CURRENT</td>\n",
       "      <td>NaN</td>\n",
       "    </tr>\n",
       "  </tbody>\n",
       "</table>\n",
       "</div>"
      ],
      "text/plain": [
       "                                          relatedPDB structureId  \\\n",
       "0  {'@pdbId': '1JL9', '@details': '1JL9 contains ...        1IVO   \n",
       "1  {'@pdbId': '1M17', '@details': 'Epidermal Grow...        1M14   \n",
       "2  {'@pdbId': '1M14', '@details': 'Apo-form Epide...        1M17   \n",
       "3  [{'@pdbId': '1IGR', '@details': '1IGR contains...        1MOX   \n",
       "4                                                NaN        1XKK   \n",
       "\n",
       "                                               title  pubmedId  \\\n",
       "0  Crystal Structure of the Complex of Human Epid...  12297050   \n",
       "1  Tyrosine Kinase Domain from Epidermal Growth F...  12196540   \n",
       "2  Epidermal Growth Factor Receptor tyrosine kina...  12196540   \n",
       "3  Crystal Structure of Human Epidermal Growth Fa...  12297049   \n",
       "4  EGFR kinase domain complexed with a quinazolin...  15374980   \n",
       "\n",
       "           expMethod resolution                       keywords nr_entities  \\\n",
       "0  X-RAY DIFFRACTION       3.30  TRANSFERASE/SIGNALING PROTEIN           2   \n",
       "1  X-RAY DIFFRACTION       2.60                    TRANSFERASE           1   \n",
       "2  X-RAY DIFFRACTION       2.60                    TRANSFERASE           1   \n",
       "3  X-RAY DIFFRACTION       2.50      transferase/growth factor           2   \n",
       "4  X-RAY DIFFRACTION       2.40                    TRANSFERASE           1   \n",
       "\n",
       "  nr_residues nr_atoms deposition_date release_date last_modification_date  \\\n",
       "0        1350     8813      2002-03-28   2002-10-16             2011-07-13   \n",
       "1         333     2452      2002-06-17   2002-09-04             2011-07-13   \n",
       "2         333     2540      2002-06-17   2002-09-04             2011-07-13   \n",
       "3        1102     8607      2002-09-10   2003-09-10             2011-07-13   \n",
       "4         352     2299      2004-09-29   2004-12-07             2011-07-13   \n",
       "\n",
       "                                   structure_authors  \\\n",
       "0  Ogiso, H., Ishitani, R., Nureki, O., Fukai, S....   \n",
       "1        Stamos, J., Sliwkowski, M.X., Eigenbrot, C.   \n",
       "2        Stamos, J., Sliwkowski, M.X., Eigenbrot, C.   \n",
       "3  Garrett, T.P.J., McKern, N.M., Lou, M., Ellema...   \n",
       "4  Wood, E.R., Truesdale, A.T., McDonald, O.B., Y...   \n",
       "\n",
       "                                    citation_authors   status pubmedCentralId  \n",
       "0  Ogiso, H., Ishitani, R., Nureki, O., Fukai, S....  CURRENT             NaN  \n",
       "1        Stamos, J., Sliwkowski, M.X., Eigenbrot, C.  CURRENT             NaN  \n",
       "2        Stamos, J., Sliwkowski, M.X., Eigenbrot, C.  CURRENT             NaN  \n",
       "3  Garrett, T.P.J., McKern, N.M., Lou, M., Ellema...  CURRENT             NaN  \n",
       "4  Wood, E.R., Truesdale, A.T., McDonald, O.B., Y...  CURRENT             NaN  "
      ]
     },
     "execution_count": 24,
     "metadata": {},
     "output_type": "execute_result"
    }
   ],
   "source": [
    "pdbs = pd.DataFrame(pdbs)\n",
    "pdbs.head()"
   ]
  },
  {
   "cell_type": "code",
   "execution_count": 25,
   "metadata": {
    "scrolled": true
   },
   "outputs": [
    {
     "name": "stdout",
     "output_type": "stream",
     "text": [
      "Number of PDB structures for EGFR: 205\n"
     ]
    }
   ],
   "source": [
    "print(\"Number of PDB structures for EGFR: \" + str(len(pdbs)))"
   ]
  },
  {
   "cell_type": "markdown",
   "metadata": {},
   "source": [
    "データセットを以下のクライテリアに沿ってフィルタリングしていきます。\n",
    "\n",
    "#### 1. 実験手法：X線回折（X-ray diffraction）\n",
    "\n",
    "X線回折（`X-RAY DIFFRACTION`）によって解かれた構造のみを残します。X線回折は最もよく使われている構造決定手法です。"
   ]
  },
  {
   "cell_type": "code",
   "execution_count": 26,
   "metadata": {
    "scrolled": true
   },
   "outputs": [
    {
     "name": "stdout",
     "output_type": "stream",
     "text": [
      "Number of PDB structures for EGFR from X-ray: 199\n"
     ]
    }
   ],
   "source": [
    "pdbs = pdbs[pdbs.expMethod ==\"X-RAY DIFFRACTION\"]\n",
    "print(\"Number of PDB structures for EGFR from X-ray: \" + str(len(pdbs)))"
   ]
  },
  {
   "cell_type": "markdown",
   "metadata": {},
   "source": [
    "#### 2. 構造分解能\n",
    "\n",
    "分解能が3Å（Angström）以下の構造のみを残します。分解能の値が小さいほど、構造の質が良くなります（＝質が良いとは、原子に割り当てられた３次元座標の確からしさが高くなるということです）。3Åよりも下の場合、原子レベルの配置を決めることができ、したがって構造に基づく医薬品デザイン（structure-based drug design）に関連する構造を選択するための閾値として使われることがよくあります。"
   ]
  },
  {
   "cell_type": "code",
   "execution_count": 27,
   "metadata": {
    "scrolled": true
   },
   "outputs": [
    {
     "name": "stdout",
     "output_type": "stream",
     "text": [
      "Number of PDB structures for EGFR from X-ray with resolution <= 3.0 Angström: 164\n"
     ]
    }
   ],
   "source": [
    "pdbs_resolution = [float(i) for i in pdbs.resolution.tolist()]\n",
    "pdbs = pdbs[[i <= 3.0 for i in pdbs_resolution]]\n",
    "\n",
    "print(\"Number of PDB structures for EGFR from X-ray with resolution <= 3.0 Angström: \" + str(len(pdbs)))"
   ]
  },
  {
   "cell_type": "markdown",
   "metadata": {},
   "source": [
    "データセットを構造の分解能で並べ替えます。"
   ]
  },
  {
   "cell_type": "code",
   "execution_count": 28,
   "metadata": {
    "scrolled": true
   },
   "outputs": [],
   "source": [
    "pdbs = pdbs.sort_values([\"resolution\"], \n",
    "                        ascending=True, \n",
    "                        na_position='last')"
   ]
  },
  {
   "cell_type": "markdown",
   "metadata": {},
   "source": [
    "（分解能でソートした）上位のPDB構造を確認します。"
   ]
  },
  {
   "cell_type": "code",
   "execution_count": 29,
   "metadata": {
    "scrolled": true
   },
   "outputs": [
    {
     "data": {
      "text/html": [
       "<div>\n",
       "<style scoped>\n",
       "    .dataframe tbody tr th:only-of-type {\n",
       "        vertical-align: middle;\n",
       "    }\n",
       "\n",
       "    .dataframe tbody tr th {\n",
       "        vertical-align: top;\n",
       "    }\n",
       "\n",
       "    .dataframe thead th {\n",
       "        text-align: right;\n",
       "    }\n",
       "</style>\n",
       "<table border=\"1\" class=\"dataframe\">\n",
       "  <thead>\n",
       "    <tr style=\"text-align: right;\">\n",
       "      <th></th>\n",
       "      <th>structureId</th>\n",
       "      <th>resolution</th>\n",
       "    </tr>\n",
       "  </thead>\n",
       "  <tbody>\n",
       "    <tr>\n",
       "      <th>153</th>\n",
       "      <td>5UG9</td>\n",
       "      <td>1.33</td>\n",
       "    </tr>\n",
       "    <tr>\n",
       "      <th>141</th>\n",
       "      <td>5HG8</td>\n",
       "      <td>1.42</td>\n",
       "    </tr>\n",
       "    <tr>\n",
       "      <th>152</th>\n",
       "      <td>5UG8</td>\n",
       "      <td>1.46</td>\n",
       "    </tr>\n",
       "    <tr>\n",
       "      <th>50</th>\n",
       "      <td>3POZ</td>\n",
       "      <td>1.50</td>\n",
       "    </tr>\n",
       "    <tr>\n",
       "      <th>56</th>\n",
       "      <td>3VRP</td>\n",
       "      <td>1.52</td>\n",
       "    </tr>\n",
       "  </tbody>\n",
       "</table>\n",
       "</div>"
      ],
      "text/plain": [
       "    structureId resolution\n",
       "153        5UG9       1.33\n",
       "141        5HG8       1.42\n",
       "152        5UG8       1.46\n",
       "50         3POZ       1.50\n",
       "56         3VRP       1.52"
      ]
     },
     "execution_count": 29,
     "metadata": {},
     "output_type": "execute_result"
    }
   ],
   "source": [
    "pdbs.head()[[\"structureId\", \"resolution\"]]"
   ]
  },
  {
   "cell_type": "markdown",
   "metadata": {},
   "source": [
    "#### 3. リガンドの結合した構造\n",
    "\n",
    "次のトークトリアルでリガンドベースの組み合わせファーマコフォア（ensemble ligand-based pharmacophore）を作成するので、データフレームから結合するリガンドを含まないPDB構造を取り除きます。`pypdb`関数の`get_ligands`を使うことでPDB構造に含まれるリガンドの確認と取得ができます。PDBでリガンドと分類されているものにはリガンド、補因子だけでなく溶媒とイオンも含まれています。リガンドの結合した構造だけに絞り込むため、(i) リガンドに分類されている物を含まないすべての構造を取り除き、そして(ii) 分子量（MW）100Da（ダルトン）以上のリガンドを含まない構造をすべて取り除きます。分子量100Daとするのは多くの溶媒とイオンの分子量がそれよりも小さいからです。注：この方法は簡単ですが、全ての溶媒とイオンを除去する方法ではありません。"
   ]
  },
  {
   "cell_type": "code",
   "execution_count": 30,
   "metadata": {},
   "outputs": [],
   "source": [
    "# データフレームからPDB IDを取得\n",
    "# pdb_ids = pdbs[\"structureId\"].get_values().tolist() \n",
    "# 訳注: オリジナル資料の上記コードはpandas version 0.25.0以降では使用できなくなっています。\n",
    "pdb_ids = pdbs[\"structureId\"].to_numpy().tolist() "
   ]
  },
  {
   "cell_type": "code",
   "execution_count": 31,
   "metadata": {
    "scrolled": true
   },
   "outputs": [
    {
     "name": "stdout",
     "output_type": "stream",
     "text": [
      "PDB structures without a ligand (removed from our data set):\n",
      "['2EB2', '1M14', '2GS2', '2RFE', '4I1Z']\n"
     ]
    }
   ],
   "source": [
    "# 構造の除去\n",
    "# (i) リガンドを持たないもの\n",
    "# (ii) 分子量(MW)が100 Da(Dalton)以上のリガンドを持たないもの\n",
    "\n",
    "mw_cutoff = 100.0  # 分子量のカットオフ値（単位Da）\n",
    "\n",
    "# このデータベースクエリはしばらく時間がかかるかもしれません\n",
    "removed_pdb_ids = []\n",
    "for i in pdb_ids:\n",
    "    ligand_dict = get_ligands(i)\n",
    "    \n",
    "    # (i) リガンドがない場合に構造を取り除く\n",
    "    if ligand_dict[\"ligandInfo\"] is None:\n",
    "        pdb_ids.remove(i) # リストからリガンドのないPDB IDを取り除く\n",
    "        removed_pdb_ids.append(i) # リガンドのないPDB IDを格納\n",
    "    \n",
    "    # (ii) mw_cutoff以上の分子量のリガンドを一つも持たない構造の除去\n",
    "    else:\n",
    "        # リガンド情報の取得\n",
    "        ligs = ligand_dict[\"ligandInfo\"][\"ligand\"]\n",
    "        # 専門的な事項：リガンドが一つの時、辞書型からリスト型へキャストします（続けてリスト内包表記処理するため）\n",
    "        if type(ligs) == dict:\n",
    "            ligs = [ligs]\n",
    "        # リガンドと分類されているもの毎に分子量を取得\n",
    "        mw_list = [float(i[\"@molecularWeight\"]) for i in ligs]\n",
    "        # 分子量（MW）100Da（ダルトン）以上のリガンドを含まない構造を除去\n",
    "        if sum([mw > mw_cutoff for mw in mw_list]) == 0:\n",
    "            pdb_ids.remove(i) # リストからリガンドのないPDB IDを取り除く\n",
    "            removed_pdb_ids.append(i) # リガンドのないPDB IDを格納\n",
    "\n",
    "print(\"PDB structures without a ligand (removed from our data set):\")\n",
    "print(removed_pdb_ids)"
   ]
  },
  {
   "cell_type": "code",
   "execution_count": 32,
   "metadata": {
    "scrolled": true
   },
   "outputs": [
    {
     "name": "stdout",
     "output_type": "stream",
     "text": [
      "Number of structures with ligand: 159\n"
     ]
    }
   ],
   "source": [
    "print(\"Number of structures with ligand: \" + str(len(pdb_ids)))"
   ]
  },
  {
   "cell_type": "markdown",
   "metadata": {},
   "source": [
    "### 上位の構造からリガンドのメタ情報を取得\n",
    "\n",
    "次のトークトリアルでは、最も分解能の高い上位の`top_num`構造からリガンドベースの組み合わせファーマコフォアを作成します。"
   ]
  },
  {
   "cell_type": "code",
   "execution_count": 33,
   "metadata": {
    "scrolled": true
   },
   "outputs": [
    {
     "data": {
      "text/plain": [
       "['5UG9', '5HG8', '5UG8', '3POZ']"
      ]
     },
     "execution_count": 33,
     "metadata": {},
     "output_type": "execute_result"
    }
   ],
   "source": [
    "top_num = 4  # 上位の構造の数\n",
    "pdb_ids = pdb_ids[0:top_num]\n",
    "pdb_ids"
   ]
  },
  {
   "cell_type": "markdown",
   "metadata": {},
   "source": [
    "`get_ligands`を使って上位`top_num`個のリガンドについてPDB情報を取得し、*csv* ファイルとして保存します（リガンド毎の辞書）。\n",
    "\n",
    "構造が複数のリガンドを含んでいる場合、最も大きなリガンドを選びます。注：これは単純な方法で、タンパク質の結合サイトに結合するリガンドを選択するうえで完璧な方法ではありません。このアプローチではタンパク質に結合する補因子を選んでしまう可能性もあります。ですので、以降のステップで使用する前に、PyMolで自動的に選択した上位のリガンドをチェックしてください。"
   ]
  },
  {
   "cell_type": "code",
   "execution_count": 34,
   "metadata": {
    "scrolled": true
   },
   "outputs": [
    {
     "data": {
      "text/html": [
       "<div>\n",
       "<style scoped>\n",
       "    .dataframe tbody tr th:only-of-type {\n",
       "        vertical-align: middle;\n",
       "    }\n",
       "\n",
       "    .dataframe tbody tr th {\n",
       "        vertical-align: top;\n",
       "    }\n",
       "\n",
       "    .dataframe thead th {\n",
       "        text-align: right;\n",
       "    }\n",
       "</style>\n",
       "<table border=\"1\" class=\"dataframe\">\n",
       "  <thead>\n",
       "    <tr style=\"text-align: right;\">\n",
       "      <th></th>\n",
       "      <th>@structureId</th>\n",
       "      <th>@chemicalID</th>\n",
       "      <th>@type</th>\n",
       "      <th>@molecularWeight</th>\n",
       "      <th>chemicalName</th>\n",
       "      <th>formula</th>\n",
       "      <th>InChI</th>\n",
       "      <th>InChIKey</th>\n",
       "      <th>smiles</th>\n",
       "    </tr>\n",
       "  </thead>\n",
       "  <tbody>\n",
       "    <tr>\n",
       "      <th>0</th>\n",
       "      <td>5UG9</td>\n",
       "      <td>8AM</td>\n",
       "      <td>non-polymer</td>\n",
       "      <td>445.494</td>\n",
       "      <td>N-[(3R,4R)-4-fluoro-1-{6-[(3-methoxy-1-methyl-...</td>\n",
       "      <td>C20 H28 F N9 O2</td>\n",
       "      <td>InChI=1S/C20H28FN9O2/c1-6-15(31)23-13-9-29(7-1...</td>\n",
       "      <td>MJLFLAORJNTNDV-CHWSQXEVSA-N</td>\n",
       "      <td>CCC(=O)N[C@@H]1CN(C[C@H]1F)c2nc(c3c(n2)n(cn3)C...</td>\n",
       "    </tr>\n",
       "    <tr>\n",
       "      <th>1</th>\n",
       "      <td>5HG8</td>\n",
       "      <td>634</td>\n",
       "      <td>non-polymer</td>\n",
       "      <td>377.4</td>\n",
       "      <td>N-[3-({2-[(1-methyl-1H-pyrazol-4-yl)amino]-7H-...</td>\n",
       "      <td>C19 H19 N7 O2</td>\n",
       "      <td>InChI=1S/C19H19N7O2/c1-3-16(27)22-12-5-4-6-14(...</td>\n",
       "      <td>YWNHZBNRKJYHTR-UHFFFAOYSA-N</td>\n",
       "      <td>CCC(=O)Nc1cccc(c1)Oc2c3cc[nH]c3nc(n2)Nc4cnn(c4)C</td>\n",
       "    </tr>\n",
       "    <tr>\n",
       "      <th>2</th>\n",
       "      <td>5UG8</td>\n",
       "      <td>8BP</td>\n",
       "      <td>non-polymer</td>\n",
       "      <td>415.468</td>\n",
       "      <td>N-[(3R,4R)-4-fluoro-1-{6-[(1-methyl-1H-pyrazol...</td>\n",
       "      <td>C19 H26 F N9 O</td>\n",
       "      <td>InChI=1S/C19H26FN9O/c1-5-15(30)24-14-9-28(8-13...</td>\n",
       "      <td>CGULPICMFDDQRH-ZIAGYGMSSA-N</td>\n",
       "      <td>CCC(=O)N[C@@H]1CN(C[C@H]1F)c2nc(c3c(n2)n(cn3)C...</td>\n",
       "    </tr>\n",
       "    <tr>\n",
       "      <th>3</th>\n",
       "      <td>3POZ</td>\n",
       "      <td>03P</td>\n",
       "      <td>non-polymer</td>\n",
       "      <td>547.957</td>\n",
       "      <td>N-{2-[4-({3-chloro-4-[3-(trifluoromethyl)pheno...</td>\n",
       "      <td>C26 H25 Cl F3 N5 O3</td>\n",
       "      <td>InChI=1S/C26H25ClF3N5O3/c1-25(2,37)14-22(36)31...</td>\n",
       "      <td>ZYQXEVJIFYIBHZ-UHFFFAOYSA-N</td>\n",
       "      <td>CC(C)(CC(=O)NCCn1ccc2c1c(ncn2)Nc3ccc(c(c3)Cl)O...</td>\n",
       "    </tr>\n",
       "  </tbody>\n",
       "</table>\n",
       "</div>"
      ],
      "text/plain": [
       "  @structureId @chemicalID        @type @molecularWeight  \\\n",
       "0         5UG9         8AM  non-polymer          445.494   \n",
       "1         5HG8         634  non-polymer            377.4   \n",
       "2         5UG8         8BP  non-polymer          415.468   \n",
       "3         3POZ         03P  non-polymer          547.957   \n",
       "\n",
       "                                        chemicalName              formula  \\\n",
       "0  N-[(3R,4R)-4-fluoro-1-{6-[(3-methoxy-1-methyl-...      C20 H28 F N9 O2   \n",
       "1  N-[3-({2-[(1-methyl-1H-pyrazol-4-yl)amino]-7H-...        C19 H19 N7 O2   \n",
       "2  N-[(3R,4R)-4-fluoro-1-{6-[(1-methyl-1H-pyrazol...       C19 H26 F N9 O   \n",
       "3  N-{2-[4-({3-chloro-4-[3-(trifluoromethyl)pheno...  C26 H25 Cl F3 N5 O3   \n",
       "\n",
       "                                               InChI  \\\n",
       "0  InChI=1S/C20H28FN9O2/c1-6-15(31)23-13-9-29(7-1...   \n",
       "1  InChI=1S/C19H19N7O2/c1-3-16(27)22-12-5-4-6-14(...   \n",
       "2  InChI=1S/C19H26FN9O/c1-5-15(30)24-14-9-28(8-13...   \n",
       "3  InChI=1S/C26H25ClF3N5O3/c1-25(2,37)14-22(36)31...   \n",
       "\n",
       "                      InChIKey  \\\n",
       "0  MJLFLAORJNTNDV-CHWSQXEVSA-N   \n",
       "1  YWNHZBNRKJYHTR-UHFFFAOYSA-N   \n",
       "2  CGULPICMFDDQRH-ZIAGYGMSSA-N   \n",
       "3  ZYQXEVJIFYIBHZ-UHFFFAOYSA-N   \n",
       "\n",
       "                                              smiles  \n",
       "0  CCC(=O)N[C@@H]1CN(C[C@H]1F)c2nc(c3c(n2)n(cn3)C...  \n",
       "1   CCC(=O)Nc1cccc(c1)Oc2c3cc[nH]c3nc(n2)Nc4cnn(c4)C  \n",
       "2  CCC(=O)N[C@@H]1CN(C[C@H]1F)c2nc(c3c(n2)n(cn3)C...  \n",
       "3  CC(C)(CC(=O)NCCn1ccc2c1c(ncn2)Nc3ccc(c(c3)Cl)O...  "
      ]
     },
     "execution_count": 34,
     "metadata": {},
     "output_type": "execute_result"
    }
   ],
   "source": [
    "ligands_list = []\n",
    "\n",
    "for i in pdb_ids:\n",
    "    ligands = get_ligands(i)[\"ligandInfo\"][\"ligand\"]\n",
    "    # 専門的な事項：リガンドが一つの時、辞書型からリスト型へキャストします（続けてリスト内包表記処理するため）\n",
    "    if type(ligands) == dict:\n",
    "        ligands = [ligands]\n",
    "\n",
    "    weight = 0\n",
    "    this_lig = {}\n",
    "    \n",
    "    # 幾つかリガンドが含まれている場合、最大のものを取得\n",
    "    for lig in ligands:\n",
    "        if float(lig[\"@molecularWeight\"]) > weight:\n",
    "            this_lig = lig\n",
    "            weight = float(lig[\"@molecularWeight\"])\n",
    "            \n",
    "    ligands_list.append(this_lig)\n",
    "\n",
    "# フォーマットをデータフレームに変更\n",
    "ligs = pd.DataFrame(ligands_list)\n",
    "ligs"
   ]
  },
  {
   "cell_type": "code",
   "execution_count": 35,
   "metadata": {},
   "outputs": [],
   "source": [
    "ligs.to_csv('../data/T8/PDB_top_ligands.csv', header=True, index=False, sep='\\t')"
   ]
  },
  {
   "cell_type": "markdown",
   "metadata": {},
   "source": [
    "### 上位リガンド分子の描画"
   ]
  },
  {
   "cell_type": "code",
   "execution_count": 36,
   "metadata": {
    "scrolled": false
   },
   "outputs": [
    {
     "data": {
      "image/svg+xml": [
       "<svg baseProfile=\"full\" height=\"200px\" version=\"1.1\" viewBox=\"0 0 800 200\" width=\"800px\" xml:space=\"preserve\" xmlns=\"http://www.w3.org/2000/svg\" xmlns:rdkit=\"http://www.rdkit.org/xml\" xmlns:xlink=\"http://www.w3.org/1999/xlink\">\n",
       "<!-- END OF HEADER -->\n",
       "<rect height=\"200\" style=\"opacity:1.0;fill:#FFFFFF;stroke:none\" width=\"800\" x=\"0\" y=\"0\"> </rect>\n",
       "<path class=\"bond-0\" d=\"M 171.711,109.079 L 159.477,101.985\" style=\"fill:none;fill-rule:evenodd;stroke:#000000;stroke-width:2px;stroke-linecap:butt;stroke-linejoin:miter;stroke-opacity:1\"/>\n",
       "<path class=\"bond-1\" d=\"M 159.477,101.985 L 147.216,109.033\" style=\"fill:none;fill-rule:evenodd;stroke:#000000;stroke-width:2px;stroke-linecap:butt;stroke-linejoin:miter;stroke-opacity:1\"/>\n",
       "<path class=\"bond-2\" d=\"M 145.802,109.03 L 145.791,114.922\" style=\"fill:none;fill-rule:evenodd;stroke:#000000;stroke-width:2px;stroke-linecap:butt;stroke-linejoin:miter;stroke-opacity:1\"/>\n",
       "<path class=\"bond-2\" d=\"M 145.791,114.922 L 145.78,120.815\" style=\"fill:none;fill-rule:evenodd;stroke:#FF0000;stroke-width:2px;stroke-linecap:butt;stroke-linejoin:miter;stroke-opacity:1\"/>\n",
       "<path class=\"bond-2\" d=\"M 148.631,109.035 L 148.619,114.928\" style=\"fill:none;fill-rule:evenodd;stroke:#000000;stroke-width:2px;stroke-linecap:butt;stroke-linejoin:miter;stroke-opacity:1\"/>\n",
       "<path class=\"bond-2\" d=\"M 148.619,114.928 L 148.608,120.82\" style=\"fill:none;fill-rule:evenodd;stroke:#FF0000;stroke-width:2px;stroke-linecap:butt;stroke-linejoin:miter;stroke-opacity:1\"/>\n",
       "<path class=\"bond-3\" d=\"M 147.216,109.033 L 143.132,106.664\" style=\"fill:none;fill-rule:evenodd;stroke:#000000;stroke-width:2px;stroke-linecap:butt;stroke-linejoin:miter;stroke-opacity:1\"/>\n",
       "<path class=\"bond-3\" d=\"M 143.132,106.664 L 139.047,104.296\" style=\"fill:none;fill-rule:evenodd;stroke:#0000FF;stroke-width:2px;stroke-linecap:butt;stroke-linejoin:miter;stroke-opacity:1\"/>\n",
       "<path class=\"bond-4\" d=\"M 122.722,108.987 L 127.162,107.25 L 126.457,106.024 Z\" style=\"fill:#000000;fill-rule:evenodd;fill-opacity=1;stroke:#000000;stroke-width:2px;stroke-linecap:butt;stroke-linejoin:miter;stroke-opacity:1;\"/>\n",
       "<path class=\"bond-4\" d=\"M 127.162,107.25 L 130.192,103.061 L 131.602,105.513 Z\" style=\"fill:#0000FF;fill-rule:evenodd;fill-opacity=1;stroke:#0000FF;stroke-width:2px;stroke-linecap:butt;stroke-linejoin:miter;stroke-opacity:1;\"/>\n",
       "<path class=\"bond-4\" d=\"M 127.162,107.25 L 126.457,106.024 L 130.192,103.061 Z\" style=\"fill:#0000FF;fill-rule:evenodd;fill-opacity=1;stroke:#0000FF;stroke-width:2px;stroke-linecap:butt;stroke-linejoin:miter;stroke-opacity:1;\"/>\n",
       "<path class=\"bond-5\" d=\"M 122.722,108.987 L 109.814,103.21\" style=\"fill:none;fill-rule:evenodd;stroke:#000000;stroke-width:2px;stroke-linecap:butt;stroke-linejoin:miter;stroke-opacity:1\"/>\n",
       "<path class=\"bond-31\" d=\"M 122.722,108.987 L 121.218,123.048\" style=\"fill:none;fill-rule:evenodd;stroke:#000000;stroke-width:2px;stroke-linecap:butt;stroke-linejoin:miter;stroke-opacity:1\"/>\n",
       "<path class=\"bond-6\" d=\"M 109.814,103.21 L 106.094,107.326\" style=\"fill:none;fill-rule:evenodd;stroke:#000000;stroke-width:2px;stroke-linecap:butt;stroke-linejoin:miter;stroke-opacity:1\"/>\n",
       "<path class=\"bond-6\" d=\"M 106.094,107.326 L 102.374,111.442\" style=\"fill:none;fill-rule:evenodd;stroke:#0000FF;stroke-width:2px;stroke-linecap:butt;stroke-linejoin:miter;stroke-opacity:1\"/>\n",
       "<path class=\"bond-7\" d=\"M 101.686,116.059 L 104.533,121.01\" style=\"fill:none;fill-rule:evenodd;stroke:#0000FF;stroke-width:2px;stroke-linecap:butt;stroke-linejoin:miter;stroke-opacity:1\"/>\n",
       "<path class=\"bond-7\" d=\"M 104.533,121.01 L 107.379,125.962\" style=\"fill:none;fill-rule:evenodd;stroke:#000000;stroke-width:2px;stroke-linecap:butt;stroke-linejoin:miter;stroke-opacity:1\"/>\n",
       "<path class=\"bond-10\" d=\"M 98.2887,113.483 L 92.2794,112.84\" style=\"fill:none;fill-rule:evenodd;stroke:#0000FF;stroke-width:2px;stroke-linecap:butt;stroke-linejoin:miter;stroke-opacity:1\"/>\n",
       "<path class=\"bond-10\" d=\"M 92.2794,112.84 L 86.2701,112.197\" style=\"fill:none;fill-rule:evenodd;stroke:#000000;stroke-width:2px;stroke-linecap:butt;stroke-linejoin:miter;stroke-opacity:1\"/>\n",
       "<path class=\"bond-8\" d=\"M 107.379,125.962 L 121.218,123.048\" style=\"fill:none;fill-rule:evenodd;stroke:#000000;stroke-width:2px;stroke-linecap:butt;stroke-linejoin:miter;stroke-opacity:1\"/>\n",
       "<path class=\"bond-9\" d=\"M 121.999,123.945 L 122.189,123.735\" style=\"fill:none;fill-rule:evenodd;stroke:#000000;stroke-width:1px;stroke-linecap:butt;stroke-linejoin:miter;stroke-opacity:1\"/>\n",
       "<path class=\"bond-9\" d=\"M 122.78,124.842 L 123.16,124.422\" style=\"fill:none;fill-rule:evenodd;stroke:#000000;stroke-width:1px;stroke-linecap:butt;stroke-linejoin:miter;stroke-opacity:1\"/>\n",
       "<path class=\"bond-9\" d=\"M 123.562,125.739 L 124.131,125.109\" style=\"fill:none;fill-rule:evenodd;stroke:#000000;stroke-width:1px;stroke-linecap:butt;stroke-linejoin:miter;stroke-opacity:1\"/>\n",
       "<path class=\"bond-9\" d=\"M 124.343,126.636 L 125.102,125.796\" style=\"fill:none;fill-rule:evenodd;stroke:#000000;stroke-width:1px;stroke-linecap:butt;stroke-linejoin:miter;stroke-opacity:1\"/>\n",
       "<path class=\"bond-9\" d=\"M 125.125,127.532 L 126.073,126.483\" style=\"fill:none;fill-rule:evenodd;stroke:#000000;stroke-width:1px;stroke-linecap:butt;stroke-linejoin:miter;stroke-opacity:1\"/>\n",
       "<path class=\"bond-9\" d=\"M 125.906,128.429 L 127.044,127.17\" style=\"fill:none;fill-rule:evenodd;stroke:#33CCCC;stroke-width:1px;stroke-linecap:butt;stroke-linejoin:miter;stroke-opacity:1\"/>\n",
       "<path class=\"bond-9\" d=\"M 126.688,129.326 L 128.015,127.857\" style=\"fill:none;fill-rule:evenodd;stroke:#33CCCC;stroke-width:1px;stroke-linecap:butt;stroke-linejoin:miter;stroke-opacity:1\"/>\n",
       "<path class=\"bond-9\" d=\"M 127.469,130.223 L 128.986,128.545\" style=\"fill:none;fill-rule:evenodd;stroke:#33CCCC;stroke-width:1px;stroke-linecap:butt;stroke-linejoin:miter;stroke-opacity:1\"/>\n",
       "<path class=\"bond-9\" d=\"M 128.251,131.12 L 129.957,129.232\" style=\"fill:none;fill-rule:evenodd;stroke:#33CCCC;stroke-width:1px;stroke-linecap:butt;stroke-linejoin:miter;stroke-opacity:1\"/>\n",
       "<path class=\"bond-9\" d=\"M 129.032,132.017 L 130.929,129.919\" style=\"fill:none;fill-rule:evenodd;stroke:#33CCCC;stroke-width:1px;stroke-linecap:butt;stroke-linejoin:miter;stroke-opacity:1\"/>\n",
       "<path class=\"bond-11\" d=\"M 86.2701,112.197 L 83.9283,106.911\" style=\"fill:none;fill-rule:evenodd;stroke:#000000;stroke-width:2px;stroke-linecap:butt;stroke-linejoin:miter;stroke-opacity:1\"/>\n",
       "<path class=\"bond-11\" d=\"M 83.9283,106.911 L 81.5865,101.624\" style=\"fill:none;fill-rule:evenodd;stroke:#0000FF;stroke-width:2px;stroke-linecap:butt;stroke-linejoin:miter;stroke-opacity:1\"/>\n",
       "<path class=\"bond-11\" d=\"M 82.9816,111.757 L 81.3423,108.056\" style=\"fill:none;fill-rule:evenodd;stroke:#000000;stroke-width:2px;stroke-linecap:butt;stroke-linejoin:miter;stroke-opacity:1\"/>\n",
       "<path class=\"bond-11\" d=\"M 81.3423,108.056 L 79.703,104.356\" style=\"fill:none;fill-rule:evenodd;stroke:#0000FF;stroke-width:2px;stroke-linecap:butt;stroke-linejoin:miter;stroke-opacity:1\"/>\n",
       "<path class=\"bond-32\" d=\"M 86.2701,112.197 L 82.9628,116.731\" style=\"fill:none;fill-rule:evenodd;stroke:#000000;stroke-width:2px;stroke-linecap:butt;stroke-linejoin:miter;stroke-opacity:1\"/>\n",
       "<path class=\"bond-32\" d=\"M 82.9628,116.731 L 79.6555,121.265\" style=\"fill:none;fill-rule:evenodd;stroke:#0000FF;stroke-width:2px;stroke-linecap:butt;stroke-linejoin:miter;stroke-opacity:1\"/>\n",
       "<path class=\"bond-12\" d=\"M 78.4995,99.0487 L 72.4902,98.4057\" style=\"fill:none;fill-rule:evenodd;stroke:#0000FF;stroke-width:2px;stroke-linecap:butt;stroke-linejoin:miter;stroke-opacity:1\"/>\n",
       "<path class=\"bond-12\" d=\"M 72.4902,98.4057 L 66.481,97.7626\" style=\"fill:none;fill-rule:evenodd;stroke:#000000;stroke-width:2px;stroke-linecap:butt;stroke-linejoin:miter;stroke-opacity:1\"/>\n",
       "<path class=\"bond-13\" d=\"M 66.481,97.7626 L 58.1472,109.188\" style=\"fill:none;fill-rule:evenodd;stroke:#000000;stroke-width:2px;stroke-linecap:butt;stroke-linejoin:miter;stroke-opacity:1\"/>\n",
       "<path class=\"bond-13\" d=\"M 67.5159,101.143 L 61.6823,109.141\" style=\"fill:none;fill-rule:evenodd;stroke:#000000;stroke-width:2px;stroke-linecap:butt;stroke-linejoin:miter;stroke-opacity:1\"/>\n",
       "<path class=\"bond-22\" d=\"M 66.481,97.7626 L 64.1392,92.4762\" style=\"fill:none;fill-rule:evenodd;stroke:#000000;stroke-width:2px;stroke-linecap:butt;stroke-linejoin:miter;stroke-opacity:1\"/>\n",
       "<path class=\"bond-22\" d=\"M 64.1392,92.4762 L 61.7974,87.1897\" style=\"fill:none;fill-rule:evenodd;stroke:#0000FF;stroke-width:2px;stroke-linecap:butt;stroke-linejoin:miter;stroke-opacity:1\"/>\n",
       "<path class=\"bond-14\" d=\"M 58.1472,109.188 L 63.8748,122.118\" style=\"fill:none;fill-rule:evenodd;stroke:#000000;stroke-width:2px;stroke-linecap:butt;stroke-linejoin:miter;stroke-opacity:1\"/>\n",
       "<path class=\"bond-33\" d=\"M 58.1472,109.188 L 52.1351,109.808\" style=\"fill:none;fill-rule:evenodd;stroke:#000000;stroke-width:2px;stroke-linecap:butt;stroke-linejoin:miter;stroke-opacity:1\"/>\n",
       "<path class=\"bond-33\" d=\"M 52.1351,109.808 L 46.123,110.429\" style=\"fill:none;fill-rule:evenodd;stroke:#0000FF;stroke-width:2px;stroke-linecap:butt;stroke-linejoin:miter;stroke-opacity:1\"/>\n",
       "<path class=\"bond-15\" d=\"M 63.8748,122.118 L 69.8841,122.761\" style=\"fill:none;fill-rule:evenodd;stroke:#000000;stroke-width:2px;stroke-linecap:butt;stroke-linejoin:miter;stroke-opacity:1\"/>\n",
       "<path class=\"bond-15\" d=\"M 69.8841,122.761 L 75.8934,123.404\" style=\"fill:none;fill-rule:evenodd;stroke:#0000FF;stroke-width:2px;stroke-linecap:butt;stroke-linejoin:miter;stroke-opacity:1\"/>\n",
       "<path class=\"bond-15\" d=\"M 65.9785,119.498 L 70.185,119.949\" style=\"fill:none;fill-rule:evenodd;stroke:#000000;stroke-width:2px;stroke-linecap:butt;stroke-linejoin:miter;stroke-opacity:1\"/>\n",
       "<path class=\"bond-15\" d=\"M 70.185,119.949 L 74.3915,120.399\" style=\"fill:none;fill-rule:evenodd;stroke:#0000FF;stroke-width:2px;stroke-linecap:butt;stroke-linejoin:miter;stroke-opacity:1\"/>\n",
       "<path class=\"bond-16\" d=\"M 63.8748,122.118 L 59.6327,125.923\" style=\"fill:none;fill-rule:evenodd;stroke:#000000;stroke-width:2px;stroke-linecap:butt;stroke-linejoin:miter;stroke-opacity:1\"/>\n",
       "<path class=\"bond-16\" d=\"M 59.6327,125.923 L 55.3906,129.728\" style=\"fill:none;fill-rule:evenodd;stroke:#0000FF;stroke-width:2px;stroke-linecap:butt;stroke-linejoin:miter;stroke-opacity:1\"/>\n",
       "<path class=\"bond-17\" d=\"M 51.3048,130.376 L 46.2094,127.421\" style=\"fill:none;fill-rule:evenodd;stroke:#0000FF;stroke-width:2px;stroke-linecap:butt;stroke-linejoin:miter;stroke-opacity:1\"/>\n",
       "<path class=\"bond-17\" d=\"M 46.2094,127.421 L 41.1139,124.467\" style=\"fill:none;fill-rule:evenodd;stroke:#000000;stroke-width:2px;stroke-linecap:butt;stroke-linejoin:miter;stroke-opacity:1\"/>\n",
       "<path class=\"bond-19\" d=\"M 53.591,133.918 L 54.1952,139.773\" style=\"fill:none;fill-rule:evenodd;stroke:#0000FF;stroke-width:2px;stroke-linecap:butt;stroke-linejoin:miter;stroke-opacity:1\"/>\n",
       "<path class=\"bond-19\" d=\"M 54.1952,139.773 L 54.7995,145.628\" style=\"fill:none;fill-rule:evenodd;stroke:#000000;stroke-width:2px;stroke-linecap:butt;stroke-linejoin:miter;stroke-opacity:1\"/>\n",
       "<path class=\"bond-18\" d=\"M 41.1139,124.467 L 42.3442,118.732\" style=\"fill:none;fill-rule:evenodd;stroke:#000000;stroke-width:2px;stroke-linecap:butt;stroke-linejoin:miter;stroke-opacity:1\"/>\n",
       "<path class=\"bond-18\" d=\"M 42.3442,118.732 L 43.5745,112.997\" style=\"fill:none;fill-rule:evenodd;stroke:#0000FF;stroke-width:2px;stroke-linecap:butt;stroke-linejoin:miter;stroke-opacity:1\"/>\n",
       "<path class=\"bond-18\" d=\"M 44.2484,123.34 L 45.1097,119.325\" style=\"fill:none;fill-rule:evenodd;stroke:#000000;stroke-width:2px;stroke-linecap:butt;stroke-linejoin:miter;stroke-opacity:1\"/>\n",
       "<path class=\"bond-18\" d=\"M 45.1097,119.325 L 45.9709,115.31\" style=\"fill:none;fill-rule:evenodd;stroke:#0000FF;stroke-width:2px;stroke-linecap:butt;stroke-linejoin:miter;stroke-opacity:1\"/>\n",
       "<path class=\"bond-20\" d=\"M 54.7995,145.628 L 43.343,153.918\" style=\"fill:none;fill-rule:evenodd;stroke:#000000;stroke-width:2px;stroke-linecap:butt;stroke-linejoin:miter;stroke-opacity:1\"/>\n",
       "<path class=\"bond-21\" d=\"M 54.7995,145.628 L 67.7078,151.404\" style=\"fill:none;fill-rule:evenodd;stroke:#000000;stroke-width:2px;stroke-linecap:butt;stroke-linejoin:miter;stroke-opacity:1\"/>\n",
       "<path class=\"bond-23\" d=\"M 62.4725,82.4758 L 65.7798,77.9416\" style=\"fill:none;fill-rule:evenodd;stroke:#0000FF;stroke-width:2px;stroke-linecap:butt;stroke-linejoin:miter;stroke-opacity:1\"/>\n",
       "<path class=\"bond-23\" d=\"M 65.7798,77.9416 L 69.0871,73.4075\" style=\"fill:none;fill-rule:evenodd;stroke:#000000;stroke-width:2px;stroke-linecap:butt;stroke-linejoin:miter;stroke-opacity:1\"/>\n",
       "<path class=\"bond-24\" d=\"M 69.0871,73.4075 L 64.7423,59.9497\" style=\"fill:none;fill-rule:evenodd;stroke:#000000;stroke-width:2px;stroke-linecap:butt;stroke-linejoin:miter;stroke-opacity:1\"/>\n",
       "<path class=\"bond-24\" d=\"M 71.1269,70.5199 L 68.0856,61.0994\" style=\"fill:none;fill-rule:evenodd;stroke:#000000;stroke-width:2px;stroke-linecap:butt;stroke-linejoin:miter;stroke-opacity:1\"/>\n",
       "<path class=\"bond-34\" d=\"M 69.0871,73.4075 L 83.2288,73.4341\" style=\"fill:none;fill-rule:evenodd;stroke:#000000;stroke-width:2px;stroke-linecap:butt;stroke-linejoin:miter;stroke-opacity:1\"/>\n",
       "<path class=\"bond-25\" d=\"M 64.7423,59.9497 L 69.4491,56.5435\" style=\"fill:none;fill-rule:evenodd;stroke:#000000;stroke-width:2px;stroke-linecap:butt;stroke-linejoin:miter;stroke-opacity:1\"/>\n",
       "<path class=\"bond-25\" d=\"M 69.4491,56.5435 L 74.1559,53.1373\" style=\"fill:none;fill-rule:evenodd;stroke:#0000FF;stroke-width:2px;stroke-linecap:butt;stroke-linejoin:miter;stroke-opacity:1\"/>\n",
       "<path class=\"bond-26\" d=\"M 78.2417,53.149 L 85.5812,58.5026\" style=\"fill:none;fill-rule:evenodd;stroke:#0000FF;stroke-width:2px;stroke-linecap:butt;stroke-linejoin:miter;stroke-opacity:1\"/>\n",
       "<path class=\"bond-30\" d=\"M 76.2033,49.302 L 76.2143,43.4096\" style=\"fill:none;fill-rule:evenodd;stroke:#0000FF;stroke-width:2px;stroke-linecap:butt;stroke-linejoin:miter;stroke-opacity:1\"/>\n",
       "<path class=\"bond-30\" d=\"M 76.2143,43.4096 L 76.2254,37.5172\" style=\"fill:none;fill-rule:evenodd;stroke:#000000;stroke-width:2px;stroke-linecap:butt;stroke-linejoin:miter;stroke-opacity:1\"/>\n",
       "<path class=\"bond-27\" d=\"M 86.8534,62.3497 L 85.0411,67.8919\" style=\"fill:none;fill-rule:evenodd;stroke:#0000FF;stroke-width:2px;stroke-linecap:butt;stroke-linejoin:miter;stroke-opacity:1\"/>\n",
       "<path class=\"bond-27\" d=\"M 85.0411,67.8919 L 83.2288,73.4341\" style=\"fill:none;fill-rule:evenodd;stroke:#000000;stroke-width:2px;stroke-linecap:butt;stroke-linejoin:miter;stroke-opacity:1\"/>\n",
       "<path class=\"bond-27\" d=\"M 83.6214,63.1333 L 82.3528,67.0128\" style=\"fill:none;fill-rule:evenodd;stroke:#0000FF;stroke-width:2px;stroke-linecap:butt;stroke-linejoin:miter;stroke-opacity:1\"/>\n",
       "<path class=\"bond-27\" d=\"M 82.3528,67.0128 L 81.0842,70.8923\" style=\"fill:none;fill-rule:evenodd;stroke:#000000;stroke-width:2px;stroke-linecap:butt;stroke-linejoin:miter;stroke-opacity:1\"/>\n",
       "<path class=\"bond-28\" d=\"M 83.2288,73.4341 L 86.5213,77.9838\" style=\"fill:none;fill-rule:evenodd;stroke:#000000;stroke-width:2px;stroke-linecap:butt;stroke-linejoin:miter;stroke-opacity:1\"/>\n",
       "<path class=\"bond-28\" d=\"M 86.5213,77.9838 L 89.8139,82.5336\" style=\"fill:none;fill-rule:evenodd;stroke:#FF0000;stroke-width:2px;stroke-linecap:butt;stroke-linejoin:miter;stroke-opacity:1\"/>\n",
       "<path class=\"bond-29\" d=\"M 93.7209,84.6634 L 99.6537,84.0511\" style=\"fill:none;fill-rule:evenodd;stroke:#FF0000;stroke-width:2px;stroke-linecap:butt;stroke-linejoin:miter;stroke-opacity:1\"/>\n",
       "<path class=\"bond-29\" d=\"M 99.6537,84.0511 L 105.587,83.4388\" style=\"fill:none;fill-rule:evenodd;stroke:#000000;stroke-width:2px;stroke-linecap:butt;stroke-linejoin:miter;stroke-opacity:1\"/>\n",
       "<text style=\"font-size:4px;font-style:normal;font-weight:normal;fill-opacity:1;stroke:none;font-family:sans-serif;text-anchor:start;fill:#FF0000\" x=\"144.988\" y=\"125.531\"><tspan>O</tspan></text>\n",
       "<text style=\"font-size:4px;font-style:normal;font-weight:normal;fill-opacity:1;stroke:none;font-family:sans-serif;text-anchor:start;fill:#0000FF\" x=\"130.897\" y=\"104.296\"><tspan>NH</tspan></text>\n",
       "<text style=\"font-size:4px;font-style:normal;font-weight:normal;fill-opacity:1;stroke:none;font-family:sans-serif;text-anchor:start;fill:#0000FF\" x=\"98.2887\" y=\"116.059\"><tspan>N</tspan></text>\n",
       "<text style=\"font-size:4px;font-style:normal;font-weight:normal;fill-opacity:1;stroke:none;font-family:sans-serif;text-anchor:start;fill:#33CCCC\" x=\"129.98\" y=\"134.887\"><tspan>F</tspan></text>\n",
       "<text style=\"font-size:4px;font-style:normal;font-weight:normal;fill-opacity:1;stroke:none;font-family:sans-serif;text-anchor:start;fill:#0000FF\" x=\"78.4995\" y=\"101.624\"><tspan>N</tspan></text>\n",
       "<text style=\"font-size:4px;font-style:normal;font-weight:normal;fill-opacity:1;stroke:none;font-family:sans-serif;text-anchor:start;fill:#0000FF\" x=\"75.8934\" y=\"125.979\"><tspan>N</tspan></text>\n",
       "<text style=\"font-size:4px;font-style:normal;font-weight:normal;fill-opacity:1;stroke:none;font-family:sans-serif;text-anchor:start;fill:#0000FF\" x=\"51.3048\" y=\"133.918\"><tspan>N</tspan></text>\n",
       "<text style=\"font-size:4px;font-style:normal;font-weight:normal;fill-opacity:1;stroke:none;font-family:sans-serif;text-anchor:start;fill:#0000FF\" x=\"42.0373\" y=\"112.997\"><tspan>N</tspan></text>\n",
       "<text style=\"font-size:4px;font-style:normal;font-weight:normal;fill-opacity:1;stroke:none;font-family:sans-serif;text-anchor:start;fill:#0000FF\" x=\"56.6675\" y=\"87.1897\"><tspan>NH</tspan></text>\n",
       "<text style=\"font-size:4px;font-style:normal;font-weight:normal;fill-opacity:1;stroke:none;font-family:sans-serif;text-anchor:start;fill:#0000FF\" x=\"74.1559\" y=\"54.0159\"><tspan>N</tspan></text>\n",
       "<text style=\"font-size:4px;font-style:normal;font-weight:normal;fill-opacity:1;stroke:none;font-family:sans-serif;text-anchor:start;fill:#0000FF\" x=\"85.5812\" y=\"62.3497\"><tspan>N</tspan></text>\n",
       "<text style=\"font-size:4px;font-style:normal;font-weight:normal;fill-opacity:1;stroke:none;font-family:sans-serif;text-anchor:start;fill:#FF0000\" x=\"89.3182\" y=\"87.2475\"><tspan>O</tspan></text>\n",
       "<text style=\"font-size:12px;font-style:normal;font-weight:normal;fill-opacity:1;stroke:none;font-family:sans-serif;text-anchor:start;fill:#000000\" x=\"62.3721\" y=\"194\"><tspan>8AM, 5UG9</tspan></text>\n",
       "<path class=\"bond-0\" d=\"M 353.837,99.3055 L 339.832,97.3409\" style=\"fill:none;fill-rule:evenodd;stroke:#000000;stroke-width:2px;stroke-linecap:butt;stroke-linejoin:miter;stroke-opacity:1\"/>\n",
       "<path class=\"bond-1\" d=\"M 339.832,97.3409 L 331.129,108.487\" style=\"fill:none;fill-rule:evenodd;stroke:#000000;stroke-width:2px;stroke-linecap:butt;stroke-linejoin:miter;stroke-opacity:1\"/>\n",
       "<path class=\"bond-2\" d=\"M 329.818,109.017 L 331.992,114.394\" style=\"fill:none;fill-rule:evenodd;stroke:#000000;stroke-width:2px;stroke-linecap:butt;stroke-linejoin:miter;stroke-opacity:1\"/>\n",
       "<path class=\"bond-2\" d=\"M 331.992,114.394 L 334.166,119.771\" style=\"fill:none;fill-rule:evenodd;stroke:#FF0000;stroke-width:2px;stroke-linecap:butt;stroke-linejoin:miter;stroke-opacity:1\"/>\n",
       "<path class=\"bond-2\" d=\"M 332.44,107.957 L 334.614,113.334\" style=\"fill:none;fill-rule:evenodd;stroke:#000000;stroke-width:2px;stroke-linecap:butt;stroke-linejoin:miter;stroke-opacity:1\"/>\n",
       "<path class=\"bond-2\" d=\"M 334.614,113.334 L 336.788,118.711\" style=\"fill:none;fill-rule:evenodd;stroke:#FF0000;stroke-width:2px;stroke-linecap:butt;stroke-linejoin:miter;stroke-opacity:1\"/>\n",
       "<path class=\"bond-3\" d=\"M 331.129,108.487 L 326.169,107.791\" style=\"fill:none;fill-rule:evenodd;stroke:#000000;stroke-width:2px;stroke-linecap:butt;stroke-linejoin:miter;stroke-opacity:1\"/>\n",
       "<path class=\"bond-3\" d=\"M 326.169,107.791 L 321.21,107.095\" style=\"fill:none;fill-rule:evenodd;stroke:#0000FF;stroke-width:2px;stroke-linecap:butt;stroke-linejoin:miter;stroke-opacity:1\"/>\n",
       "<path class=\"bond-4\" d=\"M 315.284,108.879 L 311.852,113.274\" style=\"fill:none;fill-rule:evenodd;stroke:#0000FF;stroke-width:2px;stroke-linecap:butt;stroke-linejoin:miter;stroke-opacity:1\"/>\n",
       "<path class=\"bond-4\" d=\"M 311.852,113.274 L 308.42,117.668\" style=\"fill:none;fill-rule:evenodd;stroke:#000000;stroke-width:2px;stroke-linecap:butt;stroke-linejoin:miter;stroke-opacity:1\"/>\n",
       "<path class=\"bond-5\" d=\"M 308.42,117.668 L 313.721,130.779\" style=\"fill:none;fill-rule:evenodd;stroke:#000000;stroke-width:2px;stroke-linecap:butt;stroke-linejoin:miter;stroke-opacity:1\"/>\n",
       "<path class=\"bond-5\" d=\"M 306.593,120.695 L 310.304,129.872\" style=\"fill:none;fill-rule:evenodd;stroke:#000000;stroke-width:2px;stroke-linecap:butt;stroke-linejoin:miter;stroke-opacity:1\"/>\n",
       "<path class=\"bond-27\" d=\"M 308.42,117.668 L 294.416,115.704\" style=\"fill:none;fill-rule:evenodd;stroke:#000000;stroke-width:2px;stroke-linecap:butt;stroke-linejoin:miter;stroke-opacity:1\"/>\n",
       "<path class=\"bond-6\" d=\"M 313.721,130.779 L 305.018,141.925\" style=\"fill:none;fill-rule:evenodd;stroke:#000000;stroke-width:2px;stroke-linecap:butt;stroke-linejoin:miter;stroke-opacity:1\"/>\n",
       "<path class=\"bond-7\" d=\"M 305.018,141.925 L 291.013,139.96\" style=\"fill:none;fill-rule:evenodd;stroke:#000000;stroke-width:2px;stroke-linecap:butt;stroke-linejoin:miter;stroke-opacity:1\"/>\n",
       "<path class=\"bond-7\" d=\"M 303.31,138.829 L 293.507,137.454\" style=\"fill:none;fill-rule:evenodd;stroke:#000000;stroke-width:2px;stroke-linecap:butt;stroke-linejoin:miter;stroke-opacity:1\"/>\n",
       "<path class=\"bond-8\" d=\"M 291.013,139.96 L 285.712,126.85\" style=\"fill:none;fill-rule:evenodd;stroke:#000000;stroke-width:2px;stroke-linecap:butt;stroke-linejoin:miter;stroke-opacity:1\"/>\n",
       "<path class=\"bond-9\" d=\"M 285.712,126.85 L 294.416,115.704\" style=\"fill:none;fill-rule:evenodd;stroke:#000000;stroke-width:2px;stroke-linecap:butt;stroke-linejoin:miter;stroke-opacity:1\"/>\n",
       "<path class=\"bond-9\" d=\"M 289.247,126.918 L 295.339,119.116\" style=\"fill:none;fill-rule:evenodd;stroke:#000000;stroke-width:2px;stroke-linecap:butt;stroke-linejoin:miter;stroke-opacity:1\"/>\n",
       "<path class=\"bond-10\" d=\"M 285.712,126.85 L 279.81,126.022\" style=\"fill:none;fill-rule:evenodd;stroke:#000000;stroke-width:2px;stroke-linecap:butt;stroke-linejoin:miter;stroke-opacity:1\"/>\n",
       "<path class=\"bond-10\" d=\"M 279.81,126.022 L 273.909,125.194\" style=\"fill:none;fill-rule:evenodd;stroke:#FF0000;stroke-width:2px;stroke-linecap:butt;stroke-linejoin:miter;stroke-opacity:1\"/>\n",
       "<path class=\"bond-11\" d=\"M 270.755,122.528 L 268.581,117.151\" style=\"fill:none;fill-rule:evenodd;stroke:#FF0000;stroke-width:2px;stroke-linecap:butt;stroke-linejoin:miter;stroke-opacity:1\"/>\n",
       "<path class=\"bond-11\" d=\"M 268.581,117.151 L 266.407,111.774\" style=\"fill:none;fill-rule:evenodd;stroke:#000000;stroke-width:2px;stroke-linecap:butt;stroke-linejoin:miter;stroke-opacity:1\"/>\n",
       "<path class=\"bond-12\" d=\"M 266.407,111.774 L 252.402,109.81\" style=\"fill:none;fill-rule:evenodd;stroke:#000000;stroke-width:2px;stroke-linecap:butt;stroke-linejoin:miter;stroke-opacity:1\"/>\n",
       "<path class=\"bond-12\" d=\"M 264.699,108.679 L 254.896,107.303\" style=\"fill:none;fill-rule:evenodd;stroke:#000000;stroke-width:2px;stroke-linecap:butt;stroke-linejoin:miter;stroke-opacity:1\"/>\n",
       "<path class=\"bond-28\" d=\"M 266.407,111.774 L 269.838,107.38\" style=\"fill:none;fill-rule:evenodd;stroke:#000000;stroke-width:2px;stroke-linecap:butt;stroke-linejoin:miter;stroke-opacity:1\"/>\n",
       "<path class=\"bond-28\" d=\"M 269.838,107.38 L 273.27,102.985\" style=\"fill:none;fill-rule:evenodd;stroke:#0000FF;stroke-width:2px;stroke-linecap:butt;stroke-linejoin:miter;stroke-opacity:1\"/>\n",
       "<path class=\"bond-13\" d=\"M 252.402,109.81 L 241.571,118.902\" style=\"fill:none;fill-rule:evenodd;stroke:#000000;stroke-width:2px;stroke-linecap:butt;stroke-linejoin:miter;stroke-opacity:1\"/>\n",
       "<path class=\"bond-29\" d=\"M 252.402,109.81 L 247.101,96.6989\" style=\"fill:none;fill-rule:evenodd;stroke:#000000;stroke-width:2px;stroke-linecap:butt;stroke-linejoin:miter;stroke-opacity:1\"/>\n",
       "<path class=\"bond-14\" d=\"M 241.571,118.902 L 229.576,111.411\" style=\"fill:none;fill-rule:evenodd;stroke:#000000;stroke-width:2px;stroke-linecap:butt;stroke-linejoin:miter;stroke-opacity:1\"/>\n",
       "<path class=\"bond-14\" d=\"M 241.27,115.38 L 232.874,110.136\" style=\"fill:none;fill-rule:evenodd;stroke:#000000;stroke-width:2px;stroke-linecap:butt;stroke-linejoin:miter;stroke-opacity:1\"/>\n",
       "<path class=\"bond-15\" d=\"M 229.576,111.411 L 230.992,105.729\" style=\"fill:none;fill-rule:evenodd;stroke:#000000;stroke-width:2px;stroke-linecap:butt;stroke-linejoin:miter;stroke-opacity:1\"/>\n",
       "<path class=\"bond-15\" d=\"M 230.992,105.729 L 232.407,100.046\" style=\"fill:none;fill-rule:evenodd;stroke:#0000FF;stroke-width:2px;stroke-linecap:butt;stroke-linejoin:miter;stroke-opacity:1\"/>\n",
       "<path class=\"bond-16\" d=\"M 237.08,97.4022 L 242.091,97.0506\" style=\"fill:none;fill-rule:evenodd;stroke:#0000FF;stroke-width:2px;stroke-linecap:butt;stroke-linejoin:miter;stroke-opacity:1\"/>\n",
       "<path class=\"bond-16\" d=\"M 242.091,97.0506 L 247.101,96.6989\" style=\"fill:none;fill-rule:evenodd;stroke:#000000;stroke-width:2px;stroke-linecap:butt;stroke-linejoin:miter;stroke-opacity:1\"/>\n",
       "<path class=\"bond-17\" d=\"M 247.101,96.6989 L 250.533,92.3044\" style=\"fill:none;fill-rule:evenodd;stroke:#000000;stroke-width:2px;stroke-linecap:butt;stroke-linejoin:miter;stroke-opacity:1\"/>\n",
       "<path class=\"bond-17\" d=\"M 250.533,92.3044 L 253.964,87.9099\" style=\"fill:none;fill-rule:evenodd;stroke:#0000FF;stroke-width:2px;stroke-linecap:butt;stroke-linejoin:miter;stroke-opacity:1\"/>\n",
       "<path class=\"bond-17\" d=\"M 250.36,97.1213 L 252.762,94.0452\" style=\"fill:none;fill-rule:evenodd;stroke:#000000;stroke-width:2px;stroke-linecap:butt;stroke-linejoin:miter;stroke-opacity:1\"/>\n",
       "<path class=\"bond-17\" d=\"M 252.762,94.0452 L 255.164,90.969\" style=\"fill:none;fill-rule:evenodd;stroke:#0000FF;stroke-width:2px;stroke-linecap:butt;stroke-linejoin:miter;stroke-opacity:1\"/>\n",
       "<path class=\"bond-18\" d=\"M 257.848,85.8395 L 263.829,86.6786\" style=\"fill:none;fill-rule:evenodd;stroke:#0000FF;stroke-width:2px;stroke-linecap:butt;stroke-linejoin:miter;stroke-opacity:1\"/>\n",
       "<path class=\"bond-18\" d=\"M 263.829,86.6786 L 269.809,87.5176\" style=\"fill:none;fill-rule:evenodd;stroke:#000000;stroke-width:2px;stroke-linecap:butt;stroke-linejoin:miter;stroke-opacity:1\"/>\n",
       "<path class=\"bond-19\" d=\"M 269.809,87.5176 L 271.983,92.8944\" style=\"fill:none;fill-rule:evenodd;stroke:#000000;stroke-width:2px;stroke-linecap:butt;stroke-linejoin:miter;stroke-opacity:1\"/>\n",
       "<path class=\"bond-19\" d=\"M 271.983,92.8944 L 274.157,98.2713\" style=\"fill:none;fill-rule:evenodd;stroke:#0000FF;stroke-width:2px;stroke-linecap:butt;stroke-linejoin:miter;stroke-opacity:1\"/>\n",
       "<path class=\"bond-19\" d=\"M 267.84,90.1908 L 269.361,93.9546\" style=\"fill:none;fill-rule:evenodd;stroke:#000000;stroke-width:2px;stroke-linecap:butt;stroke-linejoin:miter;stroke-opacity:1\"/>\n",
       "<path class=\"bond-19\" d=\"M 269.361,93.9546 L 270.883,97.7184\" style=\"fill:none;fill-rule:evenodd;stroke:#0000FF;stroke-width:2px;stroke-linecap:butt;stroke-linejoin:miter;stroke-opacity:1\"/>\n",
       "<path class=\"bond-20\" d=\"M 269.809,87.5176 L 273.241,83.1231\" style=\"fill:none;fill-rule:evenodd;stroke:#000000;stroke-width:2px;stroke-linecap:butt;stroke-linejoin:miter;stroke-opacity:1\"/>\n",
       "<path class=\"bond-20\" d=\"M 273.241,83.1231 L 276.673,78.7285\" style=\"fill:none;fill-rule:evenodd;stroke:#0000FF;stroke-width:2px;stroke-linecap:butt;stroke-linejoin:miter;stroke-opacity:1\"/>\n",
       "<path class=\"bond-21\" d=\"M 282.599,76.9448 L 287.558,77.6405\" style=\"fill:none;fill-rule:evenodd;stroke:#0000FF;stroke-width:2px;stroke-linecap:butt;stroke-linejoin:miter;stroke-opacity:1\"/>\n",
       "<path class=\"bond-21\" d=\"M 287.558,77.6405 L 292.518,78.3362\" style=\"fill:none;fill-rule:evenodd;stroke:#000000;stroke-width:2px;stroke-linecap:butt;stroke-linejoin:miter;stroke-opacity:1\"/>\n",
       "<path class=\"bond-22\" d=\"M 292.518,78.3362 L 302.339,68.1611\" style=\"fill:none;fill-rule:evenodd;stroke:#000000;stroke-width:2px;stroke-linecap:butt;stroke-linejoin:miter;stroke-opacity:1\"/>\n",
       "<path class=\"bond-30\" d=\"M 292.518,78.3362 L 299.16,90.821\" style=\"fill:none;fill-rule:evenodd;stroke:#000000;stroke-width:2px;stroke-linecap:butt;stroke-linejoin:miter;stroke-opacity:1\"/>\n",
       "<path class=\"bond-30\" d=\"M 296.011,78.8805 L 300.661,87.6198\" style=\"fill:none;fill-rule:evenodd;stroke:#000000;stroke-width:2px;stroke-linecap:butt;stroke-linejoin:miter;stroke-opacity:1\"/>\n",
       "<path class=\"bond-23\" d=\"M 302.339,68.1611 L 307.674,70.7613\" style=\"fill:none;fill-rule:evenodd;stroke:#000000;stroke-width:2px;stroke-linecap:butt;stroke-linejoin:miter;stroke-opacity:1\"/>\n",
       "<path class=\"bond-23\" d=\"M 307.674,70.7613 L 313.008,73.3615\" style=\"fill:none;fill-rule:evenodd;stroke:#0000FF;stroke-width:2px;stroke-linecap:butt;stroke-linejoin:miter;stroke-opacity:1\"/>\n",
       "<path class=\"bond-23\" d=\"M 302.7,71.4836 L 306.434,73.3037\" style=\"fill:none;fill-rule:evenodd;stroke:#000000;stroke-width:2px;stroke-linecap:butt;stroke-linejoin:miter;stroke-opacity:1\"/>\n",
       "<path class=\"bond-23\" d=\"M 306.434,73.3037 L 310.169,75.1238\" style=\"fill:none;fill-rule:evenodd;stroke:#0000FF;stroke-width:2px;stroke-linecap:butt;stroke-linejoin:miter;stroke-opacity:1\"/>\n",
       "<path class=\"bond-24\" d=\"M 314.72,76.7142 L 313.417,86.0049\" style=\"fill:none;fill-rule:evenodd;stroke:#0000FF;stroke-width:2px;stroke-linecap:butt;stroke-linejoin:miter;stroke-opacity:1\"/>\n",
       "<path class=\"bond-25\" d=\"M 311.043,88.7226 L 305.102,89.7718\" style=\"fill:none;fill-rule:evenodd;stroke:#0000FF;stroke-width:2px;stroke-linecap:butt;stroke-linejoin:miter;stroke-opacity:1\"/>\n",
       "<path class=\"bond-25\" d=\"M 305.102,89.7718 L 299.16,90.821\" style=\"fill:none;fill-rule:evenodd;stroke:#000000;stroke-width:2px;stroke-linecap:butt;stroke-linejoin:miter;stroke-opacity:1\"/>\n",
       "<path class=\"bond-26\" d=\"M 315.129,90.3336 L 319.195,94.2583\" style=\"fill:none;fill-rule:evenodd;stroke:#0000FF;stroke-width:2px;stroke-linecap:butt;stroke-linejoin:miter;stroke-opacity:1\"/>\n",
       "<path class=\"bond-26\" d=\"M 319.195,94.2583 L 323.262,98.183\" style=\"fill:none;fill-rule:evenodd;stroke:#000000;stroke-width:2px;stroke-linecap:butt;stroke-linejoin:miter;stroke-opacity:1\"/>\n",
       "<text style=\"font-size:4px;font-style:normal;font-weight:normal;fill-opacity:1;stroke:none;font-family:sans-serif;text-anchor:start;fill:#FF0000\" x=\"334.228\" y=\"123.955\"><tspan>O</tspan></text>\n",
       "<text style=\"font-size:4px;font-style:normal;font-weight:normal;fill-opacity:1;stroke:none;font-family:sans-serif;text-anchor:start;fill:#0000FF\" x=\"313.038\" y=\"108.879\"><tspan>NH</tspan></text>\n",
       "<text style=\"font-size:4px;font-style:normal;font-weight:normal;fill-opacity:1;stroke:none;font-family:sans-serif;text-anchor:start;fill:#FF0000\" x=\"269.506\" y=\"127.242\"><tspan>O</tspan></text>\n",
       "<text style=\"font-size:4px;font-style:normal;font-weight:normal;fill-opacity:1;stroke:none;font-family:sans-serif;text-anchor:start;fill:#0000FF\" x=\"228.908\" y=\"100.046\"><tspan>NH</tspan></text>\n",
       "<text style=\"font-size:4px;font-style:normal;font-weight:normal;fill-opacity:1;stroke:none;font-family:sans-serif;text-anchor:start;fill:#0000FF\" x=\"253.762\" y=\"87.9099\"><tspan>N</tspan></text>\n",
       "<text style=\"font-size:4px;font-style:normal;font-weight:normal;fill-opacity:1;stroke:none;font-family:sans-serif;text-anchor:start;fill:#0000FF\" x=\"273.067\" y=\"102.985\"><tspan>N</tspan></text>\n",
       "<text style=\"font-size:4px;font-style:normal;font-weight:normal;fill-opacity:1;stroke:none;font-family:sans-serif;text-anchor:start;fill:#0000FF\" x=\"274.427\" y=\"78.7285\"><tspan>NH</tspan></text>\n",
       "<text style=\"font-size:4px;font-style:normal;font-weight:normal;fill-opacity:1;stroke:none;font-family:sans-serif;text-anchor:start;fill:#0000FF\" x=\"313.008\" y=\"76.7142\"><tspan>N</tspan></text>\n",
       "<text style=\"font-size:4px;font-style:normal;font-weight:normal;fill-opacity:1;stroke:none;font-family:sans-serif;text-anchor:start;fill:#0000FF\" x=\"311.043\" y=\"90.7188\"><tspan>N</tspan></text>\n",
       "<text style=\"font-size:12px;font-style:normal;font-weight:normal;fill-opacity:1;stroke:none;font-family:sans-serif;text-anchor:start;fill:#000000\" x=\"265.167\" y=\"194\"><tspan>634, 5HG8</tspan></text>\n",
       "<path class=\"bond-0\" d=\"M 571.04,112.511 L 559.309,104.614\" style=\"fill:none;fill-rule:evenodd;stroke:#000000;stroke-width:2px;stroke-linecap:butt;stroke-linejoin:miter;stroke-opacity:1\"/>\n",
       "<path class=\"bond-1\" d=\"M 559.309,104.614 L 546.604,110.825\" style=\"fill:none;fill-rule:evenodd;stroke:#000000;stroke-width:2px;stroke-linecap:butt;stroke-linejoin:miter;stroke-opacity:1\"/>\n",
       "<path class=\"bond-2\" d=\"M 545.193,110.727 L 544.787,116.603\" style=\"fill:none;fill-rule:evenodd;stroke:#000000;stroke-width:2px;stroke-linecap:butt;stroke-linejoin:miter;stroke-opacity:1\"/>\n",
       "<path class=\"bond-2\" d=\"M 544.787,116.603 L 544.382,122.478\" style=\"fill:none;fill-rule:evenodd;stroke:#FF0000;stroke-width:2px;stroke-linecap:butt;stroke-linejoin:miter;stroke-opacity:1\"/>\n",
       "<path class=\"bond-2\" d=\"M 548.015,110.922 L 547.609,116.798\" style=\"fill:none;fill-rule:evenodd;stroke:#000000;stroke-width:2px;stroke-linecap:butt;stroke-linejoin:miter;stroke-opacity:1\"/>\n",
       "<path class=\"bond-2\" d=\"M 547.609,116.798 L 547.203,122.673\" style=\"fill:none;fill-rule:evenodd;stroke:#FF0000;stroke-width:2px;stroke-linecap:butt;stroke-linejoin:miter;stroke-opacity:1\"/>\n",
       "<path class=\"bond-3\" d=\"M 546.604,110.825 L 542.489,108.054\" style=\"fill:none;fill-rule:evenodd;stroke:#000000;stroke-width:2px;stroke-linecap:butt;stroke-linejoin:miter;stroke-opacity:1\"/>\n",
       "<path class=\"bond-3\" d=\"M 542.489,108.054 L 538.374,105.284\" style=\"fill:none;fill-rule:evenodd;stroke:#0000FF;stroke-width:2px;stroke-linecap:butt;stroke-linejoin:miter;stroke-opacity:1\"/>\n",
       "<path class=\"bond-4\" d=\"M 522.168,109.138 L 526.788,107.666 L 526.167,106.396 Z\" style=\"fill:#000000;fill-rule:evenodd;fill-opacity=1;stroke:#000000;stroke-width:2px;stroke-linecap:butt;stroke-linejoin:miter;stroke-opacity:1;\"/>\n",
       "<path class=\"bond-4\" d=\"M 526.788,107.666 L 530.166,103.654 L 531.408,106.195 Z\" style=\"fill:#0000FF;fill-rule:evenodd;fill-opacity=1;stroke:#0000FF;stroke-width:2px;stroke-linecap:butt;stroke-linejoin:miter;stroke-opacity:1;\"/>\n",
       "<path class=\"bond-4\" d=\"M 526.788,107.666 L 526.167,106.396 L 530.166,103.654 Z\" style=\"fill:#0000FF;fill-rule:evenodd;fill-opacity=1;stroke:#0000FF;stroke-width:2px;stroke-linecap:butt;stroke-linejoin:miter;stroke-opacity:1;\"/>\n",
       "<path class=\"bond-5\" d=\"M 522.168,109.138 L 509.675,102.51\" style=\"fill:none;fill-rule:evenodd;stroke:#000000;stroke-width:2px;stroke-linecap:butt;stroke-linejoin:miter;stroke-opacity:1\"/>\n",
       "<path class=\"bond-29\" d=\"M 522.168,109.138 L 519.724,123.067\" style=\"fill:none;fill-rule:evenodd;stroke:#000000;stroke-width:2px;stroke-linecap:butt;stroke-linejoin:miter;stroke-opacity:1\"/>\n",
       "<path class=\"bond-6\" d=\"M 509.675,102.51 L 505.615,106.438\" style=\"fill:none;fill-rule:evenodd;stroke:#000000;stroke-width:2px;stroke-linecap:butt;stroke-linejoin:miter;stroke-opacity:1\"/>\n",
       "<path class=\"bond-6\" d=\"M 505.615,106.438 L 501.554,110.366\" style=\"fill:none;fill-rule:evenodd;stroke:#0000FF;stroke-width:2px;stroke-linecap:butt;stroke-linejoin:miter;stroke-opacity:1\"/>\n",
       "<path class=\"bond-7\" d=\"M 500.664,114.699 L 503.193,119.873\" style=\"fill:none;fill-rule:evenodd;stroke:#0000FF;stroke-width:2px;stroke-linecap:butt;stroke-linejoin:miter;stroke-opacity:1\"/>\n",
       "<path class=\"bond-7\" d=\"M 503.193,119.873 L 505.722,125.047\" style=\"fill:none;fill-rule:evenodd;stroke:#000000;stroke-width:2px;stroke-linecap:butt;stroke-linejoin:miter;stroke-opacity:1\"/>\n",
       "<path class=\"bond-10\" d=\"M 497.469,111.984 L 491.525,110.942\" style=\"fill:none;fill-rule:evenodd;stroke:#0000FF;stroke-width:2px;stroke-linecap:butt;stroke-linejoin:miter;stroke-opacity:1\"/>\n",
       "<path class=\"bond-10\" d=\"M 491.525,110.942 L 485.582,109.899\" style=\"fill:none;fill-rule:evenodd;stroke:#000000;stroke-width:2px;stroke-linecap:butt;stroke-linejoin:miter;stroke-opacity:1\"/>\n",
       "<path class=\"bond-8\" d=\"M 505.722,125.047 L 519.724,123.067\" style=\"fill:none;fill-rule:evenodd;stroke:#000000;stroke-width:2px;stroke-linecap:butt;stroke-linejoin:miter;stroke-opacity:1\"/>\n",
       "<path class=\"bond-9\" d=\"M 520.433,124.003 L 520.636,123.806\" style=\"fill:none;fill-rule:evenodd;stroke:#000000;stroke-width:1px;stroke-linecap:butt;stroke-linejoin:miter;stroke-opacity:1\"/>\n",
       "<path class=\"bond-9\" d=\"M 521.142,124.939 L 521.549,124.545\" style=\"fill:none;fill-rule:evenodd;stroke:#000000;stroke-width:1px;stroke-linecap:butt;stroke-linejoin:miter;stroke-opacity:1\"/>\n",
       "<path class=\"bond-9\" d=\"M 521.851,125.875 L 522.461,125.285\" style=\"fill:none;fill-rule:evenodd;stroke:#000000;stroke-width:1px;stroke-linecap:butt;stroke-linejoin:miter;stroke-opacity:1\"/>\n",
       "<path class=\"bond-9\" d=\"M 522.559,126.811 L 523.373,126.024\" style=\"fill:none;fill-rule:evenodd;stroke:#000000;stroke-width:1px;stroke-linecap:butt;stroke-linejoin:miter;stroke-opacity:1\"/>\n",
       "<path class=\"bond-9\" d=\"M 523.268,127.747 L 524.285,126.764\" style=\"fill:none;fill-rule:evenodd;stroke:#000000;stroke-width:1px;stroke-linecap:butt;stroke-linejoin:miter;stroke-opacity:1\"/>\n",
       "<path class=\"bond-9\" d=\"M 523.977,128.683 L 525.197,127.503\" style=\"fill:none;fill-rule:evenodd;stroke:#33CCCC;stroke-width:1px;stroke-linecap:butt;stroke-linejoin:miter;stroke-opacity:1\"/>\n",
       "<path class=\"bond-9\" d=\"M 524.686,129.619 L 526.109,128.242\" style=\"fill:none;fill-rule:evenodd;stroke:#33CCCC;stroke-width:1px;stroke-linecap:butt;stroke-linejoin:miter;stroke-opacity:1\"/>\n",
       "<path class=\"bond-9\" d=\"M 525.394,130.555 L 527.021,128.982\" style=\"fill:none;fill-rule:evenodd;stroke:#33CCCC;stroke-width:1px;stroke-linecap:butt;stroke-linejoin:miter;stroke-opacity:1\"/>\n",
       "<path class=\"bond-9\" d=\"M 526.103,131.491 L 527.933,129.721\" style=\"fill:none;fill-rule:evenodd;stroke:#33CCCC;stroke-width:1px;stroke-linecap:butt;stroke-linejoin:miter;stroke-opacity:1\"/>\n",
       "<path class=\"bond-9\" d=\"M 526.812,132.427 L 528.845,130.46\" style=\"fill:none;fill-rule:evenodd;stroke:#33CCCC;stroke-width:1px;stroke-linecap:butt;stroke-linejoin:miter;stroke-opacity:1\"/>\n",
       "<path class=\"bond-11\" d=\"M 485.582,109.899 L 483.588,104.435\" style=\"fill:none;fill-rule:evenodd;stroke:#000000;stroke-width:2px;stroke-linecap:butt;stroke-linejoin:miter;stroke-opacity:1\"/>\n",
       "<path class=\"bond-11\" d=\"M 483.588,104.435 L 481.594,98.9715\" style=\"fill:none;fill-rule:evenodd;stroke:#0000FF;stroke-width:2px;stroke-linecap:butt;stroke-linejoin:miter;stroke-opacity:1\"/>\n",
       "<path class=\"bond-11\" d=\"M 482.327,109.23 L 480.931,105.405\" style=\"fill:none;fill-rule:evenodd;stroke:#000000;stroke-width:2px;stroke-linecap:butt;stroke-linejoin:miter;stroke-opacity:1\"/>\n",
       "<path class=\"bond-11\" d=\"M 480.931,105.405 L 479.535,101.58\" style=\"fill:none;fill-rule:evenodd;stroke:#0000FF;stroke-width:2px;stroke-linecap:butt;stroke-linejoin:miter;stroke-opacity:1\"/>\n",
       "<path class=\"bond-30\" d=\"M 485.582,109.899 L 482.029,114.141\" style=\"fill:none;fill-rule:evenodd;stroke:#000000;stroke-width:2px;stroke-linecap:butt;stroke-linejoin:miter;stroke-opacity:1\"/>\n",
       "<path class=\"bond-30\" d=\"M 482.029,114.141 L 478.476,118.383\" style=\"fill:none;fill-rule:evenodd;stroke:#0000FF;stroke-width:2px;stroke-linecap:butt;stroke-linejoin:miter;stroke-opacity:1\"/>\n",
       "<path class=\"bond-12\" d=\"M 478.691,96.2562 L 472.748,95.2138\" style=\"fill:none;fill-rule:evenodd;stroke:#0000FF;stroke-width:2px;stroke-linecap:butt;stroke-linejoin:miter;stroke-opacity:1\"/>\n",
       "<path class=\"bond-12\" d=\"M 472.748,95.2138 L 466.805,94.1713\" style=\"fill:none;fill-rule:evenodd;stroke:#000000;stroke-width:2px;stroke-linecap:butt;stroke-linejoin:miter;stroke-opacity:1\"/>\n",
       "<path class=\"bond-13\" d=\"M 466.805,94.1713 L 457.724,105.013\" style=\"fill:none;fill-rule:evenodd;stroke:#000000;stroke-width:2px;stroke-linecap:butt;stroke-linejoin:miter;stroke-opacity:1\"/>\n",
       "<path class=\"bond-13\" d=\"M 467.611,97.6136 L 461.255,105.202\" style=\"fill:none;fill-rule:evenodd;stroke:#000000;stroke-width:2px;stroke-linecap:butt;stroke-linejoin:miter;stroke-opacity:1\"/>\n",
       "<path class=\"bond-22\" d=\"M 466.805,94.1713 L 464.811,88.7075\" style=\"fill:none;fill-rule:evenodd;stroke:#000000;stroke-width:2px;stroke-linecap:butt;stroke-linejoin:miter;stroke-opacity:1\"/>\n",
       "<path class=\"bond-22\" d=\"M 464.811,88.7075 L 462.816,83.2437\" style=\"fill:none;fill-rule:evenodd;stroke:#0000FF;stroke-width:2px;stroke-linecap:butt;stroke-linejoin:miter;stroke-opacity:1\"/>\n",
       "<path class=\"bond-14\" d=\"M 457.724,105.013 L 462.573,118.297\" style=\"fill:none;fill-rule:evenodd;stroke:#000000;stroke-width:2px;stroke-linecap:butt;stroke-linejoin:miter;stroke-opacity:1\"/>\n",
       "<path class=\"bond-31\" d=\"M 457.724,105.013 L 451.679,105.229\" style=\"fill:none;fill-rule:evenodd;stroke:#000000;stroke-width:2px;stroke-linecap:butt;stroke-linejoin:miter;stroke-opacity:1\"/>\n",
       "<path class=\"bond-31\" d=\"M 451.679,105.229 L 445.634,105.446\" style=\"fill:none;fill-rule:evenodd;stroke:#0000FF;stroke-width:2px;stroke-linecap:butt;stroke-linejoin:miter;stroke-opacity:1\"/>\n",
       "<path class=\"bond-15\" d=\"M 462.573,118.297 L 468.516,119.34\" style=\"fill:none;fill-rule:evenodd;stroke:#000000;stroke-width:2px;stroke-linecap:butt;stroke-linejoin:miter;stroke-opacity:1\"/>\n",
       "<path class=\"bond-15\" d=\"M 468.516,119.34 L 474.459,120.382\" style=\"fill:none;fill-rule:evenodd;stroke:#0000FF;stroke-width:2px;stroke-linecap:butt;stroke-linejoin:miter;stroke-opacity:1\"/>\n",
       "<path class=\"bond-15\" d=\"M 464.844,115.824 L 469.005,116.554\" style=\"fill:none;fill-rule:evenodd;stroke:#000000;stroke-width:2px;stroke-linecap:butt;stroke-linejoin:miter;stroke-opacity:1\"/>\n",
       "<path class=\"bond-15\" d=\"M 469.005,116.554 L 473.165,117.284\" style=\"fill:none;fill-rule:evenodd;stroke:#0000FF;stroke-width:2px;stroke-linecap:butt;stroke-linejoin:miter;stroke-opacity:1\"/>\n",
       "<path class=\"bond-16\" d=\"M 462.573,118.297 L 458.026,121.856\" style=\"fill:none;fill-rule:evenodd;stroke:#000000;stroke-width:2px;stroke-linecap:butt;stroke-linejoin:miter;stroke-opacity:1\"/>\n",
       "<path class=\"bond-16\" d=\"M 458.026,121.856 L 453.48,125.415\" style=\"fill:none;fill-rule:evenodd;stroke:#0000FF;stroke-width:2px;stroke-linecap:butt;stroke-linejoin:miter;stroke-opacity:1\"/>\n",
       "<path class=\"bond-17\" d=\"M 449.394,125.638 L 444.55,122.377\" style=\"fill:none;fill-rule:evenodd;stroke:#0000FF;stroke-width:2px;stroke-linecap:butt;stroke-linejoin:miter;stroke-opacity:1\"/>\n",
       "<path class=\"bond-17\" d=\"M 444.55,122.377 L 439.706,119.116\" style=\"fill:none;fill-rule:evenodd;stroke:#000000;stroke-width:2px;stroke-linecap:butt;stroke-linejoin:miter;stroke-opacity:1\"/>\n",
       "<path class=\"bond-19\" d=\"M 451.521,129.371 L 451.732,135.258\" style=\"fill:none;fill-rule:evenodd;stroke:#0000FF;stroke-width:2px;stroke-linecap:butt;stroke-linejoin:miter;stroke-opacity:1\"/>\n",
       "<path class=\"bond-19\" d=\"M 451.732,135.258 L 451.943,141.146\" style=\"fill:none;fill-rule:evenodd;stroke:#000000;stroke-width:2px;stroke-linecap:butt;stroke-linejoin:miter;stroke-opacity:1\"/>\n",
       "<path class=\"bond-18\" d=\"M 439.706,119.116 L 441.312,113.496\" style=\"fill:none;fill-rule:evenodd;stroke:#000000;stroke-width:2px;stroke-linecap:butt;stroke-linejoin:miter;stroke-opacity:1\"/>\n",
       "<path class=\"bond-18\" d=\"M 441.312,113.496 L 442.918,107.876\" style=\"fill:none;fill-rule:evenodd;stroke:#0000FF;stroke-width:2px;stroke-linecap:butt;stroke-linejoin:miter;stroke-opacity:1\"/>\n",
       "<path class=\"bond-18\" d=\"M 442.907,118.207 L 444.031,114.273\" style=\"fill:none;fill-rule:evenodd;stroke:#000000;stroke-width:2px;stroke-linecap:butt;stroke-linejoin:miter;stroke-opacity:1\"/>\n",
       "<path class=\"bond-18\" d=\"M 444.031,114.273 L 445.156,110.339\" style=\"fill:none;fill-rule:evenodd;stroke:#0000FF;stroke-width:2px;stroke-linecap:butt;stroke-linejoin:miter;stroke-opacity:1\"/>\n",
       "<path class=\"bond-20\" d=\"M 451.943,141.146 L 439.957,148.651\" style=\"fill:none;fill-rule:evenodd;stroke:#000000;stroke-width:2px;stroke-linecap:butt;stroke-linejoin:miter;stroke-opacity:1\"/>\n",
       "<path class=\"bond-21\" d=\"M 451.943,141.146 L 464.435,147.774\" style=\"fill:none;fill-rule:evenodd;stroke:#000000;stroke-width:2px;stroke-linecap:butt;stroke-linejoin:miter;stroke-opacity:1\"/>\n",
       "<path class=\"bond-23\" d=\"M 463.93,78.5298 L 467.483,74.2876\" style=\"fill:none;fill-rule:evenodd;stroke:#0000FF;stroke-width:2px;stroke-linecap:butt;stroke-linejoin:miter;stroke-opacity:1\"/>\n",
       "<path class=\"bond-23\" d=\"M 467.483,74.2876 L 471.037,70.0454\" style=\"fill:none;fill-rule:evenodd;stroke:#000000;stroke-width:2px;stroke-linecap:butt;stroke-linejoin:miter;stroke-opacity:1\"/>\n",
       "<path class=\"bond-24\" d=\"M 471.037,70.0454 L 467.603,56.3268\" style=\"fill:none;fill-rule:evenodd;stroke:#000000;stroke-width:2px;stroke-linecap:butt;stroke-linejoin:miter;stroke-opacity:1\"/>\n",
       "<path class=\"bond-32\" d=\"M 471.037,70.0454 L 485.145,71.0193\" style=\"fill:none;fill-rule:evenodd;stroke:#000000;stroke-width:2px;stroke-linecap:butt;stroke-linejoin:miter;stroke-opacity:1\"/>\n",
       "<path class=\"bond-32\" d=\"M 473.348,67.3699 L 483.223,68.0516\" style=\"fill:none;fill-rule:evenodd;stroke:#000000;stroke-width:2px;stroke-linecap:butt;stroke-linejoin:miter;stroke-opacity:1\"/>\n",
       "<path class=\"bond-25\" d=\"M 467.603,56.3268 L 472.575,53.214\" style=\"fill:none;fill-rule:evenodd;stroke:#000000;stroke-width:2px;stroke-linecap:butt;stroke-linejoin:miter;stroke-opacity:1\"/>\n",
       "<path class=\"bond-25\" d=\"M 472.575,53.214 L 477.546,50.1012\" style=\"fill:none;fill-rule:evenodd;stroke:#0000FF;stroke-width:2px;stroke-linecap:butt;stroke-linejoin:miter;stroke-opacity:1\"/>\n",
       "<path class=\"bond-25\" d=\"M 470.596,57.7902 L 474.076,55.6113\" style=\"fill:none;fill-rule:evenodd;stroke:#000000;stroke-width:2px;stroke-linecap:butt;stroke-linejoin:miter;stroke-opacity:1\"/>\n",
       "<path class=\"bond-25\" d=\"M 474.076,55.6113 L 477.556,53.4323\" style=\"fill:none;fill-rule:evenodd;stroke:#0000FF;stroke-width:2px;stroke-linecap:butt;stroke-linejoin:miter;stroke-opacity:1\"/>\n",
       "<path class=\"bond-26\" d=\"M 481.632,50.5332 L 488.388,56.1915\" style=\"fill:none;fill-rule:evenodd;stroke:#0000FF;stroke-width:2px;stroke-linecap:butt;stroke-linejoin:miter;stroke-opacity:1\"/>\n",
       "<path class=\"bond-27\" d=\"M 489.481,60.2596 L 487.313,65.6395\" style=\"fill:none;fill-rule:evenodd;stroke:#0000FF;stroke-width:2px;stroke-linecap:butt;stroke-linejoin:miter;stroke-opacity:1\"/>\n",
       "<path class=\"bond-27\" d=\"M 487.313,65.6395 L 485.145,71.0193\" style=\"fill:none;fill-rule:evenodd;stroke:#000000;stroke-width:2px;stroke-linecap:butt;stroke-linejoin:miter;stroke-opacity:1\"/>\n",
       "<path class=\"bond-28\" d=\"M 492.474,57.3914 L 498.311,55.9303\" style=\"fill:none;fill-rule:evenodd;stroke:#0000FF;stroke-width:2px;stroke-linecap:butt;stroke-linejoin:miter;stroke-opacity:1\"/>\n",
       "<path class=\"bond-28\" d=\"M 498.311,55.9303 L 504.149,54.4692\" style=\"fill:none;fill-rule:evenodd;stroke:#000000;stroke-width:2px;stroke-linecap:butt;stroke-linejoin:miter;stroke-opacity:1\"/>\n",
       "<text style=\"font-size:4px;font-style:normal;font-weight:normal;fill-opacity:1;stroke:none;font-family:sans-serif;text-anchor:start;fill:#FF0000\" x=\"543.429\" y=\"127.29\"><tspan>O</tspan></text>\n",
       "<text style=\"font-size:4px;font-style:normal;font-weight:normal;fill-opacity:1;stroke:none;font-family:sans-serif;text-anchor:start;fill:#0000FF\" x=\"530.787\" y=\"105.284\"><tspan>NH</tspan></text>\n",
       "<text style=\"font-size:4px;font-style:normal;font-weight:normal;fill-opacity:1;stroke:none;font-family:sans-serif;text-anchor:start;fill:#0000FF\" x=\"497.469\" y=\"114.699\"><tspan>N</tspan></text>\n",
       "<text style=\"font-size:4px;font-style:normal;font-weight:normal;fill-opacity:1;stroke:none;font-family:sans-serif;text-anchor:start;fill:#33CCCC\" x=\"527.828\" y=\"135.588\"><tspan>F</tspan></text>\n",
       "<text style=\"font-size:4px;font-style:normal;font-weight:normal;fill-opacity:1;stroke:none;font-family:sans-serif;text-anchor:start;fill:#0000FF\" x=\"478.691\" y=\"98.9715\"><tspan>N</tspan></text>\n",
       "<text style=\"font-size:4px;font-style:normal;font-weight:normal;fill-opacity:1;stroke:none;font-family:sans-serif;text-anchor:start;fill:#0000FF\" x=\"474.459\" y=\"123.097\"><tspan>N</tspan></text>\n",
       "<text style=\"font-size:4px;font-style:normal;font-weight:normal;fill-opacity:1;stroke:none;font-family:sans-serif;text-anchor:start;fill:#0000FF\" x=\"449.394\" y=\"129.371\"><tspan>N</tspan></text>\n",
       "<text style=\"font-size:4px;font-style:normal;font-weight:normal;fill-opacity:1;stroke:none;font-family:sans-serif;text-anchor:start;fill:#0000FF\" x=\"441.549\" y=\"107.876\"><tspan>N</tspan></text>\n",
       "<text style=\"font-size:4px;font-style:normal;font-weight:normal;fill-opacity:1;stroke:none;font-family:sans-serif;text-anchor:start;fill:#0000FF\" x=\"457.87\" y=\"83.2437\"><tspan>NH</tspan></text>\n",
       "<text style=\"font-size:4px;font-style:normal;font-weight:normal;fill-opacity:1;stroke:none;font-family:sans-serif;text-anchor:start;fill:#0000FF\" x=\"477.546\" y=\"51.1791\"><tspan>N</tspan></text>\n",
       "<text style=\"font-size:4px;font-style:normal;font-weight:normal;fill-opacity:1;stroke:none;font-family:sans-serif;text-anchor:start;fill:#0000FF\" x=\"488.388\" y=\"60.2596\"><tspan>N</tspan></text>\n",
       "<text style=\"font-size:12px;font-style:normal;font-weight:normal;fill-opacity:1;stroke:none;font-family:sans-serif;text-anchor:start;fill:#000000\" x=\"463.568\" y=\"194\"><tspan>8BP, 5UG8</tspan></text>\n",
       "<path class=\"bond-0\" d=\"M 612.342,139.498 L 620.583,150.99\" style=\"fill:none;fill-rule:evenodd;stroke:#000000;stroke-width:2px;stroke-linecap:butt;stroke-linejoin:miter;stroke-opacity:1\"/>\n",
       "<path class=\"bond-1\" d=\"M 620.583,150.99 L 628.824,162.483\" style=\"fill:none;fill-rule:evenodd;stroke:#000000;stroke-width:2px;stroke-linecap:butt;stroke-linejoin:miter;stroke-opacity:1\"/>\n",
       "<path class=\"bond-2\" d=\"M 620.583,150.99 L 632.076,142.749\" style=\"fill:none;fill-rule:evenodd;stroke:#000000;stroke-width:2px;stroke-linecap:butt;stroke-linejoin:miter;stroke-opacity:1\"/>\n",
       "<path class=\"bond-36\" d=\"M 620.583,150.99 L 616.481,153.932\" style=\"fill:none;fill-rule:evenodd;stroke:#000000;stroke-width:2px;stroke-linecap:butt;stroke-linejoin:miter;stroke-opacity:1\"/>\n",
       "<path class=\"bond-36\" d=\"M 616.481,153.932 L 612.378,156.874\" style=\"fill:none;fill-rule:evenodd;stroke:#FF0000;stroke-width:2px;stroke-linecap:butt;stroke-linejoin:miter;stroke-opacity:1\"/>\n",
       "<path class=\"bond-3\" d=\"M 632.076,142.749 L 630.685,128.676\" style=\"fill:none;fill-rule:evenodd;stroke:#000000;stroke-width:2px;stroke-linecap:butt;stroke-linejoin:miter;stroke-opacity:1\"/>\n",
       "<path class=\"bond-4\" d=\"M 631.268,127.388 L 625.927,124.97\" style=\"fill:none;fill-rule:evenodd;stroke:#000000;stroke-width:2px;stroke-linecap:butt;stroke-linejoin:miter;stroke-opacity:1\"/>\n",
       "<path class=\"bond-4\" d=\"M 625.927,124.97 L 620.586,122.552\" style=\"fill:none;fill-rule:evenodd;stroke:#FF0000;stroke-width:2px;stroke-linecap:butt;stroke-linejoin:miter;stroke-opacity:1\"/>\n",
       "<path class=\"bond-4\" d=\"M 630.102,129.965 L 624.761,127.547\" style=\"fill:none;fill-rule:evenodd;stroke:#000000;stroke-width:2px;stroke-linecap:butt;stroke-linejoin:miter;stroke-opacity:1\"/>\n",
       "<path class=\"bond-4\" d=\"M 624.761,127.547 L 619.42,125.129\" style=\"fill:none;fill-rule:evenodd;stroke:#FF0000;stroke-width:2px;stroke-linecap:butt;stroke-linejoin:miter;stroke-opacity:1\"/>\n",
       "<path class=\"bond-5\" d=\"M 630.685,128.676 L 634.788,125.734\" style=\"fill:none;fill-rule:evenodd;stroke:#000000;stroke-width:2px;stroke-linecap:butt;stroke-linejoin:miter;stroke-opacity:1\"/>\n",
       "<path class=\"bond-5\" d=\"M 634.788,125.734 L 638.89,122.792\" style=\"fill:none;fill-rule:evenodd;stroke:#0000FF;stroke-width:2px;stroke-linecap:butt;stroke-linejoin:miter;stroke-opacity:1\"/>\n",
       "<path class=\"bond-6\" d=\"M 641.944,118.078 L 641.365,112.22\" style=\"fill:none;fill-rule:evenodd;stroke:#0000FF;stroke-width:2px;stroke-linecap:butt;stroke-linejoin:miter;stroke-opacity:1\"/>\n",
       "<path class=\"bond-6\" d=\"M 641.365,112.22 L 640.787,106.362\" style=\"fill:none;fill-rule:evenodd;stroke:#000000;stroke-width:2px;stroke-linecap:butt;stroke-linejoin:miter;stroke-opacity:1\"/>\n",
       "<path class=\"bond-7\" d=\"M 640.787,106.362 L 652.279,98.121\" style=\"fill:none;fill-rule:evenodd;stroke:#000000;stroke-width:2px;stroke-linecap:butt;stroke-linejoin:miter;stroke-opacity:1\"/>\n",
       "<path class=\"bond-8\" d=\"M 652.279,98.121 L 651.7,92.2629\" style=\"fill:none;fill-rule:evenodd;stroke:#000000;stroke-width:2px;stroke-linecap:butt;stroke-linejoin:miter;stroke-opacity:1\"/>\n",
       "<path class=\"bond-8\" d=\"M 651.7,92.2629 L 651.121,86.4048\" style=\"fill:none;fill-rule:evenodd;stroke:#0000FF;stroke-width:2px;stroke-linecap:butt;stroke-linejoin:miter;stroke-opacity:1\"/>\n",
       "<path class=\"bond-9\" d=\"M 648.845,82.8514 L 643.765,79.8762\" style=\"fill:none;fill-rule:evenodd;stroke:#0000FF;stroke-width:2px;stroke-linecap:butt;stroke-linejoin:miter;stroke-opacity:1\"/>\n",
       "<path class=\"bond-9\" d=\"M 643.765,79.8762 L 638.685,76.901\" style=\"fill:none;fill-rule:evenodd;stroke:#000000;stroke-width:2px;stroke-linecap:butt;stroke-linejoin:miter;stroke-opacity:1\"/>\n",
       "<path class=\"bond-37\" d=\"M 652.931,82.2313 L 657.194,78.441\" style=\"fill:none;fill-rule:evenodd;stroke:#0000FF;stroke-width:2px;stroke-linecap:butt;stroke-linejoin:miter;stroke-opacity:1\"/>\n",
       "<path class=\"bond-37\" d=\"M 657.194,78.441 L 661.456,74.6507\" style=\"fill:none;fill-rule:evenodd;stroke:#000000;stroke-width:2px;stroke-linecap:butt;stroke-linejoin:miter;stroke-opacity:1\"/>\n",
       "<path class=\"bond-10\" d=\"M 638.685,76.901 L 641.711,63.0868\" style=\"fill:none;fill-rule:evenodd;stroke:#000000;stroke-width:2px;stroke-linecap:butt;stroke-linejoin:miter;stroke-opacity:1\"/>\n",
       "<path class=\"bond-10\" d=\"M 641.902,75.4341 L 644.02,65.7642\" style=\"fill:none;fill-rule:evenodd;stroke:#000000;stroke-width:2px;stroke-linecap:butt;stroke-linejoin:miter;stroke-opacity:1\"/>\n",
       "<path class=\"bond-11\" d=\"M 641.711,63.0868 L 655.785,61.6961\" style=\"fill:none;fill-rule:evenodd;stroke:#000000;stroke-width:2px;stroke-linecap:butt;stroke-linejoin:miter;stroke-opacity:1\"/>\n",
       "<path class=\"bond-12\" d=\"M 655.785,61.6961 L 661.456,74.6507\" style=\"fill:none;fill-rule:evenodd;stroke:#000000;stroke-width:2px;stroke-linecap:butt;stroke-linejoin:miter;stroke-opacity:1\"/>\n",
       "<path class=\"bond-12\" d=\"M 654.044,64.7736 L 658.014,73.8418\" style=\"fill:none;fill-rule:evenodd;stroke:#000000;stroke-width:2px;stroke-linecap:butt;stroke-linejoin:miter;stroke-opacity:1\"/>\n",
       "<path class=\"bond-38\" d=\"M 655.785,61.6961 L 659.109,57.1801\" style=\"fill:none;fill-rule:evenodd;stroke:#000000;stroke-width:2px;stroke-linecap:butt;stroke-linejoin:miter;stroke-opacity:1\"/>\n",
       "<path class=\"bond-38\" d=\"M 659.109,57.1801 L 662.433,52.664\" style=\"fill:none;fill-rule:evenodd;stroke:#0000FF;stroke-width:2px;stroke-linecap:butt;stroke-linejoin:miter;stroke-opacity:1\"/>\n",
       "<path class=\"bond-13\" d=\"M 661.456,74.6507 L 675.511,76.2163\" style=\"fill:none;fill-rule:evenodd;stroke:#000000;stroke-width:2px;stroke-linecap:butt;stroke-linejoin:miter;stroke-opacity:1\"/>\n",
       "<path class=\"bond-14\" d=\"M 675.511,76.2163 L 678.835,71.7003\" style=\"fill:none;fill-rule:evenodd;stroke:#000000;stroke-width:2px;stroke-linecap:butt;stroke-linejoin:miter;stroke-opacity:1\"/>\n",
       "<path class=\"bond-14\" d=\"M 678.835,71.7003 L 682.159,67.1843\" style=\"fill:none;fill-rule:evenodd;stroke:#0000FF;stroke-width:2px;stroke-linecap:butt;stroke-linejoin:miter;stroke-opacity:1\"/>\n",
       "<path class=\"bond-14\" d=\"M 674.23,73.1849 L 676.557,70.0237\" style=\"fill:none;fill-rule:evenodd;stroke:#000000;stroke-width:2px;stroke-linecap:butt;stroke-linejoin:miter;stroke-opacity:1\"/>\n",
       "<path class=\"bond-14\" d=\"M 676.557,70.0237 L 678.884,66.8625\" style=\"fill:none;fill-rule:evenodd;stroke:#0000FF;stroke-width:2px;stroke-linecap:butt;stroke-linejoin:miter;stroke-opacity:1\"/>\n",
       "<path class=\"bond-17\" d=\"M 675.511,76.2163 L 677.831,81.5152\" style=\"fill:none;fill-rule:evenodd;stroke:#000000;stroke-width:2px;stroke-linecap:butt;stroke-linejoin:miter;stroke-opacity:1\"/>\n",
       "<path class=\"bond-17\" d=\"M 677.831,81.5152 L 680.151,86.814\" style=\"fill:none;fill-rule:evenodd;stroke:#0000FF;stroke-width:2px;stroke-linecap:butt;stroke-linejoin:miter;stroke-opacity:1\"/>\n",
       "<path class=\"bond-15\" d=\"M 682.862,62.4704 L 680.542,57.1716\" style=\"fill:none;fill-rule:evenodd;stroke:#0000FF;stroke-width:2px;stroke-linecap:butt;stroke-linejoin:miter;stroke-opacity:1\"/>\n",
       "<path class=\"bond-15\" d=\"M 680.542,57.1716 L 678.223,51.8727\" style=\"fill:none;fill-rule:evenodd;stroke:#000000;stroke-width:2px;stroke-linecap:butt;stroke-linejoin:miter;stroke-opacity:1\"/>\n",
       "<path class=\"bond-16\" d=\"M 678.223,51.8727 L 672.217,51.2037\" style=\"fill:none;fill-rule:evenodd;stroke:#000000;stroke-width:2px;stroke-linecap:butt;stroke-linejoin:miter;stroke-opacity:1\"/>\n",
       "<path class=\"bond-16\" d=\"M 672.217,51.2037 L 666.211,50.5347\" style=\"fill:none;fill-rule:evenodd;stroke:#0000FF;stroke-width:2px;stroke-linecap:butt;stroke-linejoin:miter;stroke-opacity:1\"/>\n",
       "<path class=\"bond-16\" d=\"M 676.108,54.483 L 671.904,54.0147\" style=\"fill:none;fill-rule:evenodd;stroke:#000000;stroke-width:2px;stroke-linecap:butt;stroke-linejoin:miter;stroke-opacity:1\"/>\n",
       "<path class=\"bond-16\" d=\"M 671.904,54.0147 L 667.699,53.5463\" style=\"fill:none;fill-rule:evenodd;stroke:#0000FF;stroke-width:2px;stroke-linecap:butt;stroke-linejoin:miter;stroke-opacity:1\"/>\n",
       "<path class=\"bond-18\" d=\"M 685.268,89.6261 L 690.253,90.1814\" style=\"fill:none;fill-rule:evenodd;stroke:#0000FF;stroke-width:2px;stroke-linecap:butt;stroke-linejoin:miter;stroke-opacity:1\"/>\n",
       "<path class=\"bond-18\" d=\"M 690.253,90.1814 L 695.237,90.7366\" style=\"fill:none;fill-rule:evenodd;stroke:#000000;stroke-width:2px;stroke-linecap:butt;stroke-linejoin:miter;stroke-opacity:1\"/>\n",
       "<path class=\"bond-19\" d=\"M 695.237,90.7366 L 700.909,103.691\" style=\"fill:none;fill-rule:evenodd;stroke:#000000;stroke-width:2px;stroke-linecap:butt;stroke-linejoin:miter;stroke-opacity:1\"/>\n",
       "<path class=\"bond-19\" d=\"M 698.679,91.5455 L 702.649,100.614\" style=\"fill:none;fill-rule:evenodd;stroke:#000000;stroke-width:2px;stroke-linecap:butt;stroke-linejoin:miter;stroke-opacity:1\"/>\n",
       "<path class=\"bond-39\" d=\"M 695.237,90.7366 L 703.621,79.3476\" style=\"fill:none;fill-rule:evenodd;stroke:#000000;stroke-width:2px;stroke-linecap:butt;stroke-linejoin:miter;stroke-opacity:1\"/>\n",
       "<path class=\"bond-20\" d=\"M 700.909,103.691 L 714.964,105.257\" style=\"fill:none;fill-rule:evenodd;stroke:#000000;stroke-width:2px;stroke-linecap:butt;stroke-linejoin:miter;stroke-opacity:1\"/>\n",
       "<path class=\"bond-21\" d=\"M 714.964,105.257 L 723.347,93.8679\" style=\"fill:none;fill-rule:evenodd;stroke:#000000;stroke-width:2px;stroke-linecap:butt;stroke-linejoin:miter;stroke-opacity:1\"/>\n",
       "<path class=\"bond-21\" d=\"M 713.943,101.872 L 719.812,93.8996\" style=\"fill:none;fill-rule:evenodd;stroke:#000000;stroke-width:2px;stroke-linecap:butt;stroke-linejoin:miter;stroke-opacity:1\"/>\n",
       "<path class=\"bond-22\" d=\"M 723.347,93.8679 L 717.675,80.9132\" style=\"fill:none;fill-rule:evenodd;stroke:#000000;stroke-width:2px;stroke-linecap:butt;stroke-linejoin:miter;stroke-opacity:1\"/>\n",
       "<path class=\"bond-25\" d=\"M 723.347,93.8679 L 729.274,94.5281\" style=\"fill:none;fill-rule:evenodd;stroke:#000000;stroke-width:2px;stroke-linecap:butt;stroke-linejoin:miter;stroke-opacity:1\"/>\n",
       "<path class=\"bond-25\" d=\"M 729.274,94.5281 L 735.2,95.1883\" style=\"fill:none;fill-rule:evenodd;stroke:#FF0000;stroke-width:2px;stroke-linecap:butt;stroke-linejoin:miter;stroke-opacity:1\"/>\n",
       "<path class=\"bond-23\" d=\"M 717.675,80.9132 L 703.621,79.3476\" style=\"fill:none;fill-rule:evenodd;stroke:#000000;stroke-width:2px;stroke-linecap:butt;stroke-linejoin:miter;stroke-opacity:1\"/>\n",
       "<path class=\"bond-23\" d=\"M 715.254,83.4894 L 705.416,82.3934\" style=\"fill:none;fill-rule:evenodd;stroke:#000000;stroke-width:2px;stroke-linecap:butt;stroke-linejoin:miter;stroke-opacity:1\"/>\n",
       "<path class=\"bond-24\" d=\"M 717.675,80.9132 L 720.999,76.3972\" style=\"fill:none;fill-rule:evenodd;stroke:#000000;stroke-width:2px;stroke-linecap:butt;stroke-linejoin:miter;stroke-opacity:1\"/>\n",
       "<path class=\"bond-24\" d=\"M 720.999,76.3972 L 724.324,71.8812\" style=\"fill:none;fill-rule:evenodd;stroke:#00CC00;stroke-width:2px;stroke-linecap:butt;stroke-linejoin:miter;stroke-opacity:1\"/>\n",
       "<path class=\"bond-26\" d=\"M 738.434,97.7904 L 740.753,103.089\" style=\"fill:none;fill-rule:evenodd;stroke:#FF0000;stroke-width:2px;stroke-linecap:butt;stroke-linejoin:miter;stroke-opacity:1\"/>\n",
       "<path class=\"bond-26\" d=\"M 740.753,103.089 L 743.073,108.388\" style=\"fill:none;fill-rule:evenodd;stroke:#000000;stroke-width:2px;stroke-linecap:butt;stroke-linejoin:miter;stroke-opacity:1\"/>\n",
       "<path class=\"bond-27\" d=\"M 743.073,108.388 L 734.69,119.777\" style=\"fill:none;fill-rule:evenodd;stroke:#000000;stroke-width:2px;stroke-linecap:butt;stroke-linejoin:miter;stroke-opacity:1\"/>\n",
       "<path class=\"bond-27\" d=\"M 744.093,111.773 L 738.225,119.745\" style=\"fill:none;fill-rule:evenodd;stroke:#000000;stroke-width:2px;stroke-linecap:butt;stroke-linejoin:miter;stroke-opacity:1\"/>\n",
       "<path class=\"bond-40\" d=\"M 743.073,108.388 L 757.128,109.954\" style=\"fill:none;fill-rule:evenodd;stroke:#000000;stroke-width:2px;stroke-linecap:butt;stroke-linejoin:miter;stroke-opacity:1\"/>\n",
       "<path class=\"bond-28\" d=\"M 734.69,119.777 L 740.361,132.732\" style=\"fill:none;fill-rule:evenodd;stroke:#000000;stroke-width:2px;stroke-linecap:butt;stroke-linejoin:miter;stroke-opacity:1\"/>\n",
       "<path class=\"bond-29\" d=\"M 740.361,132.732 L 754.416,134.297\" style=\"fill:none;fill-rule:evenodd;stroke:#000000;stroke-width:2px;stroke-linecap:butt;stroke-linejoin:miter;stroke-opacity:1\"/>\n",
       "<path class=\"bond-29\" d=\"M 742.783,130.156 L 752.621,131.252\" style=\"fill:none;fill-rule:evenodd;stroke:#000000;stroke-width:2px;stroke-linecap:butt;stroke-linejoin:miter;stroke-opacity:1\"/>\n",
       "<path class=\"bond-30\" d=\"M 754.416,134.297 L 762.799,122.908\" style=\"fill:none;fill-rule:evenodd;stroke:#000000;stroke-width:2px;stroke-linecap:butt;stroke-linejoin:miter;stroke-opacity:1\"/>\n",
       "<path class=\"bond-31\" d=\"M 762.799,122.908 L 757.128,109.954\" style=\"fill:none;fill-rule:evenodd;stroke:#000000;stroke-width:2px;stroke-linecap:butt;stroke-linejoin:miter;stroke-opacity:1\"/>\n",
       "<path class=\"bond-31\" d=\"M 759.358,122.099 L 755.388,113.031\" style=\"fill:none;fill-rule:evenodd;stroke:#000000;stroke-width:2px;stroke-linecap:butt;stroke-linejoin:miter;stroke-opacity:1\"/>\n",
       "<path class=\"bond-32\" d=\"M 762.799,122.908 L 776.854,124.474\" style=\"fill:none;fill-rule:evenodd;stroke:#000000;stroke-width:2px;stroke-linecap:butt;stroke-linejoin:miter;stroke-opacity:1\"/>\n",
       "<path class=\"bond-33\" d=\"M 776.854,124.474 L 783.017,125.161\" style=\"fill:none;fill-rule:evenodd;stroke:#000000;stroke-width:2px;stroke-linecap:butt;stroke-linejoin:miter;stroke-opacity:1\"/>\n",
       "<path class=\"bond-33\" d=\"M 783.017,125.161 L 789.18,125.847\" style=\"fill:none;fill-rule:evenodd;stroke:#33CCCC;stroke-width:2px;stroke-linecap:butt;stroke-linejoin:miter;stroke-opacity:1\"/>\n",
       "<path class=\"bond-34\" d=\"M 776.854,124.474 L 776.203,130.323\" style=\"fill:none;fill-rule:evenodd;stroke:#000000;stroke-width:2px;stroke-linecap:butt;stroke-linejoin:miter;stroke-opacity:1\"/>\n",
       "<path class=\"bond-34\" d=\"M 776.203,130.323 L 775.551,136.172\" style=\"fill:none;fill-rule:evenodd;stroke:#33CCCC;stroke-width:2px;stroke-linecap:butt;stroke-linejoin:miter;stroke-opacity:1\"/>\n",
       "<path class=\"bond-35\" d=\"M 776.854,124.474 L 777.506,118.625\" style=\"fill:none;fill-rule:evenodd;stroke:#000000;stroke-width:2px;stroke-linecap:butt;stroke-linejoin:miter;stroke-opacity:1\"/>\n",
       "<path class=\"bond-35\" d=\"M 777.506,118.625 L 778.157,112.776\" style=\"fill:none;fill-rule:evenodd;stroke:#33CCCC;stroke-width:2px;stroke-linecap:butt;stroke-linejoin:miter;stroke-opacity:1\"/>\n",
       "<text style=\"font-size:4px;font-style:normal;font-weight:normal;fill-opacity:1;stroke:none;font-family:sans-serif;text-anchor:start;fill:#FF0000\" x=\"615.6\" y=\"125.201\"><tspan>O</tspan></text>\n",
       "<text style=\"font-size:4px;font-style:normal;font-weight:normal;fill-opacity:1;stroke:none;font-family:sans-serif;text-anchor:start;fill:#0000FF\" x=\"638.091\" y=\"122.792\"><tspan>NH</tspan></text>\n",
       "<text style=\"font-size:4px;font-style:normal;font-weight:normal;fill-opacity:1;stroke:none;font-family:sans-serif;text-anchor:start;fill:#0000FF\" x=\"648.845\" y=\"86.4048\"><tspan>N</tspan></text>\n",
       "<text style=\"font-size:4px;font-style:normal;font-weight:normal;fill-opacity:1;stroke:none;font-family:sans-serif;text-anchor:start;fill:#0000FF\" x=\"681.851\" y=\"67.1843\"><tspan>N</tspan></text>\n",
       "<text style=\"font-size:4px;font-style:normal;font-weight:normal;fill-opacity:1;stroke:none;font-family:sans-serif;text-anchor:start;fill:#0000FF\" x=\"662.125\" y=\"52.664\"><tspan>N</tspan></text>\n",
       "<text style=\"font-size:4px;font-style:normal;font-weight:normal;fill-opacity:1;stroke:none;font-family:sans-serif;text-anchor:start;fill:#0000FF\" x=\"677.097\" y=\"91.5279\"><tspan>NH</tspan></text>\n",
       "<text style=\"font-size:4px;font-style:normal;font-weight:normal;fill-opacity:1;stroke:none;font-family:sans-serif;text-anchor:start;fill:#00CC00\" x=\"723.388\" y=\"71.8812\"><tspan>Cl</tspan></text>\n",
       "<text style=\"font-size:4px;font-style:normal;font-weight:normal;fill-opacity:1;stroke:none;font-family:sans-serif;text-anchor:start;fill:#FF0000\" x=\"735.2\" y=\"97.7904\"><tspan>O</tspan></text>\n",
       "<text style=\"font-size:4px;font-style:normal;font-weight:normal;fill-opacity:1;stroke:none;font-family:sans-serif;text-anchor:start;fill:#33CCCC\" x=\"789.18\" y=\"128.397\"><tspan>F</tspan></text>\n",
       "<text style=\"font-size:4px;font-style:normal;font-weight:normal;fill-opacity:1;stroke:none;font-family:sans-serif;text-anchor:start;fill:#33CCCC\" x=\"773.56\" y=\"140.886\"><tspan>F</tspan></text>\n",
       "<text style=\"font-size:4px;font-style:normal;font-weight:normal;fill-opacity:1;stroke:none;font-family:sans-serif;text-anchor:start;fill:#33CCCC\" x=\"776.691\" y=\"112.776\"><tspan>F</tspan></text>\n",
       "<text style=\"font-size:4px;font-style:normal;font-weight:normal;fill-opacity:1;stroke:none;font-family:sans-serif;text-anchor:start;fill:#FF0000\" x=\"604.847\" y=\"161.588\"><tspan>HO</tspan></text>\n",
       "<text style=\"font-size:12px;font-style:normal;font-weight:normal;fill-opacity:1;stroke:none;font-family:sans-serif;text-anchor:start;fill:#000000\" x=\"664.367\" y=\"194\"><tspan>03P, 3POZ</tspan></text>\n",
       "</svg>"
      ],
      "text/plain": [
       "<IPython.core.display.SVG object>"
      ]
     },
     "execution_count": 36,
     "metadata": {},
     "output_type": "execute_result"
    }
   ],
   "source": [
    "PandasTools.AddMoleculeColumnToFrame(ligs, 'smiles')\n",
    "Draw.MolsToGridImage(mols=list(ligs.ROMol), \n",
    "                     legends=list(ligs['@chemicalID']+', '+ligs['@structureId']), \n",
    "                     molsPerRow=top_num)"
   ]
  },
  {
   "cell_type": "markdown",
   "metadata": {},
   "source": [
    "### タンパク質ーリガンド IDペアの作成"
   ]
  },
  {
   "cell_type": "code",
   "execution_count": 38,
   "metadata": {},
   "outputs": [
    {
     "name": "stdout",
     "output_type": "stream",
     "text": [
      "OrderedDict([('5UG9', '8AM'), ('5HG8', '634'), ('5UG8', '8BP'), ('3POZ', '03P')])\n"
     ]
    }
   ],
   "source": [
    "pairs = collections.OrderedDict()\n",
    "\n",
    "for idx, row in ligs.iterrows():\n",
    "    pairs[str(row['@structureId'])] = str(row['@chemicalID'])\n",
    "\n",
    "print(pairs)"
   ]
  },
  {
   "cell_type": "markdown",
   "metadata": {},
   "source": [
    "**訳注(2020/05)**  \n",
    "OrderedDictは順序つきの辞書です。ここではタンパク質のPDB IDとリガンドのIDをそれぞれDataFrameの`@structureId`列と`@chemicalID`列から取得し、keyとvalueとしています。  \n",
    "**訳注ここまで**"
   ]
  },
  {
   "cell_type": "markdown",
   "metadata": {},
   "source": [
    "### PDB構造ファイルの取得\n",
    "\n",
    "では、`pypdb`の`get_pdb_file`関数を使ってPDBからPDB構造ファイルを取得します。すなわちタンパク質、リガンド（そして可能な場合には補因子や水分子、そしてイオンといった他の原子あるいは分子）の３次元座標を取得します。\n",
    "利用可能なファイルフォーマットは*pdb*と*cif*で、タンパク質（とリガンド、補因子、水分子、イオン）の原子の３次元座標と、原子間の結合に関する情報とが格納されています。ここでは*pdb*ファイルを使用します。"
   ]
  },
  {
   "cell_type": "code",
   "execution_count": 39,
   "metadata": {},
   "outputs": [],
   "source": [
    "# PDBファイルを取ってきてローカルに保存する\n",
    "for prot, lig in pairs.items():\n",
    "    pdb_file = get_pdb_file(prot, filetype='pdb', compression=False)\n",
    "    with open('../data/T8/'+ prot + '.pdb', 'w') as f:\n",
    "        f.write(pdb_file)"
   ]
  },
  {
   "cell_type": "markdown",
   "metadata": {},
   "source": [
    "### PDB構造の重ね合わせ\n",
    "\n",
    "次のトークトリアルでリガンドベースの組み合わせファーマコフォアを作成したいので、全ての構造を互いに３次元で重ね合わせする（アラインメントを取る）必要があります。このタスクのため、分子描画プログラムPyMolを使用します。PyMolはJupyter notebookの中でも使うことができます。PyMolは２つの構造間の原子の距離が最小になるように、一度に２つの構造の重ね合わせをします。\n",
    "\n",
    "まず最初にコマンドラインからPyMolを立ち上げます（quietモード、すなわちGUIが開かないモード）。"
   ]
  },
  {
   "cell_type": "code",
   "execution_count": 40,
   "metadata": {},
   "outputs": [],
   "source": [
    "# PyMolをquietモードで立ち上げる\n",
    "pymol.pymol_argv = ['pymol','-qc']\n",
    "pymol.finish_launching()"
   ]
  },
  {
   "cell_type": "markdown",
   "metadata": {},
   "source": [
    "重ね合わせのために、リファレンスとなる構造のファイル（動かさないPDB、'target'）を選択し、それに対してもう一方の（'query'）構造ファイルを、PyMolのコマンド`cmd.align(query, target)`を使って重ね合わせます。全ての `cmd.` コマンドはPyMolのコマンドです。\n",
    "\n",
    "重ね合わせた構造を新しい座標とともに*pdb* ファイルとして保存します。また、構造ファイルからリガンドを取り出して別の*pdb*ファイルとして保存し、次のトークトリアルで使用します。"
   ]
  },
  {
   "cell_type": "code",
   "execution_count": 41,
   "metadata": {},
   "outputs": [],
   "source": [
    "# アラインメントのログをファイルに保存\n",
    "f = open(\"../data/T8/alignments.log\", \"w\")\n",
    "\n",
    "# アラインメントの間、動かさない構造と動かす構造とを区別するための変数\n",
    "immobile_pdb = True\n",
    "refAlignTarget='non'\n",
    "refAlignQuery='non'\n",
    "\n",
    "# 最初のタンパク質に対してタンパク質のアラインメントを取る\n",
    "for prot, lig in pairs.items():\n",
    "    \n",
    "    # 動かさない構造（アラインメントのリファレンス構造）\n",
    "    if immobile_pdb:\n",
    "        target = prot\n",
    "        f.write('Immobile target: ' + prot + '\\n')\n",
    "        \n",
    "        # pdbファイルの読み込み（タンパク質とリガンドの複合体）\n",
    "        targetFile = cmd.load('../data/T8/' + target + '.pdb')\n",
    "        # 精密化したアラインメントのための名前を格納\n",
    "        refAlignTarget='('+target+' within 5 of resn '+lig+')'\n",
    "        \n",
    "        # 複合体をpdbファイルとして保存\n",
    "        cmd.save('../data/T8/' + target + '_algn.pdb', selection=target)\n",
    "        \n",
    "        # 選択した名前のリガンドだけを選択\n",
    "        ligObj = cmd.select('ligand', target + ' and resn ' + lig)\n",
    "        # 選択したものをpdbファイルとして保存\n",
    "        cmd.save('../data/T8/' + target + '_lig.pdb', selection='ligand', format='pdb')\n",
    "        # リガンドの選択を削除\n",
    "        cmd.delete(ligObj)\n",
    "        # targetが選択されました。\n",
    "        immobile_pdb = False\n",
    "        \n",
    "    # 動かす構造（リファレンス構造に対して重ね合わせる）\n",
    "    else:\n",
    "        query = prot\n",
    "        f.write('-- align %s to %s \\n' %(query, target))\n",
    "        \n",
    "        # pdbファイルの読み込み（タンパク質のリガンドの複合体）\n",
    "        queryFile = cmd.load('../data/T8/' + query + '.pdb')\n",
    "        \n",
    "        # 結合サイトに焦点をあてて構造（タンパク質）を重ね合わせる\n",
    "        refAlignQuery= '('+query+' within 5 of resn '+lig+')' \n",
    "        values = cmd.align(refAlignQuery, refAlignTarget)\n",
    "        \n",
    "        \n",
    "        # 構造の重ね合わせができない場合（即ち、RMSD > 5A の場合）、スキップする\n",
    "        if values[0] > 5:\n",
    "            f.write('--- bad alignment: skip structure\\n')\n",
    "        else:\n",
    "            # 複合体をpdbファイルとして保存\n",
    "            cmd.save('../data/T8/' + query + '_algn.pdb', selection=query)\n",
    "            \n",
    "            # リガンドのみを選択\n",
    "            ligObj = cmd.select('ligand', query + ' and resn ' + lig)\n",
    "            \n",
    "            # 選択したものをpdbファイルとして保存\n",
    "            cmd.save('../data/T8/' + query + '_lig.pdb', selection='ligand', format='pdb')\n",
    "            \n",
    "            # リガンドの選択を削除\n",
    "            cmd.delete(ligObj)\n",
    "            \n",
    "        # \"query\"の選択を削除\n",
    "        cmd.delete(query)\n",
    "    \n",
    "# \"target\"の選択を削除\n",
    "cmd.delete(target)\n",
    "\n",
    "f.close()"
   ]
  },
  {
   "cell_type": "markdown",
   "metadata": {},
   "source": [
    "**訳注(2020/05)**  \n",
    "Pymol Wikiを参照して上のセルの補足をします。  \n",
    "アラインメントのコマンド`cmd.align`に渡す引数の`refAlignTarget`と`refAlignQuery`はどちらも`( PDB_ID within 5 resn of Ligand_ID)`という文字列になる変数です。これは「タンパク質（PDB_ID）のうち、残基名(resn, residune name)で指定されたリガンド（Ligand_ID）の5Å以内に入る部分」を指し示すようです。リガンドの周囲を指定してアラインメントをとっているので「結合サイトに焦点をあてて重ね合わせる」ことになるようです。  \n",
    "また、`cmd.align`の戻り値は7つあり、一番最初（index 0）が「精密化した後のRMSD」となっているため、`if values[0] > 5`という条件文になっているようです（[PyMol Wiki: Align](https://pymolwiki.org/index.php/Align)）。  \n",
    "**訳注ここまで**"
   ]
  },
  {
   "cell_type": "markdown",
   "metadata": {},
   "source": [
    "PyMolアプリケーションを終了します。"
   ]
  },
  {
   "cell_type": "code",
   "execution_count": 42,
   "metadata": {},
   "outputs": [],
   "source": [
    "# PyMolを終了\n",
    "pymol.cmd.quit()"
   ]
  },
  {
   "cell_type": "markdown",
   "metadata": {},
   "source": [
    "全てのリガンド*pdb*ファイルが存在していることを確認します。もしファイルが欠けていたなら、手作業でPyMOLでタンパク質ーリガンド複合体構造をチェックしてください。"
   ]
  },
  {
   "cell_type": "code",
   "execution_count": 43,
   "metadata": {},
   "outputs": [
    {
     "data": {
      "text/plain": [
       "['../data/T8/5UG8_lig.pdb',\n",
       " '../data/T8/3POZ_lig.pdb',\n",
       " '../data/T8/5UG9_lig.pdb',\n",
       " '../data/T8/5HG8_lig.pdb']"
      ]
     },
     "execution_count": 43,
     "metadata": {},
     "output_type": "execute_result"
    }
   ],
   "source": [
    "mol_files = []\n",
    "for file in glob.glob(\"../data/T8/*_lig.pdb\"):\n",
    "    mol_files.append(file)\n",
    "mol_files"
   ]
  },
  {
   "cell_type": "markdown",
   "metadata": {},
   "source": [
    "## ディスカッション\n",
    "\n",
    "このトークトリアルでは、PDBからタンパク質とリガンドのメタ情報と構造情報を取得する方法を学びました。X線構造だけを残し、分解能とリガンドがあるかどうかによって絞りこみました。最終的な目標は、重ね合わせたリガンドのセットを使って、次のトークトリアルでリガンドベースの組み合わせファーマコフォアを作成することです。\n",
    "\n",
    "ファーマコフォアモデリングのためにリガンドについての情報量を多くするため、PDB構造を分解能でフィルタリングするだけでなく、リガンドの多様性をチェックすること（類似性による分子クラスタリングについては**トークトリアル 5**を参照）と、リガンドの生理活性をチェックする（即ち、活性があるリガンドだけを含める）ことをお勧めします。\n",
    "\n",
    "## クイズ\n",
    "\n",
    "1. Protein Data Bankの含むデータの種類を要約してください。\n",
    "2. 構造の分解能が何を表し、このトークトリアルではどうやって、また、なぜ分解能についてフィルタリングしたのかを説明してください。\n",
    "3. 構造の重ね合わせ（アラインメントを取ること）とはどういう意味か説明し、このトークとリアルで実施したアラインメントについて議論してください。"
   ]
  },
  {
   "cell_type": "code",
   "execution_count": null,
   "metadata": {
    "collapsed": true
   },
   "outputs": [],
   "source": []
  }
 ],
 "metadata": {
  "anaconda-cloud": {},
  "hide_input": false,
  "kernelspec": {
   "display_name": "toc",
   "language": "python",
   "name": "toc"
  },
  "language_info": {
   "codemirror_mode": {
    "name": "ipython",
    "version": 3
   },
   "file_extension": ".py",
   "mimetype": "text/x-python",
   "name": "python",
   "nbconvert_exporter": "python",
   "pygments_lexer": "ipython3",
   "version": "3.7.6"
  },
  "toc": {
   "base_numbering": 1,
   "nav_menu": {},
   "number_sections": true,
   "sideBar": true,
   "skip_h1_title": false,
   "title_cell": "Table of Contents",
   "title_sidebar": "Contents",
   "toc_cell": false,
   "toc_position": {},
   "toc_section_display": true,
   "toc_window_display": false
  },
  "varInspector": {
   "cols": {
    "lenName": 16,
    "lenType": 16,
    "lenVar": 40
   },
   "kernels_config": {
    "python": {
     "delete_cmd_postfix": "",
     "delete_cmd_prefix": "del ",
     "library": "var_list.py",
     "varRefreshCmd": "print(var_dic_list())"
    },
    "r": {
     "delete_cmd_postfix": ") ",
     "delete_cmd_prefix": "rm(",
     "library": "var_list.r",
     "varRefreshCmd": "cat(var_dic_list()) "
    }
   },
   "types_to_exclude": [
    "module",
    "function",
    "builtin_function_or_method",
    "instance",
    "_Feature"
   ],
   "window_display": false
  }
 },
 "nbformat": 4,
 "nbformat_minor": 2
}
