{
 "cells": [
  {
   "cell_type": "markdown",
   "metadata": {},
   "source": [
    "# トークトリアル１\n",
    "\n",
    "# 化合物データの取得 (ChEMBL)\n",
    "\n",
    "#### Developed in the CADD seminars 2017 and 2018, AG Volkamer, Charité/FU Berlin \n",
    "\n",
    "Paula Junge and Svetlana Leng"
   ]
  },
  {
   "cell_type": "markdown",
   "metadata": {},
   "source": [
    "## このトークトリアルの目的\n",
    "\n",
    "ChEMBLからデータを抽出する方法の学習:\n",
    "\n",
    "* ある特定の標的に対して評価済みのリガンドを見つける\n",
    "* 取得可能な生理活性データでフィルタリング\n",
    "* pIC50値の計算\n",
    "* データフレームを結合し、取り出した分子を描画\n",
    "\n",
    "## 学習の目標\n",
    "\n",
    "\n",
    "### 理論\n",
    "\n",
    "* ChEMBLデータベース\n",
    "    * ChEMBL webサービス\n",
    "    * ChEMBL webリソースクライアント\n",
    "* 化合物の活性の評価\n",
    "    * IC50\n",
    "    * pIC50\n",
    "\n",
    "### 実践\n",
    "    \n",
    "目標：与えられた標的に対する生理活性データのある化合物のリストを取得すること\n",
    "\n",
    "* ChEMBLデータベースへの接続\n",
    "* 標的（ターゲット分子）に関するデータの取得 (EGFR kinase)\n",
    "* 生理活性データ\n",
    "    * 生理活性をダウンロードしフィルタリングする\n",
    "    * データの整型と変換\n",
    "* 化合物データ\n",
    "    * 化合物リストの取得\n",
    "    * 出力データの準備\n",
    "* 出力\n",
    "    * 最もpIC50値の大きい分子を描画\n",
    "    * アウトプットファイルの書き出し\n",
    "\n",
    "\n",
    "## レファレンス\n",
    "\n",
    "* ChEMBL生理活性データベース(https://www.ncbi.nlm.nih.gov/pmc/articles/PMC5210557/)\n",
    "* ChEMBL Webサービス: <i>Nucleic Acids Res.</i> (2015), <b>43</b>, 612-620 (https://academic.oup.com/nar/article/43/W1/W612/2467881) \n",
    "* ChEMBL Webリソースクライアント GitHub (https://github.com/chembl/chembl_webresource_client)\n",
    "* myChEMBL Webサービス バージョン2.x (https://github.com/chembl/mychembl/blob/master/ipython_notebooks/09_myChEMBL_web_services.ipynb)\n",
    "* ChEMBL Webインターフェース (https://www.ebi.ac.uk/chembl/)\n",
    "* EBI-RDF プラットフォーム (https://www.ncbi.nlm.nih.gov/pubmed/24413672)\n",
    "* IC50 と pIC50 (https://en.wikipedia.org/wiki/IC50)\n",
    "* UniProt Webサイト (https://www.uniprot.org/)"
   ]
  },
  {
   "cell_type": "markdown",
   "metadata": {},
   "source": [
    "_____________________________________________________________________________________________________________________\n",
    "\n",
    "\n",
    "## 理論\n",
    "\n",
    "### ChEMBLデータベース\n",
    "\n",
    "* 大規模な生理活性の公開データベース\n",
    "* **現在のデータ内容 (10.2018時点):**\n",
    "    * 1.8 百万以上のユニークな構造の化合物\n",
    "    * 1 百万アッセイに基づく 15 百万以上の活性値\n",
    "    * ∼12 000 のターゲット分子に紐づけられたアッセイ\n",
    "* **データソース** に含まれているもの：科学文献、PubChemバイオアッセイ、顧みられない病気のための創薬イニシアティブ(Drugs for Neglected Diseases Initiative (DNDi))、BindingDB データベース、などなど\n",
    "* ChEMBLのデータは [Webインターフェース](https://www.ebi.ac.uk/chembl/)あるいは [EBI-RDFプラットフォーム](https://www.ncbi.nlm.nih.gov/pubmed/24413672) 、 [ChEMBL Webサービス](https://www.ncbi.nlm.nih.gov/pmc/articles/PMC4489243/#B5)　からアクセスすることができます。\n",
    " \n",
    "    \n",
    "#### ChEMBL Webサービス\n",
    "\n",
    "* RESTful webサービス\n",
    "* ChEMBL webサービス バージョン 2.x リソーススキーマ: \n",
    "\n",
    "[![ChEMBL web service schema](images/chembl_webservices_schema_diagram.jpg)](https://www.ncbi.nlm.nih.gov/pmc/articles/PMC4489243/figure/F2/)\n",
    "\n",
    "*Figure 1:* \n",
    "\"ChEMBL webサービス スキーマダイアグラム。楕円型はChEMBL webサービスのリソースを示し、二つのリソースを繋ぐラインは、それらが共通の特徴を共有していることを示します。矢印の向きはリソースタイプについての一次情報を見つけられる場所を示しています。点線は２つのリソースの関係が異なる形式で振舞うことを示しています。例えば、`Image` リソースは `Molecule` のグラフィカルな描写を提供します。Figureと説明は次の文献からとりました: [<i>Nucleic Acids Res.</i> (2015), <b>43</b>, 612-620](https://academic.oup.com/nar/article/43/W1/W612/2467881).\n",
    "\n",
    "\n",
    "#### ChEMBL webリソースクライアント\n",
    "\n",
    "* ChEMBLのデータにアクセスするためのPythonクライアントライブラリ\n",
    "* HTTPSプロトコルとのやり取りを行う\n",
    "* 結果の遅延評価（lazy evaluation） -> ネットワークリクエストを減らす\n",
    "\n",
    "### 化合物活性評価\n",
    "\n",
    "#### IC50 \n",
    "\n",
    "* [50%阻害濃度（IC50、Half maximal inhibitory concentration)](https://en.wikipedia.org/wiki/IC50)\n",
    "* ある生物学的なプロセスを半分阻害するのに必要な、ある特定の医薬品あるいは物質の量を示す値\n",
    "\n",
    "[<img src=\"https://upload.wikimedia.org/wikipedia/commons/8/81/Example_IC50_curve_demonstrating_visually_how_IC50_is_derived.png\" width=\"450\" align=\"center\" >](https://commons.wikimedia.org/wiki/File:Example_IC50_curve_demonstrating_visually_how_IC50_is_derived.png)\n",
    "\n",
    "*Figure 2:* IC50値を算出する方法を視覚的に表した図:　阻害を縦軸、log(濃度)を横軸にデータを配置し、阻害の最大と最小を決定する。曲線が50%阻害レベルと交差する点の濃度がIC50\n",
    "\n",
    "#### pIC50\n",
    "\n",
    "* IC50値の比較を容易にするため、pIC50値をlogスケールで次のように定義しています <br />\n",
    "    $ pIC_{50} = -log_{10}(IC_{50}) $  （$ IC_{50}$の単位はM）\n",
    "* pIC50が大きくなるほど指数関数的に薬効が強くなっていることを示します\n",
    "* pIC50はモル濃度の指標で与えられます (mol/L or M) <br />\n",
    "    * IC50はM単位に換算したあとで、pIC50に変換する必要があります。  \n",
    "    * nMの場合は: $pIC_{50} = -log_{10}(IC_{50}*10^{-9})= 9-log_{10}(IC_{50}) $\n",
    "    \n",
    "IC50と、pIC50に加えて、その他の生理活性の指標として、平衡定数 [KI](https://en.wikipedia.org/wiki/Equilibrium_constant) と50%効果濃度(half maximal effective concentration ([EC50](https://en.wikipedia.org/wiki/EC50) ))といったものが使われます。"
   ]
  },
  {
   "cell_type": "markdown",
   "metadata": {},
   "source": [
    "## 実践\n",
    "\n",
    "それでは、我々の興味のあるターゲット分子であるEGFRキナーゼに対して、評価が実施された全ての分子をダウンロードしたいと思います。\n",
    "\n",
    "### ChEMBLデータベースへの接続"
   ]
  },
  {
   "cell_type": "markdown",
   "metadata": {},
   "source": [
    "まず、ChEMBL webリソースクライアントと他のpythonライブラリーをインポートします。"
   ]
  },
  {
   "cell_type": "code",
   "execution_count": 1,
   "metadata": {},
   "outputs": [],
   "source": [
    "from chembl_webresource_client.new_client import new_client\n",
    "import pandas as pd\n",
    "import math\n",
    "from rdkit.Chem import PandasTools"
   ]
  },
  {
   "cell_type": "markdown",
   "metadata": {},
   "source": [
    "**訳注(04.2020時点)**\n",
    "```from chembl_webresource_client.new_client import new_client``` を実行すると以下のようなでエラーが出ました。\n",
    "```\n",
    "Exception: svg+xml is not an available format (['xml', 'json', 'yaml', 'svg'])\n",
    "```\n",
    "こちらの問題はclientのバージョンを上げることで解決できます。イシュー [#71](https://github.com/chembl/chembl_webresource_client/issues/71)を参照してください。アップデートは\n",
    "```bash\n",
    "pip install -U chembl-webresource-client\n",
    "```\n",
    "で実行可能でした。 「-U」を忘れずに！  \n",
    "**訳注ここまで**"
   ]
  },
  {
   "cell_type": "markdown",
   "metadata": {},
   "source": [
    "APIアクセスのためのリソースオブジェクトを作成します"
   ]
  },
  {
   "cell_type": "code",
   "execution_count": 2,
   "metadata": {},
   "outputs": [],
   "source": [
    "targets = new_client.target\n",
    "compounds = new_client.molecule\n",
    "bioactivities = new_client.activity"
   ]
  },
  {
   "cell_type": "markdown",
   "metadata": {},
   "source": [
    "## ターゲット分子のデータ\n",
    "\n",
    "* UniProt Webサイト (https://www.uniprot.org/)　から目的とするターゲット分子（EGFRキナーゼ）の UniProt-ID (http://www.uniprot.org/uniprot/P00533) を取得します。\n",
    "* UniProt-ID を使用してターゲット分子の情報を取得します。\n",
    "* 他のターゲット分子に興味があるときは、ターゲットに合わせて異なるUniProt-IDを選択してください"
   ]
  },
  {
   "cell_type": "code",
   "execution_count": 6,
   "metadata": {
    "scrolled": false
   },
   "outputs": [
    {
     "name": "stdout",
     "output_type": "stream",
     "text": [
      "<class 'chembl_webresource_client.query_set.QuerySet'>\n"
     ]
    },
    {
     "data": {
      "text/html": [
       "<div>\n",
       "<style scoped>\n",
       "    .dataframe tbody tr th:only-of-type {\n",
       "        vertical-align: middle;\n",
       "    }\n",
       "\n",
       "    .dataframe tbody tr th {\n",
       "        vertical-align: top;\n",
       "    }\n",
       "\n",
       "    .dataframe thead th {\n",
       "        text-align: right;\n",
       "    }\n",
       "</style>\n",
       "<table border=\"1\" class=\"dataframe\">\n",
       "  <thead>\n",
       "    <tr style=\"text-align: right;\">\n",
       "      <th></th>\n",
       "      <th>cross_references</th>\n",
       "      <th>organism</th>\n",
       "      <th>pref_name</th>\n",
       "      <th>species_group_flag</th>\n",
       "      <th>target_chembl_id</th>\n",
       "      <th>target_components</th>\n",
       "      <th>target_type</th>\n",
       "      <th>tax_id</th>\n",
       "    </tr>\n",
       "  </thead>\n",
       "  <tbody>\n",
       "    <tr>\n",
       "      <th>0</th>\n",
       "      <td>[{'xref_id': 'O43451', 'xref_name': None, 'xre...</td>\n",
       "      <td>Homo sapiens</td>\n",
       "      <td>Maltase-glucoamylase</td>\n",
       "      <td>False</td>\n",
       "      <td>CHEMBL2074</td>\n",
       "      <td>[{'accession': 'O43451', 'component_descriptio...</td>\n",
       "      <td>SINGLE PROTEIN</td>\n",
       "      <td>9606.0</td>\n",
       "    </tr>\n",
       "    <tr>\n",
       "      <th>1</th>\n",
       "      <td>NaN</td>\n",
       "      <td>Homo sapiens</td>\n",
       "      <td>Epidermal growth factor receptor erbB1</td>\n",
       "      <td>NaN</td>\n",
       "      <td>CHEMBL203</td>\n",
       "      <td>NaN</td>\n",
       "      <td>SINGLE PROTEIN</td>\n",
       "      <td>NaN</td>\n",
       "    </tr>\n",
       "    <tr>\n",
       "      <th>2</th>\n",
       "      <td>NaN</td>\n",
       "      <td>Homo sapiens</td>\n",
       "      <td>Epidermal growth factor receptor and ErbB2 (HE...</td>\n",
       "      <td>NaN</td>\n",
       "      <td>CHEMBL2111431</td>\n",
       "      <td>NaN</td>\n",
       "      <td>PROTEIN FAMILY</td>\n",
       "      <td>NaN</td>\n",
       "    </tr>\n",
       "    <tr>\n",
       "      <th>3</th>\n",
       "      <td>NaN</td>\n",
       "      <td>Homo sapiens</td>\n",
       "      <td>Epidermal growth factor receptor</td>\n",
       "      <td>NaN</td>\n",
       "      <td>CHEMBL2363049</td>\n",
       "      <td>NaN</td>\n",
       "      <td>PROTEIN FAMILY</td>\n",
       "      <td>NaN</td>\n",
       "    </tr>\n",
       "    <tr>\n",
       "      <th>4</th>\n",
       "      <td>NaN</td>\n",
       "      <td>Homo sapiens</td>\n",
       "      <td>MER intracellular domain/EGFR extracellular do...</td>\n",
       "      <td>NaN</td>\n",
       "      <td>CHEMBL3137284</td>\n",
       "      <td>NaN</td>\n",
       "      <td>CHIMERIC PROTEIN</td>\n",
       "      <td>NaN</td>\n",
       "    </tr>\n",
       "  </tbody>\n",
       "</table>\n",
       "</div>"
      ],
      "text/plain": [
       "                                    cross_references      organism  \\\n",
       "0  [{'xref_id': 'O43451', 'xref_name': None, 'xre...  Homo sapiens   \n",
       "1                                                NaN  Homo sapiens   \n",
       "2                                                NaN  Homo sapiens   \n",
       "3                                                NaN  Homo sapiens   \n",
       "4                                                NaN  Homo sapiens   \n",
       "\n",
       "                                           pref_name species_group_flag  \\\n",
       "0                               Maltase-glucoamylase              False   \n",
       "1             Epidermal growth factor receptor erbB1                NaN   \n",
       "2  Epidermal growth factor receptor and ErbB2 (HE...                NaN   \n",
       "3                   Epidermal growth factor receptor                NaN   \n",
       "4  MER intracellular domain/EGFR extracellular do...                NaN   \n",
       "\n",
       "  target_chembl_id                                  target_components  \\\n",
       "0       CHEMBL2074  [{'accession': 'O43451', 'component_descriptio...   \n",
       "1        CHEMBL203                                                NaN   \n",
       "2    CHEMBL2111431                                                NaN   \n",
       "3    CHEMBL2363049                                                NaN   \n",
       "4    CHEMBL3137284                                                NaN   \n",
       "\n",
       "        target_type  tax_id  \n",
       "0    SINGLE PROTEIN  9606.0  \n",
       "1    SINGLE PROTEIN     NaN  \n",
       "2    PROTEIN FAMILY     NaN  \n",
       "3    PROTEIN FAMILY     NaN  \n",
       "4  CHIMERIC PROTEIN     NaN  "
      ]
     },
     "execution_count": 6,
     "metadata": {},
     "output_type": "execute_result"
    }
   ],
   "source": [
    "uniprot_id = 'P00533'\n",
    "# ChEMBLからターゲット分子の情報を取得しますが、\n",
    "# 取得する項目を特定のものに絞って取得します。\n",
    "target_P00533 = targets.get(target_components__accession=uniprot_id) \\\n",
    "                       .only('target_chembl_id', 'organism', 'pref_name', 'target_type')\n",
    "print(type(target_P00533))\n",
    "pd.DataFrame.from_records(target_P00533)"
   ]
  },
  {
   "cell_type": "markdown",
   "metadata": {},
   "source": [
    "**訳注(0４.2020時点)**\n",
    "\n",
    "出力したtypeはQuerySetとなっています。Django QuerySetインターフェースに基づいたデザインとなっているそうです。詳しくはchemble_webresource_clientの[GitHub](https://github.com/chembl/chembl_webresource_client)を参照してください\n",
    "出力結果はオリジナルのJupyter Notebookと異なっています。\n",
    "\n",
    "* ```only(~)``` で項目を絞っているはずですが、データフレームに表示された項目は絞られていません。  \n",
    "* また、chembl_webresouce_clientの[`only`オペレーター](https://github.com/chembl/chembl_webresource_client/tree/46a5c9b264db7f91ea8c78fc4e71e9ca36f2870d#only-operator)の使用方法では引数をリストにすることが推奨されています。    \n",
    "* index 0 のエントリーが「CHEMBL2074」 となっています。こちらはEGFRではなさそうです。エラーでしょうか？\n",
    "\n",
    "参考までに、データの取得と絞り込みを２段階に分けた方法を下に示します。データフレームのカラムを選択しているだけです。"
   ]
  },
  {
   "cell_type": "code",
   "execution_count": 4,
   "metadata": {
    "scrolled": true
   },
   "outputs": [
    {
     "data": {
      "text/html": [
       "<div>\n",
       "<style scoped>\n",
       "    .dataframe tbody tr th:only-of-type {\n",
       "        vertical-align: middle;\n",
       "    }\n",
       "\n",
       "    .dataframe tbody tr th {\n",
       "        vertical-align: top;\n",
       "    }\n",
       "\n",
       "    .dataframe thead th {\n",
       "        text-align: right;\n",
       "    }\n",
       "</style>\n",
       "<table border=\"1\" class=\"dataframe\">\n",
       "  <thead>\n",
       "    <tr style=\"text-align: right;\">\n",
       "      <th></th>\n",
       "      <th>organism</th>\n",
       "      <th>pref_name</th>\n",
       "      <th>target_chembl_id</th>\n",
       "      <th>target_type</th>\n",
       "    </tr>\n",
       "  </thead>\n",
       "  <tbody>\n",
       "    <tr>\n",
       "      <th>0</th>\n",
       "      <td>Homo sapiens</td>\n",
       "      <td>Maltase-glucoamylase</td>\n",
       "      <td>CHEMBL2074</td>\n",
       "      <td>SINGLE PROTEIN</td>\n",
       "    </tr>\n",
       "    <tr>\n",
       "      <th>1</th>\n",
       "      <td>Homo sapiens</td>\n",
       "      <td>Epidermal growth factor receptor erbB1</td>\n",
       "      <td>CHEMBL203</td>\n",
       "      <td>SINGLE PROTEIN</td>\n",
       "    </tr>\n",
       "    <tr>\n",
       "      <th>2</th>\n",
       "      <td>Homo sapiens</td>\n",
       "      <td>Epidermal growth factor receptor and ErbB2 (HE...</td>\n",
       "      <td>CHEMBL2111431</td>\n",
       "      <td>PROTEIN FAMILY</td>\n",
       "    </tr>\n",
       "    <tr>\n",
       "      <th>3</th>\n",
       "      <td>Homo sapiens</td>\n",
       "      <td>Epidermal growth factor receptor</td>\n",
       "      <td>CHEMBL2363049</td>\n",
       "      <td>PROTEIN FAMILY</td>\n",
       "    </tr>\n",
       "    <tr>\n",
       "      <th>4</th>\n",
       "      <td>Homo sapiens</td>\n",
       "      <td>MER intracellular domain/EGFR extracellular do...</td>\n",
       "      <td>CHEMBL3137284</td>\n",
       "      <td>CHIMERIC PROTEIN</td>\n",
       "    </tr>\n",
       "  </tbody>\n",
       "</table>\n",
       "</div>"
      ],
      "text/plain": [
       "       organism                                          pref_name  \\\n",
       "0  Homo sapiens                               Maltase-glucoamylase   \n",
       "1  Homo sapiens             Epidermal growth factor receptor erbB1   \n",
       "2  Homo sapiens  Epidermal growth factor receptor and ErbB2 (HE...   \n",
       "3  Homo sapiens                   Epidermal growth factor receptor   \n",
       "4  Homo sapiens  MER intracellular domain/EGFR extracellular do...   \n",
       "\n",
       "  target_chembl_id       target_type  \n",
       "0       CHEMBL2074    SINGLE PROTEIN  \n",
       "1        CHEMBL203    SINGLE PROTEIN  \n",
       "2    CHEMBL2111431    PROTEIN FAMILY  \n",
       "3    CHEMBL2363049    PROTEIN FAMILY  \n",
       "4    CHEMBL3137284  CHIMERIC PROTEIN  "
      ]
     },
     "execution_count": 4,
     "metadata": {},
     "output_type": "execute_result"
    }
   ],
   "source": [
    "target_P00533 = targets.get(target_components__accession=uniprot_id) \n",
    "selected_target_values = ['organism', 'pref_name', 'target_chembl_id', 'target_type']\n",
    "df_trarget_tmp = pd.DataFrame.from_records(target_P00533)[selected_target_values]\n",
    "df_trarget_tmp"
   ]
  },
  {
   "cell_type": "markdown",
   "metadata": {},
   "source": [
    "**訳注ここまで**"
   ]
  },
  {
   "cell_type": "markdown",
   "metadata": {},
   "source": [
    "### ヒットしたエントリーを確認したのち、最初のエントリーを目的のターゲット分子として選択\n",
    "`CHEMBL203`: 単一のタンパク質（single protein）で human Epidermal growth factor receptor (EGFR, 別名 erbB1) を表しています。"
   ]
  },
  {
   "cell_type": "code",
   "execution_count": 7,
   "metadata": {},
   "outputs": [
    {
     "data": {
      "text/plain": [
       "{'organism': 'Homo sapiens',\n",
       " 'pref_name': 'Epidermal growth factor receptor erbB1',\n",
       " 'target_chembl_id': 'CHEMBL203',\n",
       " 'target_type': 'SINGLE PROTEIN'}"
      ]
     },
     "execution_count": 7,
     "metadata": {},
     "output_type": "execute_result"
    }
   ],
   "source": [
    "target = target_P00533[0]\n",
    "target"
   ]
  },
  {
   "cell_type": "markdown",
   "metadata": {},
   "source": [
    "**訳注(0４.2020時点)**\n",
    "\n",
    "DataFrameのindex 0 と同一の結果（「CHEMBL2074の出力」）となるかと思いましたが、オリジナルのGitHub のノートブック同様に「CHEMBL203」のが出力されました。QuerySetをDataFrameに変換するタイミングでエラーがあるのでしょうか？\n",
    "\n",
    "**訳注ここまで**"
   ]
  },
  {
   "cell_type": "markdown",
   "metadata": {},
   "source": [
    "選択したChEMBL-IDを保存します。"
   ]
  },
  {
   "cell_type": "code",
   "execution_count": 8,
   "metadata": {},
   "outputs": [
    {
     "data": {
      "text/plain": [
       "'CHEMBL203'"
      ]
     },
     "execution_count": 8,
     "metadata": {},
     "output_type": "execute_result"
    }
   ],
   "source": [
    "chembl_id = target['target_chembl_id']\n",
    "chembl_id"
   ]
  },
  {
   "cell_type": "markdown",
   "metadata": {},
   "source": [
    "### 生理活性データ\n",
    "\n",
    "それでは、目的とするターゲット分子の生理活性データをクエリとして投げたいと思います。\n",
    "\n",
    "#### ターゲット分子の生理活性をダウンロードしてフィルタリング"
   ]
  },
  {
   "cell_type": "markdown",
   "metadata": {},
   "source": [
    "この工程では、生理活性データをダウンロードし、フィルターをかけます。次の項目のみ考慮します。\n",
    "\n",
    "* ヒトタンパク質（human proteins）\n",
    "* 生理活性タイプ（bioactivity type IC50）\n",
    "* 精確な測定結果（関係式が '='　となっているもの)    \n",
    "* 結合データ (アッセイタイプ 'B')"
   ]
  },
  {
   "cell_type": "code",
   "execution_count": 9,
   "metadata": {
    "scrolled": true
   },
   "outputs": [
    {
     "data": {
      "text/plain": [
       "(43, chembl_webresource_client.query_set.QuerySet, dict)"
      ]
     },
     "execution_count": 9,
     "metadata": {},
     "output_type": "execute_result"
    }
   ],
   "source": [
    "bioact = bioactivities.filter(target_chembl_id = chembl_id) \\\n",
    "                      .filter(type = 'IC50') \\\n",
    "                      .filter(relation = '=') \\\n",
    "                      .filter(assay_type = 'B') \\\n",
    "                      .only('activity_id','assay_chembl_id', 'assay_description', 'assay_type', \\\n",
    "                            'molecule_chembl_id', 'type', 'units', 'relation', 'value', \\\n",
    "                            'target_chembl_id', 'target_organism')\n",
    "# len(bioact), len(bioact[0]), type(bioact), type(bioact[0])\n",
    "len(bioact[0]), type(bioact), type(bioact[0])"
   ]
  },
  {
   "cell_type": "markdown",
   "metadata": {},
   "source": [
    "**訳注(04.2020時点)**\n",
    "\n",
    "`len(bioact)` はNonTypeのため表示できないといったエラーが出ました。コメントアウトし、残りの３つを表示させています。  \n",
    "`len(bioact)` に相当するデータ（ヒットした化合物の数）は以降のDataFrame化、サイズ確認の段階で確認できます。\n",
    "\n",
    "**訳注ここまで**"
   ]
  },
  {
   "cell_type": "markdown",
   "metadata": {},
   "source": [
    "ChEMBLデータベースにクエリを投げるのが難しければ、先のセルのクエリの結果（11 April 2019）を含むファイルを提供しています。Pythonのパッケージ pickleを使いました。pickelはPythonのオブジェクトをシリアライズし、ファイルに保存、あとでプログラムに読み込めるようにします。（オブジェクトのシリアライズについて、さらに学びたいときには次を参照してください  [DataCamp](https://www.datacamp.com/community/tutorials/pickle-python-tutorial) )\n",
    "\n",
    "pickle化した化合物を読み込むには次のセルのコメントアウトを外して実行してください。\n"
   ]
  },
  {
   "cell_type": "code",
   "execution_count": 10,
   "metadata": {},
   "outputs": [],
   "source": [
    "#import pickle\n",
    "#bioact = pickle.load(open(\"../data/T1/EGFR_compounds_from_chembl_query_20190411.p\", \"rb\"))"
   ]
  },
  {
   "cell_type": "markdown",
   "metadata": {},
   "source": [
    "#### 生理活性データを整型し変換する\n",
    "\n",
    "データは辞書のリストととして保存されています。"
   ]
  },
  {
   "cell_type": "code",
   "execution_count": 11,
   "metadata": {},
   "outputs": [
    {
     "data": {
      "text/plain": [
       "{'activity_comment': None,\n",
       " 'activity_id': 31863,\n",
       " 'activity_properties': [],\n",
       " 'assay_chembl_id': 'CHEMBL663853',\n",
       " 'assay_description': 'Inhibitory concentration against human DNA topoisomerase II, alpha mediated relaxation of pBR322; no measurable activity',\n",
       " 'assay_type': 'B',\n",
       " 'bao_endpoint': 'BAO_0000190',\n",
       " 'bao_format': 'BAO_0000357',\n",
       " 'bao_label': 'single protein format',\n",
       " 'canonical_smiles': 'c1ccc(-c2nc3c(-c4nc5ccccc5o4)cccc3o2)cc1',\n",
       " 'data_validity_comment': None,\n",
       " 'data_validity_description': None,\n",
       " 'document_chembl_id': 'CHEMBL1137930',\n",
       " 'document_journal': 'Bioorg. Med. Chem. Lett.',\n",
       " 'document_year': 2004,\n",
       " 'ligand_efficiency': None,\n",
       " 'molecule_chembl_id': 'CHEMBL113081',\n",
       " 'molecule_pref_name': None,\n",
       " 'parent_molecule_chembl_id': 'CHEMBL113081',\n",
       " 'pchembl_value': None,\n",
       " 'potential_duplicate': False,\n",
       " 'qudt_units': 'http://www.openphacts.org/units/Nanomolar',\n",
       " 'record_id': 206172,\n",
       " 'relation': '>',\n",
       " 'src_id': 1,\n",
       " 'standard_flag': True,\n",
       " 'standard_relation': '>',\n",
       " 'standard_text_value': None,\n",
       " 'standard_type': 'IC50',\n",
       " 'standard_units': 'nM',\n",
       " 'standard_upper_value': None,\n",
       " 'standard_value': '100000.0',\n",
       " 'target_chembl_id': 'CHEMBL1806',\n",
       " 'target_organism': 'Homo sapiens',\n",
       " 'target_pref_name': 'DNA topoisomerase II alpha',\n",
       " 'target_tax_id': '9606',\n",
       " 'text_value': None,\n",
       " 'toid': None,\n",
       " 'type': 'IC50',\n",
       " 'units': 'uM',\n",
       " 'uo_units': 'UO_0000065',\n",
       " 'upper_value': None,\n",
       " 'value': '100.0'}"
      ]
     },
     "execution_count": 11,
     "metadata": {},
     "output_type": "execute_result"
    }
   ],
   "source": [
    "bioact[0]"
   ]
  },
  {
   "cell_type": "markdown",
   "metadata": {},
   "source": [
    "PandasのDataFrameに変換します。（数分かかるかもしれません）\n",
    "\n",
    "**訳注(04.2020時点)**  \n",
    "上の出力でもクエリでのデータ取得の段階での項目の絞り込みがうまく機能していません。  \n",
    "オリジナルのノートブックでは次に`pandas.DataFrame.from_records`によりDataFrameに変換していますが、項目数が多すぎるためかうまく変換できませんでした。  \n",
    "そこで冗長ですが、以下のセルでは一度csvファイルに出力し、csvをDataFrameに読み込むという作業を行なっています。  \n",
    "csv出力の段階で項目の絞り込みを実施ししています。（クエリの`only` の代替）。  \n",
    "また、DataFrame変換後、項目の値の条件によるフィルタリングを念のため再度実施しています。  \n",
    "**訳注ここまで**"
   ]
  },
  {
   "cell_type": "code",
   "execution_count": 19,
   "metadata": {},
   "outputs": [],
   "source": [
    "import csv\n",
    "\n",
    "# 出力したいフィールド （csvのheaderにする）\n",
    "fields = ['activity_id','assay_chembl_id', 'assay_description', 'assay_type', 'molecule_chembl_id', 'type', 'units', 'relation', 'value', 'target_chembl_id', 'target_organism']\n",
    "\n",
    "# bioact.csvというファイルを作成し出力する\n",
    "with open('../data/T1/bioact.csv', 'w') as f:\n",
    "    writer = csv.writer(f)\n",
    "    \n",
    "    # ヘッダーの書き込み\n",
    "    writer.writerow(fields)\n",
    "    \n",
    "    # activityのデータを１行ずつ書き込み\n",
    "    for act_data in bioact:\n",
    "        row = []\n",
    "        \n",
    "        for field in fields:\n",
    "            row.append(act_data[field])\n",
    "        \n",
    "        writer.writerow(row)"
   ]
  },
  {
   "cell_type": "code",
   "execution_count": 24,
   "metadata": {
    "scrolled": true
   },
   "outputs": [
    {
     "data": {
      "text/html": [
       "<div>\n",
       "<style scoped>\n",
       "    .dataframe tbody tr th:only-of-type {\n",
       "        vertical-align: middle;\n",
       "    }\n",
       "\n",
       "    .dataframe tbody tr th {\n",
       "        vertical-align: top;\n",
       "    }\n",
       "\n",
       "    .dataframe thead th {\n",
       "        text-align: right;\n",
       "    }\n",
       "</style>\n",
       "<table border=\"1\" class=\"dataframe\">\n",
       "  <thead>\n",
       "    <tr style=\"text-align: right;\">\n",
       "      <th></th>\n",
       "      <th>activity_id</th>\n",
       "      <th>assay_chembl_id</th>\n",
       "      <th>assay_description</th>\n",
       "      <th>assay_type</th>\n",
       "      <th>molecule_chembl_id</th>\n",
       "      <th>type</th>\n",
       "      <th>units</th>\n",
       "      <th>relation</th>\n",
       "      <th>value</th>\n",
       "      <th>target_chembl_id</th>\n",
       "      <th>target_organism</th>\n",
       "    </tr>\n",
       "  </thead>\n",
       "  <tbody>\n",
       "    <tr>\n",
       "      <th>0</th>\n",
       "      <td>32260</td>\n",
       "      <td>CHEMBL674637</td>\n",
       "      <td>Inhibitory activity towards tyrosine phosphory...</td>\n",
       "      <td>B</td>\n",
       "      <td>CHEMBL68920</td>\n",
       "      <td>IC50</td>\n",
       "      <td>uM</td>\n",
       "      <td>=</td>\n",
       "      <td>0.041</td>\n",
       "      <td>CHEMBL203</td>\n",
       "      <td>Homo sapiens</td>\n",
       "    </tr>\n",
       "    <tr>\n",
       "      <th>1</th>\n",
       "      <td>32267</td>\n",
       "      <td>CHEMBL674637</td>\n",
       "      <td>Inhibitory activity towards tyrosine phosphory...</td>\n",
       "      <td>B</td>\n",
       "      <td>CHEMBL69960</td>\n",
       "      <td>IC50</td>\n",
       "      <td>uM</td>\n",
       "      <td>=</td>\n",
       "      <td>0.170</td>\n",
       "      <td>CHEMBL203</td>\n",
       "      <td>Homo sapiens</td>\n",
       "    </tr>\n",
       "    <tr>\n",
       "      <th>2</th>\n",
       "      <td>32680</td>\n",
       "      <td>CHEMBL677833</td>\n",
       "      <td>In vitro inhibition of Epidermal growth factor...</td>\n",
       "      <td>B</td>\n",
       "      <td>CHEMBL137635</td>\n",
       "      <td>IC50</td>\n",
       "      <td>uM</td>\n",
       "      <td>=</td>\n",
       "      <td>9.300</td>\n",
       "      <td>CHEMBL203</td>\n",
       "      <td>Homo sapiens</td>\n",
       "    </tr>\n",
       "    <tr>\n",
       "      <th>3</th>\n",
       "      <td>32770</td>\n",
       "      <td>CHEMBL674643</td>\n",
       "      <td>Inhibitory concentration of EGF dependent auto...</td>\n",
       "      <td>B</td>\n",
       "      <td>CHEMBL306988</td>\n",
       "      <td>IC50</td>\n",
       "      <td>uM</td>\n",
       "      <td>=</td>\n",
       "      <td>500.000</td>\n",
       "      <td>CHEMBL203</td>\n",
       "      <td>Homo sapiens</td>\n",
       "    </tr>\n",
       "    <tr>\n",
       "      <th>4</th>\n",
       "      <td>32772</td>\n",
       "      <td>CHEMBL674643</td>\n",
       "      <td>Inhibitory concentration of EGF dependent auto...</td>\n",
       "      <td>B</td>\n",
       "      <td>CHEMBL66879</td>\n",
       "      <td>IC50</td>\n",
       "      <td>uM</td>\n",
       "      <td>=</td>\n",
       "      <td>3000.000</td>\n",
       "      <td>CHEMBL203</td>\n",
       "      <td>Homo sapiens</td>\n",
       "    </tr>\n",
       "    <tr>\n",
       "      <th>5</th>\n",
       "      <td>32780</td>\n",
       "      <td>CHEMBL674643</td>\n",
       "      <td>Inhibitory concentration of EGF dependent auto...</td>\n",
       "      <td>B</td>\n",
       "      <td>CHEMBL77085</td>\n",
       "      <td>IC50</td>\n",
       "      <td>uM</td>\n",
       "      <td>=</td>\n",
       "      <td>96.000</td>\n",
       "      <td>CHEMBL203</td>\n",
       "      <td>Homo sapiens</td>\n",
       "    </tr>\n",
       "    <tr>\n",
       "      <th>6</th>\n",
       "      <td>33406</td>\n",
       "      <td>CHEMBL674637</td>\n",
       "      <td>Inhibitory activity towards tyrosine phosphory...</td>\n",
       "      <td>B</td>\n",
       "      <td>CHEMBL443268</td>\n",
       "      <td>IC50</td>\n",
       "      <td>uM</td>\n",
       "      <td>=</td>\n",
       "      <td>5.310</td>\n",
       "      <td>CHEMBL203</td>\n",
       "      <td>Homo sapiens</td>\n",
       "    </tr>\n",
       "    <tr>\n",
       "      <th>7</th>\n",
       "      <td>34039</td>\n",
       "      <td>CHEMBL674643</td>\n",
       "      <td>Inhibitory concentration of EGF dependent auto...</td>\n",
       "      <td>B</td>\n",
       "      <td>CHEMBL76979</td>\n",
       "      <td>IC50</td>\n",
       "      <td>uM</td>\n",
       "      <td>=</td>\n",
       "      <td>264.000</td>\n",
       "      <td>CHEMBL203</td>\n",
       "      <td>Homo sapiens</td>\n",
       "    </tr>\n",
       "    <tr>\n",
       "      <th>8</th>\n",
       "      <td>34041</td>\n",
       "      <td>CHEMBL674643</td>\n",
       "      <td>Inhibitory concentration of EGF dependent auto...</td>\n",
       "      <td>B</td>\n",
       "      <td>CHEMBL76589</td>\n",
       "      <td>IC50</td>\n",
       "      <td>uM</td>\n",
       "      <td>=</td>\n",
       "      <td>0.125</td>\n",
       "      <td>CHEMBL203</td>\n",
       "      <td>Homo sapiens</td>\n",
       "    </tr>\n",
       "    <tr>\n",
       "      <th>9</th>\n",
       "      <td>34049</td>\n",
       "      <td>CHEMBL674643</td>\n",
       "      <td>Inhibitory concentration of EGF dependent auto...</td>\n",
       "      <td>B</td>\n",
       "      <td>CHEMBL76904</td>\n",
       "      <td>IC50</td>\n",
       "      <td>uM</td>\n",
       "      <td>=</td>\n",
       "      <td>35.000</td>\n",
       "      <td>CHEMBL203</td>\n",
       "      <td>Homo sapiens</td>\n",
       "    </tr>\n",
       "  </tbody>\n",
       "</table>\n",
       "</div>"
      ],
      "text/plain": [
       "   activity_id assay_chembl_id  \\\n",
       "0        32260    CHEMBL674637   \n",
       "1        32267    CHEMBL674637   \n",
       "2        32680    CHEMBL677833   \n",
       "3        32770    CHEMBL674643   \n",
       "4        32772    CHEMBL674643   \n",
       "5        32780    CHEMBL674643   \n",
       "6        33406    CHEMBL674637   \n",
       "7        34039    CHEMBL674643   \n",
       "8        34041    CHEMBL674643   \n",
       "9        34049    CHEMBL674643   \n",
       "\n",
       "                                   assay_description assay_type  \\\n",
       "0  Inhibitory activity towards tyrosine phosphory...          B   \n",
       "1  Inhibitory activity towards tyrosine phosphory...          B   \n",
       "2  In vitro inhibition of Epidermal growth factor...          B   \n",
       "3  Inhibitory concentration of EGF dependent auto...          B   \n",
       "4  Inhibitory concentration of EGF dependent auto...          B   \n",
       "5  Inhibitory concentration of EGF dependent auto...          B   \n",
       "6  Inhibitory activity towards tyrosine phosphory...          B   \n",
       "7  Inhibitory concentration of EGF dependent auto...          B   \n",
       "8  Inhibitory concentration of EGF dependent auto...          B   \n",
       "9  Inhibitory concentration of EGF dependent auto...          B   \n",
       "\n",
       "  molecule_chembl_id  type units relation     value target_chembl_id  \\\n",
       "0        CHEMBL68920  IC50    uM        =     0.041        CHEMBL203   \n",
       "1        CHEMBL69960  IC50    uM        =     0.170        CHEMBL203   \n",
       "2       CHEMBL137635  IC50    uM        =     9.300        CHEMBL203   \n",
       "3       CHEMBL306988  IC50    uM        =   500.000        CHEMBL203   \n",
       "4        CHEMBL66879  IC50    uM        =  3000.000        CHEMBL203   \n",
       "5        CHEMBL77085  IC50    uM        =    96.000        CHEMBL203   \n",
       "6       CHEMBL443268  IC50    uM        =     5.310        CHEMBL203   \n",
       "7        CHEMBL76979  IC50    uM        =   264.000        CHEMBL203   \n",
       "8        CHEMBL76589  IC50    uM        =     0.125        CHEMBL203   \n",
       "9        CHEMBL76904  IC50    uM        =    35.000        CHEMBL203   \n",
       "\n",
       "  target_organism  \n",
       "0    Homo sapiens  \n",
       "1    Homo sapiens  \n",
       "2    Homo sapiens  \n",
       "3    Homo sapiens  \n",
       "4    Homo sapiens  \n",
       "5    Homo sapiens  \n",
       "6    Homo sapiens  \n",
       "7    Homo sapiens  \n",
       "8    Homo sapiens  \n",
       "9    Homo sapiens  "
      ]
     },
     "execution_count": 24,
     "metadata": {},
     "output_type": "execute_result"
    }
   ],
   "source": [
    "bioact_df_tmp = pd.read_csv('../data/T1/bioact.csv')\n",
    "\n",
    "bioact_df = bioact_df_tmp.query('type == \"IC50\" and assay_type == \"B\" and relation == \"=\"') # 条件に合致する行を残す\n",
    "bioact_df.head(10)"
   ]
  },
  {
   "cell_type": "code",
   "execution_count": 25,
   "metadata": {
    "scrolled": true
   },
   "outputs": [
    {
     "data": {
      "text/plain": [
       "(7177, 11)"
      ]
     },
     "execution_count": 25,
     "metadata": {},
     "output_type": "execute_result"
    }
   ],
   "source": [
    "bioact_df.shape"
   ]
  },
  {
   "cell_type": "markdown",
   "metadata": {},
   "source": [
    "欠損値のあるエントリーを削除します。"
   ]
  },
  {
   "cell_type": "code",
   "execution_count": 26,
   "metadata": {},
   "outputs": [
    {
     "data": {
      "text/plain": [
       "(7176, 11)"
      ]
     },
     "execution_count": 26,
     "metadata": {},
     "output_type": "execute_result"
    }
   ],
   "source": [
    "bioact_df = bioact_df.dropna(axis=0, how = 'any')\n",
    "bioact_df.shape"
   ]
  },
  {
   "cell_type": "markdown",
   "metadata": {},
   "source": [
    "重複を削除します。同じ化合物(`molecule_chembl_id`) について複数回の評価データが登録されていることが時々あります。今回は最初の結果だけを採用します。"
   ]
  },
  {
   "cell_type": "code",
   "execution_count": 27,
   "metadata": {},
   "outputs": [
    {
     "data": {
      "text/plain": [
       "(5505, 11)"
      ]
     },
     "execution_count": 27,
     "metadata": {},
     "output_type": "execute_result"
    }
   ],
   "source": [
    "bioact_df = bioact_df.drop_duplicates('molecule_chembl_id', keep = 'first')\n",
    "bioact_df.shape"
   ]
  },
  {
   "cell_type": "markdown",
   "metadata": {},
   "source": [
    "生理活性値がモル濃度の単位で評価されているものだけを残したいと思います。次のprint文は、どのような単位が含まれているかを確認し、行をいくつか削除したあとでどのようなエントリーが残すか調整するのに役立ちます。"
   ]
  },
  {
   "cell_type": "code",
   "execution_count": 28,
   "metadata": {},
   "outputs": [
    {
     "name": "stdout",
     "output_type": "stream",
     "text": [
      "['uM' 'nM' 'M' \"10'1 ug/ml\" 'ug ml-1' \"10'-1microM\" \"10'1 uM\"\n",
      " \"10'-1 ug/ml\" \"10'-2 ug/ml\" \"10'2 uM\" '/uM' \"10'-6g/ml\" 'mM' 'umol/L'\n",
      " 'nmol/L']\n",
      "['uM' 'nM' 'M' \"10'-1microM\" \"10'1 uM\" \"10'2 uM\" '/uM' 'mM']\n"
     ]
    },
    {
     "data": {
      "text/plain": [
       "(5435, 11)"
      ]
     },
     "execution_count": 28,
     "metadata": {},
     "output_type": "execute_result"
    }
   ],
   "source": [
    "print(bioact_df.units.unique())\n",
    "bioact_df = bioact_df.drop(bioact_df.index[~bioact_df.units.str.contains('M')])\n",
    "print(bioact_df.units.unique())\n",
    "bioact_df.shape"
   ]
  },
  {
   "cell_type": "markdown",
   "metadata": {},
   "source": [
    "**訳注(04.2020時点)**  \n",
    "上のセルの条件 `~bioact_df.units.str.contains('M')`の`~`は`not`を意味します。  \n",
    "pandasの条件では`and`、`or`、`not`の代わりに`&`、`|`、`~`を使うことでエラーを回避できるそうです。[参考](https://note.nkmk.me/python-numpy-pandas-value-error-ambiguous/)  \n",
    "**訳注ここまで**"
   ]
  },
  {
   "cell_type": "markdown",
   "metadata": {},
   "source": [
    "いくつか行を削除しましたが、あとでインデックスにしたがって反復処理（iteration）を行いたいので、インデックスを連続した値にリセットします。"
   ]
  },
  {
   "cell_type": "code",
   "execution_count": 31,
   "metadata": {
    "scrolled": true
   },
   "outputs": [
    {
     "data": {
      "text/html": [
       "<div>\n",
       "<style scoped>\n",
       "    .dataframe tbody tr th:only-of-type {\n",
       "        vertical-align: middle;\n",
       "    }\n",
       "\n",
       "    .dataframe tbody tr th {\n",
       "        vertical-align: top;\n",
       "    }\n",
       "\n",
       "    .dataframe thead th {\n",
       "        text-align: right;\n",
       "    }\n",
       "</style>\n",
       "<table border=\"1\" class=\"dataframe\">\n",
       "  <thead>\n",
       "    <tr style=\"text-align: right;\">\n",
       "      <th></th>\n",
       "      <th>activity_id</th>\n",
       "      <th>assay_chembl_id</th>\n",
       "      <th>assay_description</th>\n",
       "      <th>assay_type</th>\n",
       "      <th>molecule_chembl_id</th>\n",
       "      <th>type</th>\n",
       "      <th>units</th>\n",
       "      <th>relation</th>\n",
       "      <th>value</th>\n",
       "      <th>target_chembl_id</th>\n",
       "      <th>target_organism</th>\n",
       "    </tr>\n",
       "  </thead>\n",
       "  <tbody>\n",
       "    <tr>\n",
       "      <th>0</th>\n",
       "      <td>32260</td>\n",
       "      <td>CHEMBL674637</td>\n",
       "      <td>Inhibitory activity towards tyrosine phosphory...</td>\n",
       "      <td>B</td>\n",
       "      <td>CHEMBL68920</td>\n",
       "      <td>IC50</td>\n",
       "      <td>uM</td>\n",
       "      <td>=</td>\n",
       "      <td>0.041</td>\n",
       "      <td>CHEMBL203</td>\n",
       "      <td>Homo sapiens</td>\n",
       "    </tr>\n",
       "    <tr>\n",
       "      <th>1</th>\n",
       "      <td>32267</td>\n",
       "      <td>CHEMBL674637</td>\n",
       "      <td>Inhibitory activity towards tyrosine phosphory...</td>\n",
       "      <td>B</td>\n",
       "      <td>CHEMBL69960</td>\n",
       "      <td>IC50</td>\n",
       "      <td>uM</td>\n",
       "      <td>=</td>\n",
       "      <td>0.170</td>\n",
       "      <td>CHEMBL203</td>\n",
       "      <td>Homo sapiens</td>\n",
       "    </tr>\n",
       "    <tr>\n",
       "      <th>2</th>\n",
       "      <td>32680</td>\n",
       "      <td>CHEMBL677833</td>\n",
       "      <td>In vitro inhibition of Epidermal growth factor...</td>\n",
       "      <td>B</td>\n",
       "      <td>CHEMBL137635</td>\n",
       "      <td>IC50</td>\n",
       "      <td>uM</td>\n",
       "      <td>=</td>\n",
       "      <td>9.300</td>\n",
       "      <td>CHEMBL203</td>\n",
       "      <td>Homo sapiens</td>\n",
       "    </tr>\n",
       "    <tr>\n",
       "      <th>3</th>\n",
       "      <td>32770</td>\n",
       "      <td>CHEMBL674643</td>\n",
       "      <td>Inhibitory concentration of EGF dependent auto...</td>\n",
       "      <td>B</td>\n",
       "      <td>CHEMBL306988</td>\n",
       "      <td>IC50</td>\n",
       "      <td>uM</td>\n",
       "      <td>=</td>\n",
       "      <td>500.000</td>\n",
       "      <td>CHEMBL203</td>\n",
       "      <td>Homo sapiens</td>\n",
       "    </tr>\n",
       "    <tr>\n",
       "      <th>4</th>\n",
       "      <td>32772</td>\n",
       "      <td>CHEMBL674643</td>\n",
       "      <td>Inhibitory concentration of EGF dependent auto...</td>\n",
       "      <td>B</td>\n",
       "      <td>CHEMBL66879</td>\n",
       "      <td>IC50</td>\n",
       "      <td>uM</td>\n",
       "      <td>=</td>\n",
       "      <td>3000.000</td>\n",
       "      <td>CHEMBL203</td>\n",
       "      <td>Homo sapiens</td>\n",
       "    </tr>\n",
       "  </tbody>\n",
       "</table>\n",
       "</div>"
      ],
      "text/plain": [
       "   activity_id assay_chembl_id  \\\n",
       "0        32260    CHEMBL674637   \n",
       "1        32267    CHEMBL674637   \n",
       "2        32680    CHEMBL677833   \n",
       "3        32770    CHEMBL674643   \n",
       "4        32772    CHEMBL674643   \n",
       "\n",
       "                                   assay_description assay_type  \\\n",
       "0  Inhibitory activity towards tyrosine phosphory...          B   \n",
       "1  Inhibitory activity towards tyrosine phosphory...          B   \n",
       "2  In vitro inhibition of Epidermal growth factor...          B   \n",
       "3  Inhibitory concentration of EGF dependent auto...          B   \n",
       "4  Inhibitory concentration of EGF dependent auto...          B   \n",
       "\n",
       "  molecule_chembl_id  type units relation     value target_chembl_id  \\\n",
       "0        CHEMBL68920  IC50    uM        =     0.041        CHEMBL203   \n",
       "1        CHEMBL69960  IC50    uM        =     0.170        CHEMBL203   \n",
       "2       CHEMBL137635  IC50    uM        =     9.300        CHEMBL203   \n",
       "3       CHEMBL306988  IC50    uM        =   500.000        CHEMBL203   \n",
       "4        CHEMBL66879  IC50    uM        =  3000.000        CHEMBL203   \n",
       "\n",
       "  target_organism  \n",
       "0    Homo sapiens  \n",
       "1    Homo sapiens  \n",
       "2    Homo sapiens  \n",
       "3    Homo sapiens  \n",
       "4    Homo sapiens  "
      ]
     },
     "execution_count": 31,
     "metadata": {},
     "output_type": "execute_result"
    }
   ],
   "source": [
    "bioact_df = bioact_df.reset_index(drop=True)  # drop=Trueで元の引数を削除\n",
    "bioact_df.head()"
   ]
  },
  {
   "cell_type": "markdown",
   "metadata": {},
   "source": [
    "IC50値をさらに比較可能とするために、全ての単位をnMに変換します。まず、ヘルパー関数を書きます。この関数を次工程でデータフレーム全体に適用します。"
   ]
  },
  {
   "cell_type": "code",
   "execution_count": 32,
   "metadata": {},
   "outputs": [],
   "source": [
    "def convert_to_NM(unit, bioactivity):\n",
    "#     c=0\n",
    "# for i, unit in enumerate(bioact_df.units):\n",
    "    if unit != \"nM\":        \n",
    "        if unit == \"pM\":\n",
    "            value = float(bioactivity)/1000\n",
    "        elif unit == \"10'-11M\":\n",
    "            value = float(bioactivity)/100\n",
    "        elif unit == \"10'-10M\":\n",
    "            value = float(bioactivity)/10\n",
    "        elif unit == \"10'-8M\":\n",
    "            value = float(bioactivity)*10\n",
    "        elif unit == \"10'-1microM\" or unit == \"10'-7M\":\n",
    "            value = float(bioactivity)*100\n",
    "        elif unit == \"uM\" or unit == \"/uM\" or unit == \"10'-6M\":\n",
    "            value = float(bioactivity)*1000\n",
    "        elif unit == \"10'1 uM\":\n",
    "            value = float(bioactivity)*10000\n",
    "        elif unit == \"10'2 uM\":\n",
    "            value = float(bioactivity)*100000\n",
    "        elif unit == \"mM\":\n",
    "            value = float(bioactivity)*1000000\n",
    "        elif unit == \"M\":\n",
    "            value = float(bioactivity)*1000000000\n",
    "        else:\n",
    "            print ('unit not recognized...', unit)\n",
    "        return value\n",
    "    else: return bioactivity"
   ]
  },
  {
   "cell_type": "code",
   "execution_count": 33,
   "metadata": {},
   "outputs": [
    {
     "data": {
      "text/html": [
       "<div>\n",
       "<style scoped>\n",
       "    .dataframe tbody tr th:only-of-type {\n",
       "        vertical-align: middle;\n",
       "    }\n",
       "\n",
       "    .dataframe tbody tr th {\n",
       "        vertical-align: top;\n",
       "    }\n",
       "\n",
       "    .dataframe thead th {\n",
       "        text-align: right;\n",
       "    }\n",
       "</style>\n",
       "<table border=\"1\" class=\"dataframe\">\n",
       "  <thead>\n",
       "    <tr style=\"text-align: right;\">\n",
       "      <th></th>\n",
       "      <th>activity_id</th>\n",
       "      <th>assay_chembl_id</th>\n",
       "      <th>assay_description</th>\n",
       "      <th>assay_type</th>\n",
       "      <th>molecule_chembl_id</th>\n",
       "      <th>type</th>\n",
       "      <th>units</th>\n",
       "      <th>relation</th>\n",
       "      <th>value</th>\n",
       "      <th>target_chembl_id</th>\n",
       "      <th>target_organism</th>\n",
       "    </tr>\n",
       "  </thead>\n",
       "  <tbody>\n",
       "    <tr>\n",
       "      <th>0</th>\n",
       "      <td>32260</td>\n",
       "      <td>CHEMBL674637</td>\n",
       "      <td>Inhibitory activity towards tyrosine phosphory...</td>\n",
       "      <td>B</td>\n",
       "      <td>CHEMBL68920</td>\n",
       "      <td>IC50</td>\n",
       "      <td>nM</td>\n",
       "      <td>=</td>\n",
       "      <td>41.0</td>\n",
       "      <td>CHEMBL203</td>\n",
       "      <td>Homo sapiens</td>\n",
       "    </tr>\n",
       "    <tr>\n",
       "      <th>1</th>\n",
       "      <td>32267</td>\n",
       "      <td>CHEMBL674637</td>\n",
       "      <td>Inhibitory activity towards tyrosine phosphory...</td>\n",
       "      <td>B</td>\n",
       "      <td>CHEMBL69960</td>\n",
       "      <td>IC50</td>\n",
       "      <td>nM</td>\n",
       "      <td>=</td>\n",
       "      <td>170.0</td>\n",
       "      <td>CHEMBL203</td>\n",
       "      <td>Homo sapiens</td>\n",
       "    </tr>\n",
       "    <tr>\n",
       "      <th>2</th>\n",
       "      <td>32680</td>\n",
       "      <td>CHEMBL677833</td>\n",
       "      <td>In vitro inhibition of Epidermal growth factor...</td>\n",
       "      <td>B</td>\n",
       "      <td>CHEMBL137635</td>\n",
       "      <td>IC50</td>\n",
       "      <td>nM</td>\n",
       "      <td>=</td>\n",
       "      <td>9300.0</td>\n",
       "      <td>CHEMBL203</td>\n",
       "      <td>Homo sapiens</td>\n",
       "    </tr>\n",
       "    <tr>\n",
       "      <th>3</th>\n",
       "      <td>32770</td>\n",
       "      <td>CHEMBL674643</td>\n",
       "      <td>Inhibitory concentration of EGF dependent auto...</td>\n",
       "      <td>B</td>\n",
       "      <td>CHEMBL306988</td>\n",
       "      <td>IC50</td>\n",
       "      <td>nM</td>\n",
       "      <td>=</td>\n",
       "      <td>500000.0</td>\n",
       "      <td>CHEMBL203</td>\n",
       "      <td>Homo sapiens</td>\n",
       "    </tr>\n",
       "    <tr>\n",
       "      <th>4</th>\n",
       "      <td>32772</td>\n",
       "      <td>CHEMBL674643</td>\n",
       "      <td>Inhibitory concentration of EGF dependent auto...</td>\n",
       "      <td>B</td>\n",
       "      <td>CHEMBL66879</td>\n",
       "      <td>IC50</td>\n",
       "      <td>nM</td>\n",
       "      <td>=</td>\n",
       "      <td>3000000.0</td>\n",
       "      <td>CHEMBL203</td>\n",
       "      <td>Homo sapiens</td>\n",
       "    </tr>\n",
       "  </tbody>\n",
       "</table>\n",
       "</div>"
      ],
      "text/plain": [
       "   activity_id assay_chembl_id  \\\n",
       "0        32260    CHEMBL674637   \n",
       "1        32267    CHEMBL674637   \n",
       "2        32680    CHEMBL677833   \n",
       "3        32770    CHEMBL674643   \n",
       "4        32772    CHEMBL674643   \n",
       "\n",
       "                                   assay_description assay_type  \\\n",
       "0  Inhibitory activity towards tyrosine phosphory...          B   \n",
       "1  Inhibitory activity towards tyrosine phosphory...          B   \n",
       "2  In vitro inhibition of Epidermal growth factor...          B   \n",
       "3  Inhibitory concentration of EGF dependent auto...          B   \n",
       "4  Inhibitory concentration of EGF dependent auto...          B   \n",
       "\n",
       "  molecule_chembl_id  type units relation      value target_chembl_id  \\\n",
       "0        CHEMBL68920  IC50    nM        =       41.0        CHEMBL203   \n",
       "1        CHEMBL69960  IC50    nM        =      170.0        CHEMBL203   \n",
       "2       CHEMBL137635  IC50    nM        =     9300.0        CHEMBL203   \n",
       "3       CHEMBL306988  IC50    nM        =   500000.0        CHEMBL203   \n",
       "4        CHEMBL66879  IC50    nM        =  3000000.0        CHEMBL203   \n",
       "\n",
       "  target_organism  \n",
       "0    Homo sapiens  \n",
       "1    Homo sapiens  \n",
       "2    Homo sapiens  \n",
       "3    Homo sapiens  \n",
       "4    Homo sapiens  "
      ]
     },
     "execution_count": 33,
     "metadata": {},
     "output_type": "execute_result"
    }
   ],
   "source": [
    "bioactivity_nM = []\n",
    "for i, row in bioact_df.iterrows():\n",
    "    bioact_nM = convert_to_NM(row['units'], row['value'])\n",
    "    bioactivity_nM.append(bioact_nM)\n",
    "bioact_df['value'] = bioactivity_nM\n",
    "bioact_df['units'] = 'nM'\n",
    "bioact_df.head()"
   ]
  },
  {
   "cell_type": "markdown",
   "metadata": {},
   "source": [
    "### 化合物データ\n",
    "\n",
    "EGFRに対して評価を実施された全ての化合物（とそれぞれの評価方法）を含むデータフレームが手に入りました。それでは、それぞれのChEMBL IDの裏に隠れた化合物を取得したいと思います。"
   ]
  },
  {
   "cell_type": "markdown",
   "metadata": {},
   "source": [
    "#### 化合物のリストを取得する\n",
    "\n",
    "ChEMBLから抽出し生理活性データを明確にした化合物を見てみましょう。まず、望みの生理活性データを有する化合物のChEMBL IDと構造を取り出します。"
   ]
  },
  {
   "cell_type": "code",
   "execution_count": 34,
   "metadata": {},
   "outputs": [],
   "source": [
    "cmpd_id_list = list(bioact_df['molecule_chembl_id'])\n",
    "compound_list = compounds.filter(molecule_chembl_id__in = cmpd_id_list)\\\n",
    "                              .only('molecule_chembl_id','molecule_structures')"
   ]
  },
  {
   "cell_type": "markdown",
   "metadata": {},
   "source": [
    "次に、リストをPandasのDataFrameに変換し、重複を削除します。（くどいですが、padas from_records　関数の実行は時間がかかるかもしれません）。"
   ]
  },
  {
   "cell_type": "markdown",
   "metadata": {},
   "source": [
    "**訳注(04.2020時点)**\n",
    "\n",
    "ここでもクエリのデータ取得の段階での項目の絞り込み(only)がうまく機能しておらず、DataFrameへの変換が非常に遅いので、csvの出力ののちDataFrameに変換するという方法をとりました。出力したcsvは17MBあり1時間弱かかりました。\n",
    "\n",
    "**訳注ここまで**"
   ]
  },
  {
   "cell_type": "code",
   "execution_count": 38,
   "metadata": {},
   "outputs": [],
   "source": [
    "# 出力したいフィールド （csvのheaderにする）\n",
    "cmpd_fields = ['molecule_chembl_id','molecule_structures']\n",
    "\n",
    "# cmpd.csvというファイルを作成し出力する\n",
    "with open('../data/T1/cmpd.csv', 'w') as f:\n",
    "    writer = csv.writer(f)\n",
    "    \n",
    "    # ヘッダーの書き込み\n",
    "    writer.writerow(cmpd_fields)\n",
    "    \n",
    "    # activityのデータを１行ずつ書き込み\n",
    "    for cmpd in compound_list:\n",
    "        row = []\n",
    "        \n",
    "        for field in cmpd_fields:\n",
    "            row.append(cmpd[field])\n",
    "        \n",
    "        writer.writerow(row)"
   ]
  },
  {
   "cell_type": "code",
   "execution_count": 115,
   "metadata": {
    "scrolled": false
   },
   "outputs": [
    {
     "name": "stdout",
     "output_type": "stream",
     "text": [
      "(5435, 2)\n",
      "(5435, 11)\n"
     ]
    },
    {
     "data": {
      "text/html": [
       "<div>\n",
       "<style scoped>\n",
       "    .dataframe tbody tr th:only-of-type {\n",
       "        vertical-align: middle;\n",
       "    }\n",
       "\n",
       "    .dataframe tbody tr th {\n",
       "        vertical-align: top;\n",
       "    }\n",
       "\n",
       "    .dataframe thead th {\n",
       "        text-align: right;\n",
       "    }\n",
       "</style>\n",
       "<table border=\"1\" class=\"dataframe\">\n",
       "  <thead>\n",
       "    <tr style=\"text-align: right;\">\n",
       "      <th></th>\n",
       "      <th>molecule_chembl_id</th>\n",
       "      <th>molecule_structures</th>\n",
       "    </tr>\n",
       "  </thead>\n",
       "  <tbody>\n",
       "    <tr>\n",
       "      <th>0</th>\n",
       "      <td>CHEMBL6246</td>\n",
       "      <td>{'canonical_smiles': 'O=c1oc2c(O)c(O)cc3c(=O)o...</td>\n",
       "    </tr>\n",
       "    <tr>\n",
       "      <th>1</th>\n",
       "      <td>CHEMBL10</td>\n",
       "      <td>{'canonical_smiles': 'C[S+]([O-])c1ccc(-c2nc(-...</td>\n",
       "    </tr>\n",
       "    <tr>\n",
       "      <th>2</th>\n",
       "      <td>CHEMBL6976</td>\n",
       "      <td>{'canonical_smiles': 'COc1cc2c(cc1OC)Nc1ncn(C)...</td>\n",
       "    </tr>\n",
       "    <tr>\n",
       "      <th>3</th>\n",
       "      <td>CHEMBL7002</td>\n",
       "      <td>{'canonical_smiles': 'CC1(COc2ccc(CC3SC(=O)NC3...</td>\n",
       "    </tr>\n",
       "    <tr>\n",
       "      <th>4</th>\n",
       "      <td>CHEMBL414013</td>\n",
       "      <td>{'canonical_smiles': 'COc1cc2c(cc1OC)Nc1ncnc(O...</td>\n",
       "    </tr>\n",
       "  </tbody>\n",
       "</table>\n",
       "</div>"
      ],
      "text/plain": [
       "  molecule_chembl_id                                molecule_structures\n",
       "0         CHEMBL6246  {'canonical_smiles': 'O=c1oc2c(O)c(O)cc3c(=O)o...\n",
       "1           CHEMBL10  {'canonical_smiles': 'C[S+]([O-])c1ccc(-c2nc(-...\n",
       "2         CHEMBL6976  {'canonical_smiles': 'COc1cc2c(cc1OC)Nc1ncn(C)...\n",
       "3         CHEMBL7002  {'canonical_smiles': 'CC1(COc2ccc(CC3SC(=O)NC3...\n",
       "4       CHEMBL414013  {'canonical_smiles': 'COc1cc2c(cc1OC)Nc1ncnc(O..."
      ]
     },
     "execution_count": 115,
     "metadata": {},
     "output_type": "execute_result"
    }
   ],
   "source": [
    "# compound_df = pd.DataFrame.from_records(compound_list)\n",
    "compound_df = pd.read_csv('../data/T1/cmpd.csv')\n",
    "compound_df = compound_df.drop_duplicates('molecule_chembl_id', keep = 'first')\n",
    "print(compound_df.shape)\n",
    "print(bioact_df.shape)\n",
    "compound_df.head()"
   ]
  },
  {
   "cell_type": "markdown",
   "metadata": {},
   "source": [
    "この段階では、構造の情報について複数の異なる構造表現を保持しています。この中からカノニカルSMILESだけを残したいと思います。\n",
    "\n",
    "**訳注（04.2020時点）**  \n",
    "オリジナルの方法とは異なりcsvからDataFrameにしたことで、カラム「molecule_structures」の要素は見た目はdict型ですがstr型となっています。  \n",
    "このままではcanonical_smilesをvalueとして取り出すことができません。  \n",
    "以下では`ast`モジュールの`literal_eval`関数を適用してstr型からdict型に変換する処理を最初に実行しています。  \n",
    "また、forループで処理する際の、欠損値行のスキップがもともとのif条件ではうまくいかなかったため、float型の場合スキップするという条件に変更しています。\n",
    "**訳注ここまで**"
   ]
  },
  {
   "cell_type": "code",
   "execution_count": 116,
   "metadata": {},
   "outputs": [],
   "source": [
    "# mapで型変換をデータフレーム全体に適用\n",
    "# 欠損値でエラーが出るためmapの引数 na_actionを利用\n",
    "\n",
    "import ast\n",
    "compound_df['molecule_structures'] = compound_df['molecule_structures'].map(ast.literal_eval, na_action='ignore') "
   ]
  },
  {
   "cell_type": "code",
   "execution_count": 118,
   "metadata": {
    "scrolled": true
   },
   "outputs": [
    {
     "name": "stdout",
     "output_type": "stream",
     "text": [
      "(5435, 2)\n"
     ]
    }
   ],
   "source": [
    "for i, cmpd in compound_df.iterrows():\n",
    "    # オリジナルのif条件\n",
    "    # if compound_df.loc[i]['molecule_structures'] != None:\n",
    "    \n",
    "    if type(compound_df.loc[i]['molecule_structures']) != float: # Nanがfloat型であることを利用したif条件に書き換えた\n",
    "        compound_df.loc[i]['molecule_structures'] = cmpd['molecule_structures']['canonical_smiles']\n",
    "\n",
    "print (compound_df.shape)"
   ]
  },
  {
   "cell_type": "markdown",
   "metadata": {},
   "source": [
    "#### 出力データの準備"
   ]
  },
  {
   "cell_type": "markdown",
   "metadata": {},
   "source": [
    "知りたい値をChEMBL IDに基づいて一つのデータフレームに統合します。\n",
    "* ChEMBL-IDs\n",
    "* SMILES\n",
    "* 単位\n",
    "* IC50"
   ]
  },
  {
   "cell_type": "code",
   "execution_count": 119,
   "metadata": {},
   "outputs": [
    {
     "name": "stdout",
     "output_type": "stream",
     "text": [
      "(5435, 4)\n"
     ]
    },
    {
     "data": {
      "text/html": [
       "<div>\n",
       "<style scoped>\n",
       "    .dataframe tbody tr th:only-of-type {\n",
       "        vertical-align: middle;\n",
       "    }\n",
       "\n",
       "    .dataframe tbody tr th {\n",
       "        vertical-align: top;\n",
       "    }\n",
       "\n",
       "    .dataframe thead th {\n",
       "        text-align: right;\n",
       "    }\n",
       "</style>\n",
       "<table border=\"1\" class=\"dataframe\">\n",
       "  <thead>\n",
       "    <tr style=\"text-align: right;\">\n",
       "      <th></th>\n",
       "      <th>molecule_chembl_id</th>\n",
       "      <th>units</th>\n",
       "      <th>value</th>\n",
       "      <th>molecule_structures</th>\n",
       "    </tr>\n",
       "  </thead>\n",
       "  <tbody>\n",
       "    <tr>\n",
       "      <th>0</th>\n",
       "      <td>CHEMBL68920</td>\n",
       "      <td>nM</td>\n",
       "      <td>41.0</td>\n",
       "      <td>Cc1cc(C)c(/C=C2\\C(=O)Nc3ncnc(Nc4ccc(F)c(Cl)c4)...</td>\n",
       "    </tr>\n",
       "    <tr>\n",
       "      <th>1</th>\n",
       "      <td>CHEMBL69960</td>\n",
       "      <td>nM</td>\n",
       "      <td>170.0</td>\n",
       "      <td>Cc1cc(C(=O)N2CCOCC2)[nH]c1/C=C1\\C(=O)Nc2ncnc(N...</td>\n",
       "    </tr>\n",
       "    <tr>\n",
       "      <th>2</th>\n",
       "      <td>CHEMBL137635</td>\n",
       "      <td>nM</td>\n",
       "      <td>9300.0</td>\n",
       "      <td>CN(c1ccccc1)c1ncnc2ccc(N/N=N/Cc3ccccn3)cc12</td>\n",
       "    </tr>\n",
       "    <tr>\n",
       "      <th>3</th>\n",
       "      <td>CHEMBL306988</td>\n",
       "      <td>nM</td>\n",
       "      <td>500000.0</td>\n",
       "      <td>CC(=C(C#N)C#N)c1ccc(NC(=O)CCC(=O)O)cc1</td>\n",
       "    </tr>\n",
       "    <tr>\n",
       "      <th>4</th>\n",
       "      <td>CHEMBL66879</td>\n",
       "      <td>nM</td>\n",
       "      <td>3000000.0</td>\n",
       "      <td>O=C(O)/C=C/c1ccc(O)cc1</td>\n",
       "    </tr>\n",
       "  </tbody>\n",
       "</table>\n",
       "</div>"
      ],
      "text/plain": [
       "  molecule_chembl_id units      value  \\\n",
       "0        CHEMBL68920    nM       41.0   \n",
       "1        CHEMBL69960    nM      170.0   \n",
       "2       CHEMBL137635    nM     9300.0   \n",
       "3       CHEMBL306988    nM   500000.0   \n",
       "4        CHEMBL66879    nM  3000000.0   \n",
       "\n",
       "                                 molecule_structures  \n",
       "0  Cc1cc(C)c(/C=C2\\C(=O)Nc3ncnc(Nc4ccc(F)c(Cl)c4)...  \n",
       "1  Cc1cc(C(=O)N2CCOCC2)[nH]c1/C=C1\\C(=O)Nc2ncnc(N...  \n",
       "2        CN(c1ccccc1)c1ncnc2ccc(N/N=N/Cc3ccccn3)cc12  \n",
       "3             CC(=C(C#N)C#N)c1ccc(NC(=O)CCC(=O)O)cc1  \n",
       "4                             O=C(O)/C=C/c1ccc(O)cc1  "
      ]
     },
     "execution_count": 119,
     "metadata": {},
     "output_type": "execute_result"
    }
   ],
   "source": [
    "output_df = pd.merge(bioact_df[['molecule_chembl_id','units','value']], compound_df, on='molecule_chembl_id')\n",
    "print(output_df.shape)\n",
    "output_df.head()"
   ]
  },
  {
   "cell_type": "markdown",
   "metadata": {},
   "source": [
    "カラム（列）名を、それぞれIC50とSMILESに変更します。"
   ]
  },
  {
   "cell_type": "code",
   "execution_count": 121,
   "metadata": {},
   "outputs": [
    {
     "data": {
      "text/plain": [
       "(5435, 4)"
      ]
     },
     "execution_count": 121,
     "metadata": {},
     "output_type": "execute_result"
    }
   ],
   "source": [
    "output_df = output_df.rename(columns= {'molecule_structures':'smiles', 'value':'IC50'})\n",
    "output_df.shape"
   ]
  },
  {
   "cell_type": "markdown",
   "metadata": {},
   "source": [
    "SMILES表記が手に入らない化合物については、以降のトークトリアルで使用することができません。ですので、SMILES列に値のない化合物を削除します。"
   ]
  },
  {
   "cell_type": "code",
   "execution_count": 122,
   "metadata": {},
   "outputs": [
    {
     "name": "stdout",
     "output_type": "stream",
     "text": [
      "(5428, 4)\n"
     ]
    },
    {
     "data": {
      "text/html": [
       "<div>\n",
       "<style scoped>\n",
       "    .dataframe tbody tr th:only-of-type {\n",
       "        vertical-align: middle;\n",
       "    }\n",
       "\n",
       "    .dataframe tbody tr th {\n",
       "        vertical-align: top;\n",
       "    }\n",
       "\n",
       "    .dataframe thead th {\n",
       "        text-align: right;\n",
       "    }\n",
       "</style>\n",
       "<table border=\"1\" class=\"dataframe\">\n",
       "  <thead>\n",
       "    <tr style=\"text-align: right;\">\n",
       "      <th></th>\n",
       "      <th>molecule_chembl_id</th>\n",
       "      <th>units</th>\n",
       "      <th>IC50</th>\n",
       "      <th>smiles</th>\n",
       "    </tr>\n",
       "  </thead>\n",
       "  <tbody>\n",
       "    <tr>\n",
       "      <th>0</th>\n",
       "      <td>CHEMBL68920</td>\n",
       "      <td>nM</td>\n",
       "      <td>41.0</td>\n",
       "      <td>Cc1cc(C)c(/C=C2\\C(=O)Nc3ncnc(Nc4ccc(F)c(Cl)c4)...</td>\n",
       "    </tr>\n",
       "    <tr>\n",
       "      <th>1</th>\n",
       "      <td>CHEMBL69960</td>\n",
       "      <td>nM</td>\n",
       "      <td>170.0</td>\n",
       "      <td>Cc1cc(C(=O)N2CCOCC2)[nH]c1/C=C1\\C(=O)Nc2ncnc(N...</td>\n",
       "    </tr>\n",
       "    <tr>\n",
       "      <th>2</th>\n",
       "      <td>CHEMBL137635</td>\n",
       "      <td>nM</td>\n",
       "      <td>9300.0</td>\n",
       "      <td>CN(c1ccccc1)c1ncnc2ccc(N/N=N/Cc3ccccn3)cc12</td>\n",
       "    </tr>\n",
       "    <tr>\n",
       "      <th>3</th>\n",
       "      <td>CHEMBL306988</td>\n",
       "      <td>nM</td>\n",
       "      <td>500000.0</td>\n",
       "      <td>CC(=C(C#N)C#N)c1ccc(NC(=O)CCC(=O)O)cc1</td>\n",
       "    </tr>\n",
       "    <tr>\n",
       "      <th>4</th>\n",
       "      <td>CHEMBL66879</td>\n",
       "      <td>nM</td>\n",
       "      <td>3000000.0</td>\n",
       "      <td>O=C(O)/C=C/c1ccc(O)cc1</td>\n",
       "    </tr>\n",
       "  </tbody>\n",
       "</table>\n",
       "</div>"
      ],
      "text/plain": [
       "  molecule_chembl_id units       IC50  \\\n",
       "0        CHEMBL68920    nM       41.0   \n",
       "1        CHEMBL69960    nM      170.0   \n",
       "2       CHEMBL137635    nM     9300.0   \n",
       "3       CHEMBL306988    nM   500000.0   \n",
       "4        CHEMBL66879    nM  3000000.0   \n",
       "\n",
       "                                              smiles  \n",
       "0  Cc1cc(C)c(/C=C2\\C(=O)Nc3ncnc(Nc4ccc(F)c(Cl)c4)...  \n",
       "1  Cc1cc(C(=O)N2CCOCC2)[nH]c1/C=C1\\C(=O)Nc2ncnc(N...  \n",
       "2        CN(c1ccccc1)c1ncnc2ccc(N/N=N/Cc3ccccn3)cc12  \n",
       "3             CC(=C(C#N)C#N)c1ccc(NC(=O)CCC(=O)O)cc1  \n",
       "4                             O=C(O)/C=C/c1ccc(O)cc1  "
      ]
     },
     "execution_count": 122,
     "metadata": {},
     "output_type": "execute_result"
    }
   ],
   "source": [
    "output_df = output_df[~output_df['smiles'].isnull()]\n",
    "print(output_df.shape)\n",
    "output_df.head()"
   ]
  },
  {
   "cell_type": "markdown",
   "metadata": {},
   "source": [
    "次のセルを実行すると、小さなIC50値が読みづらいことがわかると思います。そこで、IC50値をpIC50値に変換したいと思います。"
   ]
  },
  {
   "cell_type": "code",
   "execution_count": 123,
   "metadata": {},
   "outputs": [
    {
     "name": "stdout",
     "output_type": "stream",
     "text": [
      "5428\n",
      "0         41.0\n",
      "1        170.0\n",
      "2       9300.0\n",
      "3     500000.0\n",
      "4    3000000.0\n",
      "5      96000.0\n",
      "6       5310.0\n",
      "7     264000.0\n",
      "8        125.0\n",
      "9      35000.0\n",
      "Name: IC50, dtype: float64\n"
     ]
    }
   ],
   "source": [
    "output_df = output_df.reset_index(drop=True)\n",
    "ic50 = output_df.IC50.astype(float) \n",
    "print(len(ic50))\n",
    "print(ic50.head(10))"
   ]
  },
  {
   "cell_type": "code",
   "execution_count": 124,
   "metadata": {},
   "outputs": [
    {
     "data": {
      "text/html": [
       "<div>\n",
       "<style scoped>\n",
       "    .dataframe tbody tr th:only-of-type {\n",
       "        vertical-align: middle;\n",
       "    }\n",
       "\n",
       "    .dataframe tbody tr th {\n",
       "        vertical-align: top;\n",
       "    }\n",
       "\n",
       "    .dataframe thead th {\n",
       "        text-align: right;\n",
       "    }\n",
       "</style>\n",
       "<table border=\"1\" class=\"dataframe\">\n",
       "  <thead>\n",
       "    <tr style=\"text-align: right;\">\n",
       "      <th></th>\n",
       "      <th>molecule_chembl_id</th>\n",
       "      <th>units</th>\n",
       "      <th>IC50</th>\n",
       "      <th>smiles</th>\n",
       "      <th>pIC50</th>\n",
       "    </tr>\n",
       "  </thead>\n",
       "  <tbody>\n",
       "    <tr>\n",
       "      <th>0</th>\n",
       "      <td>CHEMBL68920</td>\n",
       "      <td>nM</td>\n",
       "      <td>41.0</td>\n",
       "      <td>Cc1cc(C)c(/C=C2\\C(=O)Nc3ncnc(Nc4ccc(F)c(Cl)c4)...</td>\n",
       "      <td>7.387216</td>\n",
       "    </tr>\n",
       "    <tr>\n",
       "      <th>1</th>\n",
       "      <td>CHEMBL69960</td>\n",
       "      <td>nM</td>\n",
       "      <td>170.0</td>\n",
       "      <td>Cc1cc(C(=O)N2CCOCC2)[nH]c1/C=C1\\C(=O)Nc2ncnc(N...</td>\n",
       "      <td>6.769551</td>\n",
       "    </tr>\n",
       "    <tr>\n",
       "      <th>2</th>\n",
       "      <td>CHEMBL137635</td>\n",
       "      <td>nM</td>\n",
       "      <td>9300.0</td>\n",
       "      <td>CN(c1ccccc1)c1ncnc2ccc(N/N=N/Cc3ccccn3)cc12</td>\n",
       "      <td>5.031517</td>\n",
       "    </tr>\n",
       "    <tr>\n",
       "      <th>3</th>\n",
       "      <td>CHEMBL306988</td>\n",
       "      <td>nM</td>\n",
       "      <td>500000.0</td>\n",
       "      <td>CC(=C(C#N)C#N)c1ccc(NC(=O)CCC(=O)O)cc1</td>\n",
       "      <td>3.301030</td>\n",
       "    </tr>\n",
       "    <tr>\n",
       "      <th>4</th>\n",
       "      <td>CHEMBL66879</td>\n",
       "      <td>nM</td>\n",
       "      <td>3000000.0</td>\n",
       "      <td>O=C(O)/C=C/c1ccc(O)cc1</td>\n",
       "      <td>2.522879</td>\n",
       "    </tr>\n",
       "  </tbody>\n",
       "</table>\n",
       "</div>"
      ],
      "text/plain": [
       "  molecule_chembl_id units       IC50  \\\n",
       "0        CHEMBL68920    nM       41.0   \n",
       "1        CHEMBL69960    nM      170.0   \n",
       "2       CHEMBL137635    nM     9300.0   \n",
       "3       CHEMBL306988    nM   500000.0   \n",
       "4        CHEMBL66879    nM  3000000.0   \n",
       "\n",
       "                                              smiles     pIC50  \n",
       "0  Cc1cc(C)c(/C=C2\\C(=O)Nc3ncnc(Nc4ccc(F)c(Cl)c4)...  7.387216  \n",
       "1  Cc1cc(C(=O)N2CCOCC2)[nH]c1/C=C1\\C(=O)Nc2ncnc(N...  6.769551  \n",
       "2        CN(c1ccccc1)c1ncnc2ccc(N/N=N/Cc3ccccn3)cc12  5.031517  \n",
       "3             CC(=C(C#N)C#N)c1ccc(NC(=O)CCC(=O)O)cc1  3.301030  \n",
       "4                             O=C(O)/C=C/c1ccc(O)cc1  2.522879  "
      ]
     },
     "execution_count": 124,
     "metadata": {},
     "output_type": "execute_result"
    }
   ],
   "source": [
    "# IC50をpIC50に変換し、pIC50の列を付け足す\n",
    "pIC50 = pd.Series() \n",
    "i = 0\n",
    "while i < len(output_df.IC50):\n",
    "    value = 9 - math.log10(ic50[i]) # pIC50=-log10(IC50 mol/l) --> for nM: -log10(IC50*10**-9)= 9-log10(IC50)\n",
    "    if value < 0:\n",
    "        print(\"Negative pIC50 value at index\"+str(i))\n",
    "    pIC50.at[i] = value\n",
    "    i += 1\n",
    "    \n",
    "output_df['pIC50'] = pIC50\n",
    "output_df.head()"
   ]
  },
  {
   "cell_type": "markdown",
   "metadata": {},
   "source": [
    "### EGFRを標的として集めた生理活性データ"
   ]
  },
  {
   "cell_type": "markdown",
   "metadata": {},
   "source": [
    "集めたデータセットを眺めてみましょう。\n",
    "\n",
    "#### 化合物を描画する\n",
    "\n",
    "次の工程ではデータフレームに化合物を追加し、もっとも大きいpIC50値をもつ化合物の構造を眺めます。"
   ]
  },
  {
   "cell_type": "code",
   "execution_count": 125,
   "metadata": {},
   "outputs": [],
   "source": [
    "PandasTools.AddMoleculeColumnToFrame(output_df, smilesCol='smiles')"
   ]
  },
  {
   "cell_type": "markdown",
   "metadata": {},
   "source": [
    "pIC50値で化合物をソートします。"
   ]
  },
  {
   "cell_type": "code",
   "execution_count": 126,
   "metadata": {},
   "outputs": [],
   "source": [
    "output_df.sort_values(by=\"pIC50\", ascending=False, inplace=True)\n",
    "output_df.reset_index(drop=True, inplace=True)"
   ]
  },
  {
   "cell_type": "markdown",
   "metadata": {},
   "source": [
    "もっとも活性な分子を、もっとも大きなpIC50値の分子として描画します。"
   ]
  },
  {
   "cell_type": "code",
   "execution_count": 127,
   "metadata": {
    "scrolled": true
   },
   "outputs": [
    {
     "data": {
      "text/html": [
       "<div>\n",
       "<style scoped>\n",
       "    .dataframe tbody tr th:only-of-type {\n",
       "        vertical-align: middle;\n",
       "    }\n",
       "\n",
       "    .dataframe tbody tr th {\n",
       "        vertical-align: top;\n",
       "    }\n",
       "\n",
       "    .dataframe thead th {\n",
       "        text-align: right;\n",
       "    }\n",
       "</style>\n",
       "<table border=\"1\" class=\"dataframe\">\n",
       "  <thead>\n",
       "    <tr style=\"text-align: right;\">\n",
       "      <th></th>\n",
       "      <th>molecule_chembl_id</th>\n",
       "      <th>units</th>\n",
       "      <th>IC50</th>\n",
       "      <th>pIC50</th>\n",
       "      <th>ROMol</th>\n",
       "    </tr>\n",
       "  </thead>\n",
       "  <tbody>\n",
       "    <tr>\n",
       "      <th>0</th>\n",
       "      <td>CHEMBL63786</td>\n",
       "      <td>nM</td>\n",
       "      <td>0.003</td>\n",
       "      <td>11.522879</td>\n",
       "      <td><img src=\"data:image/png;base64,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\" alt=\"Mol\"/></td>\n",
       "    </tr>\n",
       "    <tr>\n",
       "      <th>1</th>\n",
       "      <td>CHEMBL53711</td>\n",
       "      <td>nM</td>\n",
       "      <td>0.006</td>\n",
       "      <td>11.221849</td>\n",
       "      <td><img src=\"data:image/png;base64,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\" alt=\"Mol\"/></td>\n",
       "    </tr>\n",
       "    <tr>\n",
       "      <th>2</th>\n",
       "      <td>CHEMBL35820</td>\n",
       "      <td>nM</td>\n",
       "      <td>0.006</td>\n",
       "      <td>11.221849</td>\n",
       "      <td><img src=\"data:image/png;base64,iVBORw0KGgoAAAANSUhEUgAAAMgAAADICAIAAAAiOjnJAAAABmJLR0QA/wD/AP+gvaeTAAAXp0lEQVR4nO2de1hU1d7HfzPDMFyF8QLCcQAR1NQ0D4a38AYHb5SID0aSWWgoZT3qa1KYiZfDQ4d8khQ5SWqYdLy8oQcFNQwS30SsEA2EmAGHOwgiyJ25/N4/to4TIsrMXgwzrM/T40PD3mt+wGfW/u691tqbg4hAobANV9cFUAwTKhaFCFQsChGoWBQiULEoRKBiUYhAxaIQgYpFIQIVi0IEKhaFCFQsChGoWBQiULEoRKBiUYhAxaIQgYpFIQIVi0IEKhaFCFQsChGoWBQiULEoRKBiUYhAxaIQgYpFIQIVi0IEKhaFCFQsChGoWBQiULEoRKBiUYhAxaIQgYpFIQIVi0IEKhaFCFQsChGoWBQiULEoRKBiUYhAxaIQgYpFIQIVi0IEKhaFCFQsChGoWBQiULEoRKBiUYhgIGIVFRVt2LAhJiZG14VQHsIxjOcVpqSkLF682NnZWSwWc7kG8mnRawzkb7BgwQInJ6fi4uK0tDRd10IBMBixuFxuUFAQABw8eFDXtVAADOZQCABVVVWOjo4AUFJSYmdnp+tyBjoG0mMBgJ2d3aJFi2Qy2dGjR3VdC8WAxAKA4OBgADh48KBSqdR1LQMdgxKLRvj+g0GJRSN8/8FwwjsDjfD9BIPqsYBG+H6DoYkFNML3DwxQLBrh+wMGKBaN8P0BQwvvDDTC6xwD7LGARvh+gGGKBTTC6xrDPBQCgFKptLW1BYDMzEwXFxddlzPgMNge6/z58/X19YMHDx4xYoSuaxmIGKZYUql01apVSqUyKCjIxMRE1+UMRAzwUNjW1vbKK69kZ2cvWbLk9OnTHA5H1xUNRAywxwoJCcnOzh49enR8fDy1SlcYmljR0dHx8fEWFhaJiYlWVla6LmfgYlBiKf7v/04cOsThcL799tvx48frupwBjQFlrMpKcHNrb2hICQ/3Cw3VdTUDHUMRSyYDT0+4cgXmzYOLF8HISNcFDXQM5VC4YQNcuQIiERw/Tq3qDxhEj5WQAG++CSYmkJEBL7+s62ooAIbQY928CcHBAAD791Or+g/6L9a5c9DaCsHBsHq1rkuhPMYgDoVnz4K3NwgEuq6D8hi9FevIEZBIIDAQxo3TdSmUbtBPsY4ehYYGePdd+PxzmDYNFizQdUEGTnFORkleltmgwRPn+JlaCp9nF/3MWD//DGvXgqkpfPAB/PijrqsxfIpzMqb7rh030+fHwzvvVRRXSW7Bs/oj/bzkY28PDQ1gawvFxTBhgq6rGRD88kPMg7oqu1ETfk351sZhjN2oF3veXj/Fevtt2LULhgyBigqwtASlEuhd/AjzyrL3BWaW/xsVMmiI3d/nBz5ze/0Uy8UF9u+H5maYNAmKi8HbGxYu1HVNBotSLrtz65eO1mZTS6HTizPqK+88z176KRaDhQWsWQNhYRAXR8Uix8XDOyrFN7k8o9VRZ59/L/08K1RRUwMiESCCVAp/+5uuqzFA/rh8OvGL93l846DPz9i7vvT8O+p5NLG1hSVLQC6HI0d0XYoBUiPNP7tvMwAsWhfRK6tA78UCeDhQGBcHCoWuSzEo2psbT0SslnW0/X1+4N+9V/R2d/0Xy8sLXFygtJRe0GIRRGXinvX3q6TDnScsDN6lQQv6LxaHA6tXA5dbkZSk61IMhwPRe6pLxWZWQ97Y9q2RsUbr51D/6aiunuXkZGRkVFFRoetaDIGkpCQul2szxPrPG79o3Ij+91gAxra2NlOmyOXyw4cP67oWvUcsFr/11ltKpfKjj7eOfmmGxu3o+eWGR6Smpnp7e4tEojt37vB4PF2Xo0vEYnFUVJS5ubmrq6urq6uLi4uDg8Nz/k5aWlqmTZuWm5vr6+ubmJio1apM9npQXaJUKpk7f6SkpOi6Fl0SHR0tEAiM/jrrn8/nOzs7e3l5BQcHR0ZGJiUlFRUVyeXyJ3d/6623AGDMmDGNjY1aVmIgPRYAREZGfvLJJ76+vqdPn9Z1LbohMzNzzpw5Mpls8+bNNjY2YrFYLBZLJJLy8vIn/8oCgcDFxYXp0ph/MzIyduzYYWlpee3atXFaz3IzHLFqampEIhEiSqXSvw28q/DV1dVubm6VlZWhoaGRkZHq3+rs7CwvLy8uLs7Ly7t9+3ZxcXFxcbFUKu1y5zBra+vGxsYffvhh6dKl2tdjOGIBwNKlS8+cOePu7h4QEMAkjJEjRxobG+u6LuLIZDJPT88rV67Mmzfv4sWLzKHwxIkTJSUlqj6py113WlpaJBIJ06WJxeL8/Pzs7GwOh1NdXc3KrQkMRyxEnDt37h9//FFfX6/+up2d3fjx453VGDdunKmpqa7qJMH69etjYmJEItHvv/8+bNgw5sXFixenpKSothEKhczPrvptjB071tzcXLWBp6dnWlpaTEzMe++9x0JNWma0/kNERAQAWFlZbdu2bf369fPnzx81apRRd4tXjYyMXFxcFi5c+MEHH+zbt+/8+fMSiUQmk+n6J9CQY8eOAYBAILh+/br66//5z382bdrk4+MzZsyYbrttLpfr5OR07Ngx1fYAMHHiRFaqMpAe66effpo/fz4inj17dtGiRarXZTJZWVlZsRp5eXl//vmn4omBxW3btr3zzjsjR47s28K15datW9OnT29tbY2Li1uzZk0PW1ZWVqoCFsPt27fb2tpOnjzp7+8PAJ2dnSKR6O7du9euXZs6daq2lbGip24pKSkZOnQoAOzYsUP1YnR09PHjx3/77bcnz5w7Ojry8/P/+9//7tmzZ926dV5eXsOGDePz+X5+fn1buLbU19ePGjUKAIKDgzXYXSaTicVi9d/PRx99BACrV6/Wvja9F6utrW3KlCkA4OPjo1AomBc7OjrULwkKhUI3Nzd/f//Q0ND4+PgnbauqquLz+fo1KKRQKBYuXAgA7u7u7e3trLQpkUg4HI6Zmdn9+/e1bErvxVq9ejUAODk51dXVqV5sbGz8+OOPly1bNmnSJDMzs2676uHDh8+aNUtlEnOOHRERoaOfo9d8+umnADBkyJA7d+6w2Oy8efMAICYmRst29Fus2NhYADA1Nc3Ozu5hs/r6+t9+++3kyZPbt2/39/d3c3OzsLAAAA6H09LSwmxz/vx5ABg5cqSq22OdS5fw5k1ExNRUbG/HtDRk+s2LF7G1tXdNMePEPB7v4sWL7BZ5/PhxYCPC67FY165dEwgEABAfH9/bfZVKZWlp6ZUrV9RfYfIK638qFWFh6OeHMhmGhWFjI372GZaVISJu3oz37vWincLCQmtrawCIiopivciOjg4bGxsAuHbtmjbt8MLDw7XN/7rg7t27Xl5e9+/f37BhQ2jv79/H4XCsrKwcHBzUX2lqakpLS2tra1u+fDmrxT4kLQ38/CA5GVpb4ZVXIDMTLl6EjAy4fBl+/RX++U9IT4ecHCgrg9ZWMDEBtWtMj2lpafnHP/5RWlrq6+sbHR3N+t17eTxebW3t1atXlUrlkiVLNG+ILdP7EplMNmfOHACYMWNGR0cHW82SjvBhYdjQgKGhGBjYtceaOBEBuv7n7f0/U6ZMCQgI2LZt29GjRzMzM2tra19//XVgaZz4aTAR3tTUVJsIrwuxDh/GsDDMy9O4gU2bNgHA8OHDWTeAaIQPC8P0dCwsRJGoq1gSCWZl4bFjuH07rliB7u4oFOLkyfOe7Aj4fL6lpWVBQQGJClVoH+H7XKz4eIyOxtZW3L4dU1JQKsVehmVmnhCfz8/IyGC9OqIRvqIChw9He3uUSJ5re9U5R2RkZHBw8MyZM83NzQUCwdy5c1XbdDv7RXu0j/B9LtY77yBz0aWuDt99FwHQ2BidndHLC4ODce9eTE3FoqKn2Zafnz9o0CAAOHDgAInqyEX4zk708EAA9PREjWUoKSnh8XgCgaC2thYRP/30Uzs7u9LSUjYLRUQ2Inyfi7V1K1ZXIyJev47h4Whv/2S4UHI41lZWzNy0Dz/88Ouvv05NTS0qKmpoaHjhhRcA4M033yRX4O7duwFg2bJl7Db73nsIgA4OePeuVu0sWLAAAL788ktEDAgIAIDt27ezUmEXtmzZAgBBQUGa7d63YlVUoFiM77+Pn32GYWHIZMPmZrxxA0+dwogIDApCD4/yF7u/kwkzkvrSSy+19vayT28gEeGPHUMANDHBvw4Ta0JiYiIAjB07VqlUMg+9HjFiBIkDokQi4XK5pqam9fX1Guzeh2L9+COamOBXXyEiPros+TTa29uLioqSkpKYeOHl5eXs7MzhcIyMjL755hvSlbIb4W/eRDMzBEBWCpfJZMw0xoyMDKVSOXr0aABISkpioWlERKypqVF9PXfuXADYv3+/Bu30lVglJTh0KALgzp0at7Fr1y4AePXVVxGxpqYmJCRk8eLF7JX4GBYj/L1792bPfgCA777LSmmIjwZzmDwQFRUFAD4+Pqy0HBsbKxQKVesG5s+f7+jo+Pvvv2vQVJ+I1daGU6YgAPr49PYcUJ3a2lqBQMDj8UpKSpqampgUn5uby2KlDGxFeIVCsWDBAnNz2xUrJCwNEyP+NcLX1dUJBAIulyuVSrVsNjMzU30k4+DBgwBgZmaWk5OjQWt9IlZQEAKgiwtqPWbOXB4MDw9HxHXr1gHAhg0b2CixK6xEeELjxEggwldXVzOPot24cSMiZmVlMZIdOXJEswbJi3XgAAKgqSn2OE78nPz000+quJqTkwMA1tbWLc9KbBrARHgejxcbG9vtpK5nQm6cGNmO8DKZbPbs2aqRjLq6OicnJwD48MMPNa6QrFiV16+jiQkC4Pffs9KgKq6ePXsWEZmZWN999x0rjavT2tpqa2srEolU56TPnNSljmqc+IsvvmC9NvxrhEdE5iqMxhF+48aNqpEMuVzu7e0NANOnT9dmuIygWEzvGjl1aueWLSw2+69//UsV4Zkc4OHhwWL7DCtWrAAAOzs7X1/fnid1eXh4BAUFRUREnDp16saNG83Nzc3NzRMmTACApUuXKpVK1mtjYCvCM1Pd+Xw+M9dj8+bNzM/FrEbUGFJiERonRrUIL5VKCUX4L7/8EgAsLCzy1AY0y8vL09PT4+LitmzZ4ufn9+KLLz5tqQ9T0rhx45qamlisqgtdIryJiYkGET4/P9/S0hIAYmNjEZF5hDYrw2U9iZWcnHz16tW7Gl0qVu9dNa3tqajHVdYj/C+//GJsbMzhcE6dOsW8UldXl56e3u0nmBnOi4+PDw0NZaYQmpubczgcgUBw+PBhtkp6GuoR/o033uhthH/w4IH6SEZBQQHzkdi3b5/2tfUklp2dHfMRNDExGTduHBMvVAMsPezYpXdlHfW4ym6Er6qqsre3B4BPPvlE9SKTlAFAIBA4Ozv7+Pio/x66HOwUCgVzNPH399e+np5Rj/CXL19etmzZ5cuXn3NfpVLp5+cHAJMmTWppaXnw4AGzrH7FihWs1PZUseRyeWBg4MsvvywUdv+IC6FQ6O7uHhgYGB4enpCQkJWVxVz7V/WuhMaJUS3CM3GVrQjf2dnp4eEBAJ6enupnWMnJyTNmzGAGZZ/E0tJy8uTJy5cv37NnD7N9ZWUln8/n8/mVlZValtQzXSJ8r9i5cycADB48mPlsLFu2DAAmTpzI1in2c2Ws2trazMzMo0ePbtu2LSAgYMqUKU9bhT1kyJDBgwcDwKpVq1ip72kwEZ6Jq2xF+JCQEABwcHB42tG/ra0tNzdXNY+FGWhS/exeXl6qLZm5l5GRkVqW9EzUI3yv+OqrrwQCwYULF/DRRTuhUCh5zgk9z4Hm4V19ttDKlSvd3NyYI/SsWbNWrlxJdJwYH0V4Jq6yEuG/++475qD/66+/9mrH+vr6rKyshISEc+fOqV5MTk4GAGdnZ3JLMxiYCG9sbHzixInerudm4u+lS5d4PB6Xy01OTmaxMJbPCqurq1m0vmfUI/ymTZtWrVolFos1ayonJ4e5oMDWCLdCoXB0dASA1NRUVhrsgbfffnvy5MlMr9nlVlgnT57Mzc3t4cKpaq3vTi3GcLtFL+e8M7A1aeTevXvMEW3dunVs1YaPQkwfRHhE3Lt3r5eXl6OjI7e7ZwoZGxuPHTv21Vdf3bRpU2xsbGpqqlQqVSgU3a71ZQs9Fgu1vuKMauuJp06dytZ6YoaKiorx493nzPmGmdfYN7S3t+fm5p4+fToqKio4OHjevHkikajblTwCgYA5HXF1ddV+3fOT6LdYzBXnGTNm5OXlaaZFWFgYANjY2JQxCxtYZckSBEDyCf4ZdHR0FBUVpaam7t27V3XOweVyuVxuSEjIrVu3SLypft9tpq6ubtasWeXl5U1NTQAgFArV7//k7Oz8wgsvPG00BgCSkpJ8fX15PF5qaiozTsAuKSmweDE4O4NY3O+ee9fa2iqVSrW/JeTT0G+xAEChUCxZsqSwsFAqlcpksi7f5fF4Dg4OqrvaqW7zx+fzCwsL3d3dGxsb9+zZw6wnYx2lEpydoaQEUlPBy4vEO/Rf9F4sFXK5XCqVMjc+VN3XVSqVyuXyLlsaGRk5Ojo+ePCAWf/JLHUixK5d8Nln4O8PJ0+Se5P+iOGI1S1yuby0tLTLjdcKCwvlcrm9vX1zc3NpaSlzsbepqUkgELB+w9KqKnB0BAAoKYFHI2QDAxLBrZ/D3HiNuc7EXBWMjIy0sLBISEgg8Xb9JML3Mf0sUvYJzHUdZgCHGQ6ytrZubm5mvmadtWsBALKzSbTdfzHwQ2EP1NXVjRgxQqFQSKVSKysre3v7pqamvLw81k+UlEo4dAimToWJE+HSJfDwAIGA3XfojwzEHoth6NChr732GvNoJwsLC2aA6NChQ6y/EZcLUins2AFyOaSnQ0cH6+/QHxm4YgFAcHAwAMTFxSkUirVr1wJAfHx8ezuRv3xwMOzbR6LhfsqAFsvT09PV1bWsrOzChQtubm4rVhy3tS354QciB6pp06CmBkpKSLTdHxnQYnE4nDVr1owd+8aFCyMBYNas12/fNo+L07bZhATIyXn8v83ND7/YuhUyMrRtXG/Q9WmpjqmpkRsbo5ERlpVhUxMOGoQA2twTDq9eRWNjNDPDkhJExAMHUCTCrCy26tUbBnSPBQA2NjxfX5DL4fBhsLCAgAAAAI0TfE0N+PtDZyeEhICDA2RlwcaNUFYGBQUslqwn6Nps3XPpEgKgSIRyOd64gQA4ZAi2tfW6HZkMZ89GAJw5Ezs7saYGR4xAANy4kUDR/R4qFiqV6OqKAMhMLV65EmNiNBFr9+48ABwxAqurUSbDOXMQAGfMQFZXVeoNVCxExM8/RwB87TXNW/j+++8BYPbsrzMzERE3bkQAHD4c9ecRKixDxUJErK1FgQB5vIeJu7fcunWLefDfv//9b0Q8eVLG3Fr16lWW69QjqFgPef11BMDY2F7veP/+feY55ytXrkTE/Px8e/uxU6dWEFtVqR9QsR6Sl6fhfZYCAwMBwM3Nra2traGhgVlJu2rVO2wXqGdQsR7S5QlKz49EIpk7dy7z7G71ReuE6tQXunmy7cAkLQ0KCuDECUhPB3d3WL4crKzA1RVcXcHFBVxd4WlP4B41ahSzEG337t2JiYlCoTAxMbGHifYDBCrWY1TjxG1tcO4cKJV/+e6wYeDqCjNnxlhZNTAz6F1cXJgV2ABw6dKl8PBwLpebkJCgvu5+wELFesy0aZCeDuXlwOfDzz+DWAwSyeN/a2uhthbq6w8VFNxQ7WJra+vq6mpvb3/+/HmFQrFr1y5mlSJl4E7068LWrbBlC3C5MH485ObCo57oMZWVIBbDnTsJBQV/MEs2JBJJa2sr811vb2+BQHDmzJlu1yIPQKhYWlFeXs4YNnv2bGZVma4r6i9QsShEoP02hQhULAoRqFgUIlCxKESgYlGIQMWiEIGKRSECFYtCBCoWhQhULAoRqFgUIlCxKESgYlGIQMWiEIGKRSECFYtCBCoWhQhULAoRqFgUIlCxKESgYlGIQMWiEIGKRSECFYtCBCoWhQhULAoRqFgUIlCxKESgYlGIQMWiEIGKRSECFYtCBCoWhQhULAoRqFgUIlCxKESgYlGIQMWiEIGKRSECFYtCBCoWhQhULAoRqFgUIlCxKESgYlGI8P+XyjU0L7kIyQAAAABJRU5ErkJggg==\" alt=\"Mol\"/></td>\n",
       "    </tr>\n",
       "    <tr>\n",
       "      <th>3</th>\n",
       "      <td>CHEMBL53753</td>\n",
       "      <td>nM</td>\n",
       "      <td>0.008</td>\n",
       "      <td>11.096910</td>\n",
       "      <td><img src=\"data:image/png;base64,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\" alt=\"Mol\"/></td>\n",
       "    </tr>\n",
       "    <tr>\n",
       "      <th>4</th>\n",
       "      <td>CHEMBL66031</td>\n",
       "      <td>nM</td>\n",
       "      <td>0.008</td>\n",
       "      <td>11.096910</td>\n",
       "      <td><img src=\"data:image/png;base64,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\" alt=\"Mol\"/></td>\n",
       "    </tr>\n",
       "  </tbody>\n",
       "</table>\n",
       "</div>"
      ],
      "text/plain": [
       "  molecule_chembl_id units   IC50      pIC50  \\\n",
       "0        CHEMBL63786    nM  0.003  11.522879   \n",
       "1        CHEMBL53711    nM  0.006  11.221849   \n",
       "2        CHEMBL35820    nM  0.006  11.221849   \n",
       "3        CHEMBL53753    nM  0.008  11.096910   \n",
       "4        CHEMBL66031    nM  0.008  11.096910   \n",
       "\n",
       "                                               ROMol  \n",
       "0  <img src=\"data:image/png;base64,iVBORw0KGgoAAA...  \n",
       "1  <img src=\"data:image/png;base64,iVBORw0KGgoAAA...  \n",
       "2  <img src=\"data:image/png;base64,iVBORw0KGgoAAA...  \n",
       "3  <img src=\"data:image/png;base64,iVBORw0KGgoAAA...  \n",
       "4  <img src=\"data:image/png;base64,iVBORw0KGgoAAA...  "
      ]
     },
     "execution_count": 127,
     "metadata": {},
     "output_type": "execute_result"
    }
   ],
   "source": [
    "output_df.drop(\"smiles\", axis=1).head()"
   ]
  },
  {
   "cell_type": "markdown",
   "metadata": {},
   "source": [
    "**訳注(04.2020時点)**\n",
    "\n",
    "ROMolに構造が描画されず、（SMILESでもない）文字列になっている場合はRDKitとPandasのバージョンの互換性がよくない可能性があります。Pandasを version 0.25.0 以前のものにすることで解決する可能性があります。 [RDKit イシュー](https://github.com/rdkit/rdkit/issues/2673)　を参照してください。\n",
    "\n",
    "**訳注ここまで**"
   ]
  },
  {
   "cell_type": "markdown",
   "metadata": {},
   "source": [
    "#### 出力ファイルの書き出し\n",
    "\n",
    "以降のトークトリアルでデータを使うため、csvファイルとしてデータを保存します。データを保存するときには化合物の列（分子の構造図のみをもつ列）を削除することをお勧めします。"
   ]
  },
  {
   "cell_type": "code",
   "execution_count": 128,
   "metadata": {
    "scrolled": true
   },
   "outputs": [],
   "source": [
    "output_df.drop(\"ROMol\", axis=1).to_csv(\"../data/T1/EGFR_compounds.csv\")"
   ]
  },
  {
   "cell_type": "markdown",
   "metadata": {},
   "source": [
    "## ディスカッション"
   ]
  },
  {
   "cell_type": "markdown",
   "metadata": {},
   "source": [
    "このチュートリアルではChEMBLのデータベースから、私たちの目的とするターゲット分子に対して取得可能な全ての生理活性データを集めました。データセットをIC50あるいはpIC50の測定値をもつものだけにフィルタリングしました。\n",
    "\n",
    "ChEMBLのデータはさまざまなデータソースに由来するものであることに注意してください。化合物のデータは世界中の様々なラボの様々な人々によって生み出されたものです。したがって、このデータセットを使って予測を行うときには注意する必要があります。結果を解釈し、自分たちの予測にどれだけの信頼を置けるか決める際には、データのソースとデータの生み出されたアッセイの一貫性について、常に慎重に考えることが重要です。\n",
    "\n",
    "次のチュートリアルでは、手に入れたデータをリピンスキーのルールオブファイブでフィルタリングし、そして好ましくない部分構造でフィルタリングします。もう一つな他の重要なステップとして、データを綺麗に整型し、重複を取り除くことが挙げられます。（まだ、）私たちのトークトリアルでは取り上げられていないので、このタスクに使えるツールとして、標準化ライブラリ ([github Francis Atkinson](https://github.com/flatkinson/standardiser)) あるいは [MolVS](https://molvs.readthedocs.io/en/latest/) というものがあることに言及しておきたいと思います。"
   ]
  },
  {
   "cell_type": "markdown",
   "metadata": {},
   "source": [
    "## クイズ"
   ]
  },
  {
   "cell_type": "markdown",
   "metadata": {},
   "source": [
    "* このトークトリアルではChEMBLから化合物と生理活性データをダウンロードしました。ChEMBLデータベースは他にどのように利用することができるしょうか？\n",
    "* IC50とEC50の違いは何でしょうか？\n",
    "* ChEMBLから取り出したデータはどのような目的で使いことができるでしょうか？"
   ]
  },
  {
   "cell_type": "code",
   "execution_count": null,
   "metadata": {},
   "outputs": [],
   "source": []
  }
 ],
 "metadata": {
  "hide_input": false,
  "kernelspec": {
   "display_name": "Environment (conda_teachopencadd)",
   "language": "python",
   "name": "conda_teachopencadd"
  },
  "language_info": {
   "codemirror_mode": {
    "name": "ipython",
    "version": 3
   },
   "file_extension": ".py",
   "mimetype": "text/x-python",
   "name": "python",
   "nbconvert_exporter": "python",
   "pygments_lexer": "ipython3",
   "version": "3.6.10"
  },
  "toc": {
   "base_numbering": 1,
   "nav_menu": {},
   "number_sections": true,
   "sideBar": true,
   "skip_h1_title": false,
   "title_cell": "Table of Contents",
   "title_sidebar": "Contents",
   "toc_cell": false,
   "toc_position": {},
   "toc_section_display": true,
   "toc_window_display": false
  },
  "varInspector": {
   "cols": {
    "lenName": 16,
    "lenType": 16,
    "lenVar": 40
   },
   "kernels_config": {
    "python": {
     "delete_cmd_postfix": "",
     "delete_cmd_prefix": "del ",
     "library": "var_list.py",
     "varRefreshCmd": "print(var_dic_list())"
    },
    "r": {
     "delete_cmd_postfix": ") ",
     "delete_cmd_prefix": "rm(",
     "library": "var_list.r",
     "varRefreshCmd": "cat(var_dic_list()) "
    }
   },
   "types_to_exclude": [
    "module",
    "function",
    "builtin_function_or_method",
    "instance",
    "_Feature"
   ],
   "window_display": false
  }
 },
 "nbformat": 4,
 "nbformat_minor": 2
}
